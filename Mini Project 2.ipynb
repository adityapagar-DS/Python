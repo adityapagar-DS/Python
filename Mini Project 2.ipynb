{
 "cells": [
  {
   "cell_type": "code",
   "execution_count": null,
   "id": "6ec5f379-86ac-4fae-bea9-49a8715fc6c2",
   "metadata": {},
   "outputs": [],
   "source": [
    "'''Mini Project: Grocery Bill Generator'''"
   ]
  },
  {
   "cell_type": "code",
   "execution_count": null,
   "id": "a61915c6-7276-48ad-8d82-e82ee47ba4ff",
   "metadata": {},
   "outputs": [],
   "source": [
    "#Create a simple billing system for a small grocery store. \n",
    "#The user can select items, input quantity, and the program calculates the total bill with tax and discounts."
   ]
  },
  {
   "cell_type": "code",
   "execution_count": 8,
   "id": "ca633ebe-9b44-40e7-a26a-6da6a1902b0e",
   "metadata": {},
   "outputs": [
    {
     "name": "stdout",
     "output_type": "stream",
     "text": [
      "Welcome to Aditya Grocery Store\n",
      "\n",
      "Items Available in Stock:\n",
      "Rice - $50/unit\n",
      "Wheat - $40/unit\n",
      "Oil - $120/unit\n",
      "Sugar - $45/unit\n",
      "Salt - $20/unit\n",
      "Milk - $30/unit\n",
      "\n",
      "Type the name of the items you want to buy (type 'done' to finish):\n"
     ]
    },
    {
     "name": "stdin",
     "output_type": "stream",
     "text": [
      "Enter the item name:  rice\n",
      "Enter quantity for Rice:  3\n",
      "Enter the item name:  sugar\n",
      "Enter quantity for Sugar:  4\n",
      "Enter the item name:  oil\n",
      "Enter quantity for Oil:  3\n",
      "Enter the item name:  sope\n"
     ]
    },
    {
     "name": "stdout",
     "output_type": "stream",
     "text": [
      "Item not found. Please select from the list.\n"
     ]
    },
    {
     "name": "stdin",
     "output_type": "stream",
     "text": [
      "Enter the item name:  wheat\n",
      "Enter quantity for Wheat:  3\n",
      "Enter the item name:  done\n"
     ]
    },
    {
     "name": "stdout",
     "output_type": "stream",
     "text": [
      "\n",
      " You selected these items:\n",
      "- Rice\n",
      "- Sugar\n",
      "- Oil\n",
      "- Wheat\n",
      "Rice x 3 = ₹150\n",
      "Sugar x 4 = ₹180\n",
      "Oil x 3 = ₹360\n",
      "Wheat x 3 = ₹120\n",
      "\n",
      " Total Amount to Pay: ₹810\n",
      " Thank you for shopping with us!\n"
     ]
    }
   ],
   "source": [
    "#Code with total, discount\n",
    "\n",
    "print(\"Welcome to Aditya Grocery Store\")\n",
    "available_items = {\"Rice\": 50, \"Wheat\": 40, \"Oil\": 120, \"Sugar\": 45, \"Salt\": 20, \"Milk\": 30}\n",
    "\n",
    "print(\"\\nItems Available in Stock:\")\n",
    "for item_name, price in available_items.items():\n",
    "    print(f\"{item_name} - ${price}/unit\")\n",
    "\n",
    "selected_items = {}\n",
    "print(\"\\nType the name of the items you want to buy (type 'done' to finish):\")\n",
    "\n",
    "while True:\n",
    "    user = input(\"Enter the item name: \").title()\n",
    "    if user == \"Done\":\n",
    "        break\n",
    "    elif user in available_items:\n",
    "        quantity = int(input(f\"Enter quantity for {user}: \"))\n",
    "        selected_items[user] = quantity\n",
    "    else:\n",
    "        print(\"Item not found. Please select from the list.\")\n",
    "\n",
    "print(\"\\n You selected these items:\")\n",
    "for item in selected_items: \n",
    "    print(f\"- {item}\") \n",
    "total = 0\n",
    "\n",
    "for item, qty in selected_items.items():\n",
    "    price = available_items[item]\n",
    "    cost = price * qty\n",
    "    print(f\"{item} x {qty} = ₹{cost}\")\n",
    "    total += cost\n",
    "\n",
    "discount = 0\n",
    "if total > 1000:\n",
    "    discount = total * 0.10  \n",
    "    print(f\"\\n Discount Applied: ₹{int(discount)}\")\n",
    "\n",
    "final_amount = total - discount\n",
    "print(f\"\\n Total Amount to Pay: ₹{int(final_amount)}\")\n",
    "print(\" Thank you for shopping with us!\")\n"
   ]
  },
  {
   "cell_type": "code",
   "execution_count": null,
   "id": "9dea8ac2-43a4-4702-9664-28bd72a9d6c6",
   "metadata": {},
   "outputs": [],
   "source": []
  },
  {
   "cell_type": "code",
   "execution_count": null,
   "id": "ea0b89f4-743b-4459-ab16-0d7c1c42cd75",
   "metadata": {},
   "outputs": [],
   "source": []
  }
 ],
 "metadata": {
  "kernelspec": {
   "display_name": "Python [conda env:base] *",
   "language": "python",
   "name": "conda-base-py"
  },
  "language_info": {
   "codemirror_mode": {
    "name": "ipython",
    "version": 3
   },
   "file_extension": ".py",
   "mimetype": "text/x-python",
   "name": "python",
   "nbconvert_exporter": "python",
   "pygments_lexer": "ipython3",
   "version": "3.13.5"
  }
 },
 "nbformat": 4,
 "nbformat_minor": 5
}
