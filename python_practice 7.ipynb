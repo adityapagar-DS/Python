{
 "cells": [
  {
   "cell_type": "code",
   "execution_count": 1,
   "id": "ac0974e0",
   "metadata": {},
   "outputs": [
    {
     "name": "stdout",
     "output_type": "stream",
     "text": [
      "Sum of squares: 385\n"
     ]
    }
   ],
   "source": [
    "#1.Write a program to find the sum of squares of first 10 natural numbers.\n",
    "total = 0\n",
    "for i in range(1, 11):\n",
    "    total += i**2\n",
    "print(\"Sum of squares:\", total)"
   ]
  },
  {
   "cell_type": "code",
   "execution_count": 2,
   "id": "346e5263",
   "metadata": {},
   "outputs": [
    {
     "name": "stdout",
     "output_type": "stream",
     "text": [
      "Common keys: {'c', 'b'}\n"
     ]
    }
   ],
   "source": [
    "#2.Write a program to find the sum of squares of first 10 natural numbers.\n",
    "dict1 = {'a': 1, 'b': 2, 'c': 3}\n",
    "dict2 = {'b': 4, 'c': 5, 'd': 6}\n",
    "common = dict1.keys() & dict2.keys()\n",
    "print(\"Common keys:\", common)"
   ]
  },
  {
   "cell_type": "code",
   "execution_count": 3,
   "id": "fad6b2df",
   "metadata": {},
   "outputs": [
    {
     "name": "stdout",
     "output_type": "stream",
     "text": [
      "Reversed string: nohtyP\n"
     ]
    }
   ],
   "source": [
    "text = \"Python\"\n",
    "rev = \"\"\n",
    "for ch in text:\n",
    "    rev = ch + rev\n",
    "print(\"Reversed string:\", rev)"
   ]
  },
  {
   "cell_type": "code",
   "execution_count": 4,
   "id": "861517a5",
   "metadata": {},
   "outputs": [
    {
     "name": "stdout",
     "output_type": "stream",
     "text": [
      "28 is a Perfect number\n"
     ]
    }
   ],
   "source": [
    "#4.Write a program to check if a number is perfect (sum of divisors equals number).\n",
    "num = 28\n",
    "s = 0\n",
    "for i in range(1, num):\n",
    "    if num % i == 0:\n",
    "        s += i\n",
    "if s == num:\n",
    "    print(num, \"is a Perfect number\")\n",
    "else:\n",
    "    print(num, \"is not a Perfect number\")"
   ]
  },
  {
   "cell_type": "code",
   "execution_count": 5,
   "id": "24183bd4",
   "metadata": {},
   "outputs": [
    {
     "name": "stdout",
     "output_type": "stream",
     "text": [
      "PythonPracticeFile\n"
     ]
    }
   ],
   "source": [
    "#5. Write a program to remove all spaces from a string.\n",
    "text = \"Python Practice File\"\n",
    "result = text.replace(\" \", \"\")\n",
    "print(result)"
   ]
  },
  {
   "cell_type": "code",
   "execution_count": 6,
   "id": "a25a8203",
   "metadata": {},
   "outputs": [
    {
     "name": "stdout",
     "output_type": "stream",
     "text": [
      "[1, 4, 9, 16, 25, 36, 49, 64, 81, 100]\n"
     ]
    }
   ],
   "source": [
    "#6.Write a program to create a list of squares using list comprehension.\n",
    "squares = [x**2 for x in range(1, 11)]\n",
    "print(squares)"
   ]
  },
  {
   "cell_type": "code",
   "execution_count": 7,
   "id": "03dcf430",
   "metadata": {},
   "outputs": [
    {
     "name": "stdout",
     "output_type": "stream",
     "text": [
      "Merged sorted list: [1, 2, 3, 4, 5, 6, 7, 8]\n"
     ]
    }
   ],
   "source": [
    "#7.Write a program to merge two sorted lists into one sorted list.\n",
    "list1 = [1, 3, 5, 7]\n",
    "list2 = [2, 4, 6, 8]\n",
    "merged = sorted(list1 + list2)\n",
    "print(\"Merged sorted list:\", merged)"
   ]
  },
  {
   "cell_type": "code",
   "execution_count": 8,
   "id": "de836109",
   "metadata": {},
   "outputs": [
    {
     "name": "stdout",
     "output_type": "stream",
     "text": [
      "All elements are the same\n"
     ]
    }
   ],
   "source": [
    "#8.Write a program to check if all elements in a tuple are the same.\n",
    "t = (5, 5, 5, 5)\n",
    "if all(x == t[0] for x in t):\n",
    "    print(\"All elements are the same\")\n",
    "else:\n",
    "    print(\"Not all elements are the same\")"
   ]
  },
  {
   "cell_type": "code",
   "execution_count": 9,
   "id": "ada86378",
   "metadata": {},
   "outputs": [
    {
     "name": "stdout",
     "output_type": "stream",
     "text": [
      "Longest word: interesting\n"
     ]
    }
   ],
   "source": [
    "#9.Write a program to find the largest word in a sentence.\n",
    "sentence = \"Python makes coding interesting\"\n",
    "words = sentence.split()\n",
    "longest = max(words, key=len)\n",
    "print(\"Longest word:\", longest)"
   ]
  },
  {
   "cell_type": "code",
   "execution_count": 11,
   "id": "1fc4f18a",
   "metadata": {},
   "outputs": [
    {
     "name": "stdout",
     "output_type": "stream",
     "text": [
      "2 5 8 11 14 17 20 23 26 29 "
     ]
    }
   ],
   "source": [
    "#10.Write a program to print the first 10 terms of an arithmetic progression (AP).\n",
    "a = 2 \n",
    "d = 3\n",
    "for i in range(10):\n",
    "    print(a + i*d, end=\" \")"
   ]
  },
  {
   "cell_type": "code",
   "execution_count": null,
   "id": "24e3a6d3-60db-475f-9d9e-532cabb67c83",
   "metadata": {},
   "outputs": [],
   "source": []
  }
 ],
 "metadata": {
  "kernelspec": {
   "display_name": "Python [conda env:base] *",
   "language": "python",
   "name": "conda-base-py"
  },
  "language_info": {
   "codemirror_mode": {
    "name": "ipython",
    "version": 3
   },
   "file_extension": ".py",
   "mimetype": "text/x-python",
   "name": "python",
   "nbconvert_exporter": "python",
   "pygments_lexer": "ipython3",
   "version": "3.13.5"
  }
 },
 "nbformat": 4,
 "nbformat_minor": 5
}
