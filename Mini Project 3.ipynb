{
 "cells": [
  {
   "cell_type": "code",
   "execution_count": null,
   "id": "5ae53cf4-7dd6-4396-9763-d42342a4a0c6",
   "metadata": {},
   "outputs": [],
   "source": [
    "'''PYTHON MINI PROJECT'''"
   ]
  },
  {
   "cell_type": "code",
   "execution_count": null,
   "id": "895662e2-cf50-493c-b2a5-5d18d10b532e",
   "metadata": {},
   "outputs": [],
   "source": [
    "'''Movie Ticket Booking System'''"
   ]
  },
  {
   "cell_type": "code",
   "execution_count": 14,
   "id": "15b3b257-3ee2-4cc3-af4e-bc746d3c39e6",
   "metadata": {},
   "outputs": [
    {
     "name": "stdout",
     "output_type": "stream",
     "text": [
      "\n",
      " ****************************************\n",
      "Welcome to Aditya Cinemas Gruha\n",
      "\n",
      " ****************************************\n",
      "\n",
      " Movie available now in theatre\n",
      "\n",
      " ****************************************\n",
      "Jawan - ₹150/person\n",
      "Pathaan - ₹200/person\n",
      "Dangal - ₹120/person\n",
      "KGF - ₹180/person\n",
      "Pushpa - ₹160/person\n",
      "\n",
      " ****************************************\n",
      "\n",
      "Type the name of the movie you want to see (type 'done' to finish):\n",
      "\n",
      " ****************************************\n"
     ]
    },
    {
     "name": "stdin",
     "output_type": "stream",
     "text": [
      "Entre movie name jawan\n",
      "How many tickets for Jawan?  4\n",
      "Entre movie name pushpa\n",
      "How many tickets for Pushpa?  2\n",
      "Entre movie name dangal\n",
      "How many tickets for Dangal?  4\n",
      "Entre movie name done\n"
     ]
    },
    {
     "name": "stdout",
     "output_type": "stream",
     "text": [
      "\n",
      " ****************************************\n",
      "\n",
      " Your Booking\n",
      "\n",
      " ****************************************\n",
      "Jawan: 4 tickets x ₹150 = ₹600\n",
      "Pushpa: 2 tickets x ₹160 = ₹320\n",
      "Dangal: 4 tickets x ₹120 = ₹480\n",
      "\n",
      " Discount Applied: ₹140 (10% off)\n",
      "\n",
      " ****************************************\n",
      "\n",
      " Total Bill After Discount: ₹1260\n",
      "\n",
      " ****************************************\n",
      "\n",
      " Thank you for booking with Aditya Cinemas Gruha!\n"
     ]
    }
   ],
   "source": [
    "#Movie ticket booking system with discounts \n",
    "print(\"\\n ****************************************\")\n",
    "print (\"Welcome to Aditya Cinemas Gruha\")\n",
    "\n",
    "shows = {\"Jawan\": 150, \"Pathaan\": 200, \"Dangal\": 120, \"KGF\": 180, \"Pushpa\": 160}\n",
    "\n",
    "print(\"\\n ****************************************\")\n",
    "print (\"\\n Movie available now in theatre\")\n",
    "print(\"\\n ****************************************\")\n",
    "for show, price in shows.items():\n",
    "    print (f\"{show} - ₹{price}/person\")\n",
    "\n",
    "booked_tickets = {}\n",
    "\n",
    "print(\"\\n ****************************************\")\n",
    "print (\"\\nType the name of the movie you want to see (type 'done' to finish):\")\n",
    "print(\"\\n ****************************************\")\n",
    "while True:\n",
    "    choice = input (\"Entre movie name\").title()\n",
    "    if choice == \"Done\":\n",
    "        break\n",
    "    if choice in shows:\n",
    "        qty = int(input(f\"How many tickets for {choice}? \"))\n",
    "\n",
    "        if choice in booked_tickets:\n",
    "            booked_tickets[choice]+=qty\n",
    "\n",
    "        else:\n",
    "            booked_tickets[choice] = qty\n",
    "    else:\n",
    "        print(\"Movie not available. Try again.\")\n",
    "\n",
    "print(\"\\n ****************************************\")\n",
    "print(\"\\n Your Booking\")\n",
    "print(\"\\n ****************************************\")\n",
    "total = 0\n",
    "for show, qty in booked_tickets.items():\n",
    "    price = shows[show]\n",
    "    cost= price*qty\n",
    "    print(f\"{show}: {qty} tickets x ₹{price} = ₹{cost}\")\n",
    "    total += cost\n",
    "\n",
    "discount = 0\n",
    "if total > 500:\n",
    "    discount = total * 0.10\n",
    "    print(f\"\\n Discount Applied: ₹{int(discount)} (10% off)\")\n",
    "\n",
    "final_amount = total - discount\n",
    "print(\"\\n ****************************************\")\n",
    "print(f\"\\n Total Bill After Discount: ₹{int(final_amount)}\")\n",
    "print(\"\\n ****************************************\")\n",
    "print(\"\\n Thank you for booking with Aditya Cinemas Gruha!\")\n"
   ]
  },
  {
   "cell_type": "code",
   "execution_count": null,
   "id": "07c8c25a-9bef-46b5-9c67-5db6883f962c",
   "metadata": {},
   "outputs": [],
   "source": []
  }
 ],
 "metadata": {
  "kernelspec": {
   "display_name": "Python [conda env:base] *",
   "language": "python",
   "name": "conda-base-py"
  },
  "language_info": {
   "codemirror_mode": {
    "name": "ipython",
    "version": 3
   },
   "file_extension": ".py",
   "mimetype": "text/x-python",
   "name": "python",
   "nbconvert_exporter": "python",
   "pygments_lexer": "ipython3",
   "version": "3.13.5"
  }
 },
 "nbformat": 4,
 "nbformat_minor": 5
}
