{
 "cells": [
  {
   "cell_type": "code",
   "execution_count": null,
   "id": "aa38f458-50bd-472c-8a9c-e6bd509c9e50",
   "metadata": {},
   "outputs": [],
   "source": [
    "# Python Practice Questions with Solutions"
   ]
  },
  {
   "cell_type": "code",
   "execution_count": 2,
   "id": "0fc144b9-5c41-4dda-a4dc-9216ed2bc75f",
   "metadata": {},
   "outputs": [
    {
     "name": "stdout",
     "output_type": "stream",
     "text": [
      "Factorial of 5: 120\n"
     ]
    }
   ],
   "source": [
    "# 1. Factorial of a number\n",
    "def factorial(n):\n",
    "    result = 1\n",
    "    for i in range(1, n+1):\n",
    "        result *= i\n",
    "    return result\n",
    "\n",
    "print(\"Factorial of 5:\", factorial(5))"
   ]
  },
  {
   "cell_type": "code",
   "execution_count": 3,
   "id": "b5800bbb-623d-471a-b5a2-60c0ff020329",
   "metadata": {},
   "outputs": [
    {
     "name": "stdout",
     "output_type": "stream",
     "text": [
      "Is 11 prime?: True\n"
     ]
    }
   ],
   "source": [
    "# 2. Prime number check\n",
    "def is_prime(num):\n",
    "    if num <= 1:\n",
    "        return False\n",
    "    for i in range(2, int(num**0.5)+1):\n",
    "        if num % i == 0:\n",
    "            return False\n",
    "    return True\n",
    "\n",
    "print(\"Is 11 prime?:\", is_prime(11))"
   ]
  },
  {
   "cell_type": "code",
   "execution_count": 4,
   "id": "29f5aa45-fb18-411e-910f-2db70772c524",
   "metadata": {},
   "outputs": [
    {
     "name": "stdout",
     "output_type": "stream",
     "text": [
      "Is 'madam' palindrome?: True\n"
     ]
    }
   ],
   "source": [
    "# 3. Palindrome check\n",
    "def is_palindrome(s):\n",
    "    return s == s[::-1]\n",
    "\n",
    "print(\"Is 'madam' palindrome?:\", is_palindrome('madam'))"
   ]
  },
  {
   "cell_type": "code",
   "execution_count": 5,
   "id": "ae0236b7-b8de-430b-872c-5f727c592d1c",
   "metadata": {},
   "outputs": [
    {
     "name": "stdout",
     "output_type": "stream",
     "text": [
      "Sum of digits of 1234: 10\n"
     ]
    }
   ],
   "source": [
    "# 4. Sum of digits\n",
    "def sum_of_digits(n):\n",
    "    return sum(int(digit) for digit in str(n))\n",
    "\n",
    "print(\"Sum of digits of 1234:\", sum_of_digits(1234))"
   ]
  },
  {
   "cell_type": "code",
   "execution_count": 6,
   "id": "b9c715e3-2d6f-4808-8303-6d1081fff64f",
   "metadata": {},
   "outputs": [
    {
     "name": "stdout",
     "output_type": "stream",
     "text": [
      "Fibonacci 10 terms: [0, 1, 1, 2, 3, 5, 8, 13, 21, 34]\n"
     ]
    }
   ],
   "source": [
    "# 5. Fibonacci series up to n terms\n",
    "def fibonacci(n):\n",
    "    seq = [0, 1]\n",
    "    for _ in range(2, n):\n",
    "        seq.append(seq[-1] + seq[-2])\n",
    "    return seq\n",
    "\n",
    "print(\"Fibonacci 10 terms:\", fibonacci(10))"
   ]
  },
  {
   "cell_type": "code",
   "execution_count": 7,
   "id": "0faf360b-c3d8-4a5e-a591-a43f1957193f",
   "metadata": {},
   "outputs": [
    {
     "name": "stdout",
     "output_type": "stream",
     "text": [
      "Is 153 Armstrong?: True\n"
     ]
    }
   ],
   "source": [
    "# 6. Armstrong number check\n",
    "def is_armstrong(n):\n",
    "    digits = str(n)\n",
    "    power = len(digits)\n",
    "    total = sum(int(d)**power for d in digits)\n",
    "    return total == n\n",
    "\n",
    "print(\"Is 153 Armstrong?:\", is_armstrong(153))"
   ]
  },
  {
   "cell_type": "code",
   "execution_count": 8,
   "id": "9608ffd2-0519-4596-9862-581190d65c62",
   "metadata": {},
   "outputs": [
    {
     "name": "stdout",
     "output_type": "stream",
     "text": [
      "Reverse of 12345: 54321\n"
     ]
    }
   ],
   "source": [
    "# 7. Reverse a number\n",
    "def reverse_number(n):\n",
    "    return int(str(n)[::-1])\n",
    "\n",
    "print(\"Reverse of 12345:\", reverse_number(12345))"
   ]
  },
  {
   "cell_type": "code",
   "execution_count": 9,
   "id": "41ded997-b4c6-45e0-b4d0-4ab7a66714e5",
   "metadata": {},
   "outputs": [
    {
     "name": "stdout",
     "output_type": "stream",
     "text": [
      "LCM of 12 and 18: 36\n"
     ]
    }
   ],
   "source": [
    "# 8. LCM of two numbers\n",
    "def lcm(a, b):\n",
    "    greater = max(a, b)\n",
    "    while True:\n",
    "        if greater % a == 0 and greater % b == 0:\n",
    "            return greater\n",
    "        greater += 1\n",
    "\n",
    "print(\"LCM of 12 and 18:\", lcm(12, 18))"
   ]
  },
  {
   "cell_type": "code",
   "execution_count": 11,
   "id": "28cf4afa-ac0b-4945-ad4e-87106c009ad6",
   "metadata": {},
   "outputs": [
    {
     "name": "stdout",
     "output_type": "stream",
     "text": [
      "Even and Odd sum till 10: (30, 25)\n"
     ]
    }
   ],
   "source": [
    "# 9. Even/Odd sum from 1 to n\n",
    "def even_odd_sum(n):\n",
    "    even_sum = sum(i for i in range(1, n+1) if i % 2 == 0)\n",
    "    odd_sum = sum(i for i in range(1, n+1) if i % 2 != 0)\n",
    "    return even_sum, odd_sum\n",
    "\n",
    "print(\"Even and Odd sum till 10:\", even_odd_sum(10))\n"
   ]
  },
  {
   "cell_type": "code",
   "execution_count": 12,
   "id": "a033c858-0dc0-4cc9-a032-1e7fbf95d28e",
   "metadata": {},
   "outputs": [
    {
     "name": "stdout",
     "output_type": "stream",
     "text": [
      "Number Pattern Triangle:\n",
      "1\n",
      "1 2\n",
      "1 2 3\n",
      "1 2 3 4\n",
      "1 2 3 4 5\n"
     ]
    }
   ],
   "source": [
    "# 10. Number pattern triangle\n",
    "def number_triangle(rows):\n",
    "    for i in range(1, rows+1):\n",
    "        print(\" \".join(str(j) for j in range(1, i+1)))\n",
    "\n",
    "print(\"Number Pattern Triangle:\")\n",
    "number_triangle(5)"
   ]
  },
  {
   "cell_type": "code",
   "execution_count": null,
   "id": "14f23f92-f1b2-4cbb-802c-fcc78071e2f4",
   "metadata": {},
   "outputs": [],
   "source": []
  }
 ],
 "metadata": {
  "kernelspec": {
   "display_name": "Python [conda env:base] *",
   "language": "python",
   "name": "conda-base-py"
  },
  "language_info": {
   "codemirror_mode": {
    "name": "ipython",
    "version": 3
   },
   "file_extension": ".py",
   "mimetype": "text/x-python",
   "name": "python",
   "nbconvert_exporter": "python",
   "pygments_lexer": "ipython3",
   "version": "3.13.5"
  }
 },
 "nbformat": 4,
 "nbformat_minor": 5
}
