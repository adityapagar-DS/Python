{
 "cells": [
  {
   "cell_type": "code",
   "execution_count": null,
   "id": "e0fcd9c3-1ee1-4c69-9adb-e2ed64876002",
   "metadata": {},
   "outputs": [],
   "source": [
    "'''PYTHON MINI PROJECT'''"
   ]
  },
  {
   "cell_type": "code",
   "execution_count": null,
   "id": "09ff18b0-841d-44ac-9ec5-55d5f520d1a0",
   "metadata": {},
   "outputs": [],
   "source": [
    "'''Bookstore Billing System'''"
   ]
  },
  {
   "cell_type": "code",
   "execution_count": 3,
   "id": "b1d30e84-19fa-455f-b4e2-67756a08446e",
   "metadata": {},
   "outputs": [
    {
     "name": "stdout",
     "output_type": "stream",
     "text": [
      "Welcome to Aditya's Bookstore!\n",
      "\n",
      " Books Available in Store\n",
      "Atomic Habits - ₹350/-\n",
      "The Alchemist - ₹300/-\n",
      "Rich Dad Poor Dad - ₹250/-\n",
      "Ikigai - ₹200/-\n",
      "Wings of Fire - ₹180/-\n"
     ]
    },
    {
     "name": "stdin",
     "output_type": "stream",
     "text": [
      "\n",
      " Entre the book name Or (Type 'Done' to finish): atomic habits\n",
      "How many copies you want of Atomic Habits: 2\n",
      "\n",
      " Entre the book name Or (Type 'Done' to finish): ikigai\n",
      "How many copies you want of Ikigai: 4\n",
      "\n",
      " Entre the book name Or (Type 'Done' to finish): done\n"
     ]
    },
    {
     "name": "stdout",
     "output_type": "stream",
     "text": [
      "\n",
      " Your Recipt\n",
      "Atomic Habits: 2 x ₹350 = ₹350\n",
      "Ikigai: 4 x ₹200 = ₹200\n",
      "\n",
      " Discount Applied: ₹55 (10% off)\n",
      "\n",
      " Total Bill: ₹495\n",
      "\n",
      " Thanks for shopping at Aditya's Bookstore!\n"
     ]
    }
   ],
   "source": [
    "#Bookstore billing system with discount\n",
    "\n",
    "books = {\"Atomic Habits\": 350, \"The Alchemist\": 300, \"Rich Dad Poor Dad\": 250, \"Ikigai\": 200, \"Wings of Fire\": 180}\n",
    "\n",
    "def display_books():\n",
    "    print (\"\\n Books Available in Store\")\n",
    "    for book,price in books.items():\n",
    "        print (f\"{book} - ₹{price}/-\")\n",
    "\n",
    "def billing_system():\n",
    "    cart= {}\n",
    "\n",
    "    while True:\n",
    "        choice = input (\"\\n Entre the book name Or (Type 'Done' to finish):\").title()\n",
    "        if choice == \"Done\":\n",
    "            break\n",
    "\n",
    "        elif choice in books:\n",
    "            qty = int (input(f\"How many copies you want of {choice}:\"))\n",
    "            cart [choice]= cart.get(choice, 0) + qty\n",
    "        else:\n",
    "            print(\"Book not available. Please select from the list.\")\n",
    "\n",
    "    return cart\n",
    "\n",
    "\n",
    "def calculate_bill (cart):\n",
    "    print (\"\\n Your Recipt\")\n",
    "    total = 0\n",
    "    for book,qty in cart.items():\n",
    "        price = books [book]\n",
    "        cost = price\n",
    "        print(f\"{book}: {qty} x ₹{price} = ₹{cost}\")\n",
    "        total += cost\n",
    "\n",
    "    discount = 0\n",
    "    if total > 0:\n",
    "        discount = total*0.10\n",
    "        print(f\"\\n Discount Applied: ₹{int(discount)} (10% off)\")\n",
    "\n",
    "    final_amount = total - discount\n",
    "    print(f\"\\n Total Bill: ₹{int(final_amount)}\")\n",
    "    print(\"\\n Thanks for shopping at Aditya's Bookstore!\")\n",
    "\n",
    "print(\"Welcome to Aditya's Bookstore!\")\n",
    "display_books()\n",
    "user_cart = billing_system()\n",
    "calculate_bill(user_cart)"
   ]
  },
  {
   "cell_type": "code",
   "execution_count": null,
   "id": "bf500eab-48ca-4636-90c4-ab7f94fb9d29",
   "metadata": {},
   "outputs": [],
   "source": []
  }
 ],
 "metadata": {
  "kernelspec": {
   "display_name": "Python [conda env:base] *",
   "language": "python",
   "name": "conda-base-py"
  },
  "language_info": {
   "codemirror_mode": {
    "name": "ipython",
    "version": 3
   },
   "file_extension": ".py",
   "mimetype": "text/x-python",
   "name": "python",
   "nbconvert_exporter": "python",
   "pygments_lexer": "ipython3",
   "version": "3.13.5"
  }
 },
 "nbformat": 4,
 "nbformat_minor": 5
}
