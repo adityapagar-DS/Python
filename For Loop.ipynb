{
 "cells": [
  {
   "cell_type": "code",
   "execution_count": null,
   "id": "1400c1b6-002c-4cd2-85a1-d37839d933d5",
   "metadata": {},
   "outputs": [],
   "source": [
    "'''For Loop Functions'''"
   ]
  },
  {
   "cell_type": "code",
   "execution_count": 9,
   "id": "0421f114-6ff1-41c8-bb43-cb7e915ff484",
   "metadata": {},
   "outputs": [
    {
     "name": "stdout",
     "output_type": "stream",
     "text": [
      "A\n",
      "d\n",
      "i\n",
      "t\n",
      "y\n",
      "a\n"
     ]
    }
   ],
   "source": [
    "# 1. Print each letter in the string \"Aditya\"\n",
    "for let in \"Aditya\":\n",
    "    print(let)"
   ]
  },
  {
   "cell_type": "code",
   "execution_count": 12,
   "id": "5482833e-61f0-4f74-9ec8-322884b8fc80",
   "metadata": {},
   "outputs": [
    {
     "name": "stdout",
     "output_type": "stream",
     "text": [
      "2\n",
      "4\n",
      "6\n",
      "8\n",
      "10\n"
     ]
    }
   ],
   "source": [
    "# 2. Print even numbers from a list.\n",
    "l1 = [1,2,3,4,5,6,7,8,9,10]\n",
    "for n in l1:\n",
    "    if n%2 == 0:\n",
    "         print (n)"
   ]
  },
  {
   "cell_type": "code",
   "execution_count": 16,
   "id": "6f9536a3-3eea-4798-82c7-dbfd3647088d",
   "metadata": {},
   "outputs": [
    {
     "name": "stdout",
     "output_type": "stream",
     "text": [
      "1\n",
      "4\n",
      "9\n",
      "16\n",
      "25\n"
     ]
    }
   ],
   "source": [
    "# 3. Print the square of numbers from 1 to 5.\n",
    "l1 = [1,2,3,4,5]\n",
    "for i in l1:\n",
    "    print (i**2)"
   ]
  },
  {
   "cell_type": "code",
   "execution_count": 17,
   "id": "c647a573-3640-4023-93d9-3111895799e0",
   "metadata": {},
   "outputs": [
    {
     "name": "stdout",
     "output_type": "stream",
     "text": [
      "0 pen\n",
      "1 pencil\n",
      "2 eraser\n"
     ]
    }
   ],
   "source": [
    "# 4. Print index and value using enumerate().\n",
    "items = ['pen', 'pencil', 'eraser']\n",
    "for index, item in enumerate(items):\n",
    "    print(index, item)"
   ]
  },
  {
   "cell_type": "code",
   "execution_count": 19,
   "id": "7fe87f53-b8e3-40aa-ba08-d906fdc59148",
   "metadata": {},
   "outputs": [
    {
     "name": "stdout",
     "output_type": "stream",
     "text": [
      "1 Aditya\n",
      "2 Yash\n",
      "3 Shiv\n"
     ]
    }
   ],
   "source": [
    "# 5. Combine two lists using zip().\n",
    "a = ('Aditya', 'Yash', 'Shiv')\n",
    "b = [1,2,3]\n",
    "for x,y in zip (b,a):\n",
    "    print (x,y)"
   ]
  },
  {
   "cell_type": "code",
   "execution_count": 27,
   "id": "516882d6-803f-4a6d-9cc0-971383034490",
   "metadata": {},
   "outputs": [
    {
     "name": "stdout",
     "output_type": "stream",
     "text": [
      "6\n"
     ]
    }
   ],
   "source": [
    "# 6. Count how many times \"a\" occurs in a string.\n",
    "a = \"Aditya Dhananjay Pagar\"\n",
    "i = 0\n",
    "for ch in a:\n",
    "    if ch == 'a':\n",
    "        i += 1\n",
    "print(i)\n",
    "    "
   ]
  },
  {
   "cell_type": "code",
   "execution_count": 29,
   "id": "928573ed-f9f6-4468-ae82-a559c9db916a",
   "metadata": {},
   "outputs": [
    {
     "name": "stdout",
     "output_type": "stream",
     "text": [
      "a 1\n",
      "b 2\n"
     ]
    }
   ],
   "source": [
    "# 7. Print keys and values from a dictionary.\n",
    "data = {'a': 1, 'b': 2}\n",
    "for a, b in data.items():\n",
    "    print(a, b)"
   ]
  },
  {
   "cell_type": "code",
   "execution_count": 30,
   "id": "e8d5514c-c4e8-4b7e-bf6a-2be95cd93584",
   "metadata": {},
   "outputs": [
    {
     "name": "stdout",
     "output_type": "stream",
     "text": [
      "10\n"
     ]
    }
   ],
   "source": [
    "# 8. Sum all elements in a list using for loop.\n",
    "numbers = [1, 2, 3, 4]\n",
    "total = 0\n",
    "for n in numbers:\n",
    "    total += n\n",
    "print(total)"
   ]
  },
  {
   "cell_type": "code",
   "execution_count": 34,
   "id": "d1baf445-2eaf-4c84-8f42-9b41729e4237",
   "metadata": {},
   "outputs": [
    {
     "name": "stdout",
     "output_type": "stream",
     "text": [
      "[1, 3, 5]\n"
     ]
    }
   ],
   "source": [
    "# 9. Filter out odd numbers into a new list.\n",
    "numbers = [1, 2, 3, 4, 5]\n",
    "odds = []\n",
    "for n in numbers:\n",
    "    if n % 2 != 0:\n",
    "        odds.append(n)\n",
    "print(odds)\n",
    "    "
   ]
  },
  {
   "cell_type": "code",
   "execution_count": 36,
   "id": "23e188ae-dc24-49c9-98ad-de3d6a7a50ab",
   "metadata": {},
   "outputs": [
    {
     "name": "stdout",
     "output_type": "stream",
     "text": [
      "[1, 8, 27, 64, 125, 216, 343, 512, 729, 1000]\n"
     ]
    }
   ],
   "source": [
    "# 10. Create a list of cube of numbers from 1 to 10.\n",
    "cubes = [x**3 for x in range(1, 11)]\n",
    "print(cubes)"
   ]
  }
 ],
 "metadata": {
  "kernelspec": {
   "display_name": "Python [conda env:base] *",
   "language": "python",
   "name": "conda-base-py"
  },
  "language_info": {
   "codemirror_mode": {
    "name": "ipython",
    "version": 3
   },
   "file_extension": ".py",
   "mimetype": "text/x-python",
   "name": "python",
   "nbconvert_exporter": "python",
   "pygments_lexer": "ipython3",
   "version": "3.13.5"
  }
 },
 "nbformat": 4,
 "nbformat_minor": 5
}
