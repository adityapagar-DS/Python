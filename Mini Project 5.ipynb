{
 "cells": [
  {
   "cell_type": "code",
   "execution_count": null,
   "id": "5d67d172-2874-41e8-a57a-023a2991974f",
   "metadata": {},
   "outputs": [],
   "source": [
    "'''PYTHON MINI PROJECT'''"
   ]
  },
  {
   "cell_type": "code",
   "execution_count": null,
   "id": "19b56202-cca8-49b2-aadd-2c9da0964512",
   "metadata": {},
   "outputs": [],
   "source": [
    "'''ATM Simulation System'''"
   ]
  },
  {
   "cell_type": "code",
   "execution_count": 4,
   "id": "7a976401-0f9a-4350-a520-a4693e9ae243",
   "metadata": {},
   "outputs": [
    {
     "name": "stdout",
     "output_type": "stream",
     "text": [
      "Welcome to SBI ATM\n"
     ]
    },
    {
     "name": "stdin",
     "output_type": "stream",
     "text": [
      "Enter your 4 Digit Pin:  1179\n"
     ]
    },
    {
     "name": "stdout",
     "output_type": "stream",
     "text": [
      "Incorrect Pin, you have only 2 attempts left!!!\n"
     ]
    },
    {
     "name": "stdin",
     "output_type": "stream",
     "text": [
      "Enter your 4 Digit Pin:  9860\n"
     ]
    },
    {
     "name": "stdout",
     "output_type": "stream",
     "text": [
      "Access Granted! \n",
      "\n",
      "\n",
      " Choose an option\n",
      "1. Check Balance\n",
      "2. Deposit Money\n",
      "3. Withdraw Money\n",
      "4. Exit\n"
     ]
    },
    {
     "name": "stdin",
     "output_type": "stream",
     "text": [
      "\n",
      " Entre your option (1-4.): 1\n"
     ]
    },
    {
     "name": "stdout",
     "output_type": "stream",
     "text": [
      "Your balance amount : ₹10000\n",
      "\n",
      " Thank you for using SBI ATM.\n",
      "\n",
      " Choose an option\n",
      "1. Check Balance\n",
      "2. Deposit Money\n",
      "3. Withdraw Money\n",
      "4. Exit\n"
     ]
    },
    {
     "name": "stdin",
     "output_type": "stream",
     "text": [
      "\n",
      " Entre your option (1-4.): 2\n",
      "Entre the amount you want to deposite:₹ 200\n"
     ]
    },
    {
     "name": "stdout",
     "output_type": "stream",
     "text": [
      " ₹ 200 is successfully deposited to your account\n",
      "Your balance: ₹10200\n",
      "\n",
      " Thank you for using SBI ATM.\n",
      "\n",
      " Choose an option\n",
      "1. Check Balance\n",
      "2. Deposit Money\n",
      "3. Withdraw Money\n",
      "4. Exit\n"
     ]
    },
    {
     "name": "stdin",
     "output_type": "stream",
     "text": [
      "\n",
      " Entre your option (1-4.): 3\n",
      "Entre the amount you want to withdraw:₹ 200\n"
     ]
    },
    {
     "name": "stdout",
     "output_type": "stream",
     "text": [
      " ₹ 200 is successfully withdraw from your account\n",
      "Your balance: ₹10000\n",
      "\n",
      "Thank you for using SBI ATM.\n",
      "\n",
      " Choose an option\n",
      "1. Check Balance\n",
      "2. Deposit Money\n",
      "3. Withdraw Money\n",
      "4. Exit\n"
     ]
    },
    {
     "name": "stdin",
     "output_type": "stream",
     "text": [
      "\n",
      " Entre your option (1-4.): 4\n"
     ]
    },
    {
     "name": "stdout",
     "output_type": "stream",
     "text": [
      "Exiting... Thank you for using SBI ATM\n"
     ]
    }
   ],
   "source": [
    "#ATM Simulation System\n",
    "#(Check balance / Deposit money / Withdraw money / Exit system\n",
    "\n",
    "print (\"Welcome to SBI ATM\")\n",
    "\n",
    "#Verification\n",
    "your_pin = \"9860\" \n",
    "attempts = 3\n",
    "\n",
    "while attempts > 0:\n",
    "    pin = input(\"Enter your 4 Digit Pin: \")\n",
    "    if pin == your_pin:\n",
    "        print(\"Access Granted! \\n\")\n",
    "        break\n",
    "    else:\n",
    "        attempts -= 1\n",
    "        print(f\"Incorrect Pin, you have only {attempts} attempts left!!!\")\n",
    "\n",
    "if attempts == 0:\n",
    "    print(f\"Too many incorrect attempts. Exiting...\")\n",
    "    \n",
    "\n",
    "#ATM Started\n",
    "balance = 10000\n",
    "\n",
    "while True:\n",
    "    print (\"\\n Choose an option\")\n",
    "    print (\"1. Check Balance\")\n",
    "    print (\"2. Deposit Money\")\n",
    "    print (\"3. Withdraw Money\")\n",
    "    print (\"4. Exit\")\n",
    "\n",
    "    choice = input (\"\\n Entre your option (1-4.):\")\n",
    "\n",
    "    if choice == \"1\":\n",
    "        print (f\"Your balance amount : ₹{balance}\")\n",
    "        print(\"\\n Thank you for using SBI ATM.\")\n",
    "\n",
    "        \n",
    "    elif choice == \"2\":\n",
    "        amount = int(input(\"Entre the amount you want to deposite:₹\"))\n",
    "        if amount > 0:\n",
    "            balance += amount\n",
    "            print (f\" ₹ {amount} is successfully deposited to your account\")\n",
    "        else:\n",
    "            print(\"Invalid deposit amount.\")\n",
    "        print(f\"Your balance: ₹{balance}\")\n",
    "        print(\"\\n Thank you for using SBI ATM.\")\n",
    "\n",
    "    \n",
    "    elif choice == \"3\":\n",
    "        amount = int(input(\"Entre the amount you want to withdraw:₹\"))\n",
    "        if amount > balance:\n",
    "            print(\"Insufficient balance!\")\n",
    "        elif amount > 0:\n",
    "            balance -= amount\n",
    "            print (f\" ₹ {amount} is successfully withdraw from your account\")\n",
    "        else:\n",
    "            print (\"Invalid Withdraw amount.\")\n",
    "        print(f\"Your balance: ₹{balance}\")\n",
    "        print(\"\\nThank you for using SBI ATM.\")\n",
    "\n",
    "    \n",
    "    elif choice == \"4\":\n",
    "        print (\"Exiting... Thank you for using SBI ATM\")\n",
    "        break\n",
    "\n",
    "    else:\n",
    "        print(\"Invalid choice. Please select between 1-4.\")"
   ]
  },
  {
   "cell_type": "code",
   "execution_count": null,
   "id": "6090594c-ff80-4ace-a192-620a9efb06f6",
   "metadata": {},
   "outputs": [],
   "source": []
  }
 ],
 "metadata": {
  "kernelspec": {
   "display_name": "Python [conda env:base] *",
   "language": "python",
   "name": "conda-base-py"
  },
  "language_info": {
   "codemirror_mode": {
    "name": "ipython",
    "version": 3
   },
   "file_extension": ".py",
   "mimetype": "text/x-python",
   "name": "python",
   "nbconvert_exporter": "python",
   "pygments_lexer": "ipython3",
   "version": "3.13.5"
  }
 },
 "nbformat": 4,
 "nbformat_minor": 5
}
