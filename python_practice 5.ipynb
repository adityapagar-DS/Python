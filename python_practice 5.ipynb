{
 "cells": [
  {
   "cell_type": "code",
   "execution_count": 1,
   "id": "326dd718",
   "metadata": {},
   "outputs": [
    {
     "name": "stdout",
     "output_type": "stream",
     "text": [
      "Largest number: 89\n"
     ]
    }
   ],
   "source": [
    "#1.Write a program to find the largest element in a list without using max().\n",
    "numbers = [15, 72, 43, 89, 27]\n",
    "largest = numbers[0]\n",
    "for num in numbers:\n",
    "    if num > largest:\n",
    "        largest = num\n",
    "print(\"Largest number:\", largest)"
   ]
  },
  {
   "cell_type": "code",
   "execution_count": 2,
   "id": "4599c7e7",
   "metadata": {},
   "outputs": [
    {
     "name": "stdout",
     "output_type": "stream",
     "text": [
      "{'python': 2, 'practice': 1, 'with': 1, 'code': 1}\n"
     ]
    }
   ],
   "source": [
    "#2.Write a program to count the frequency of each word in a string.\n",
    "text = \"python practice with python code\"\n",
    "words = text.split()\n",
    "word_count = {}\n",
    "for w in words:\n",
    "    word_count[w] = word_count.get(w, 0) + 1\n",
    "print(word_count)"
   ]
  },
  {
   "cell_type": "code",
   "execution_count": 3,
   "id": "03128cc7",
   "metadata": {},
   "outputs": [
    {
     "name": "stdout",
     "output_type": "stream",
     "text": [
      "{'a': 1, 'b': 2, 'c': 3}\n"
     ]
    }
   ],
   "source": [
    "#3.Write a program to convert a list of tuples into a dictionary.\n",
    "pairs = [(\"a\", 1), (\"b\", 2), (\"c\", 3)]\n",
    "d = dict(pairs)\n",
    "print(d)"
   ]
  },
  {
   "cell_type": "code",
   "execution_count": 4,
   "id": "723f8b4c",
   "metadata": {},
   "outputs": [
    {
     "name": "stdout",
     "output_type": "stream",
     "text": [
      "Unique elements: [1, 2, 3, 4, 5]\n"
     ]
    }
   ],
   "source": [
    "#4. Write a program to find all unique elements in a list using a loop (without set).\n",
    "nums = [1, 2, 2, 3, 4, 4, 5]\n",
    "unique = []\n",
    "for n in nums:\n",
    "    if n not in unique:\n",
    "        unique.append(n)\n",
    "print(\"Unique elements:\", unique)"
   ]
  },
  {
   "cell_type": "code",
   "execution_count": 5,
   "id": "dc25e518",
   "metadata": {},
   "outputs": [
    {
     "name": "stdout",
     "output_type": "stream",
     "text": [
      "Factorial of 5: 120\n"
     ]
    }
   ],
   "source": [
    "#5. Write a program to calculate the factorial of a number using recursion.\n",
    "def factorial(n):\n",
    "    if n == 0 or n == 1:\n",
    "        return 1\n",
    "    return n * factorial(n-1)\n",
    "\n",
    "print(\"Factorial of 5:\", factorial(5))"
   ]
  },
  {
   "cell_type": "code",
   "execution_count": 6,
   "id": "71eeec49",
   "metadata": {},
   "outputs": [
    {
     "name": "stdout",
     "output_type": "stream",
     "text": [
      "Ascending: [4, 12, 23, 56, 78]\n",
      "Descending: [78, 56, 23, 12, 4]\n"
     ]
    }
   ],
   "source": [
    "#6.Write a program to sort a list in ascending and descending order.\n",
    "lst = [12, 4, 56, 23, 78]\n",
    "print(\"Ascending:\", sorted(lst))\n",
    "print(\"Descending:\", sorted(lst, reverse=True))"
   ]
  },
  {
   "cell_type": "code",
   "execution_count": 7,
   "id": "a257df47",
   "metadata": {},
   "outputs": [
    {
     "name": "stdout",
     "output_type": "stream",
     "text": [
      "153 is an Armstrong number\n"
     ]
    }
   ],
   "source": [
    "#7.Write a program to check if a number is Armstrong.\n",
    "num = 153\n",
    "power = len(str(num))\n",
    "sum_digits = sum(int(digit)**power for digit in str(num))\n",
    "if sum_digits == num:\n",
    "    print(num, \"is an Armstrong number\")\n",
    "else:\n",
    "    print(num, \"is not an Armstrong number\")"
   ]
  },
  {
   "cell_type": "code",
   "execution_count": 8,
   "id": "9a7e55ab",
   "metadata": {},
   "outputs": [
    {
     "name": "stdout",
     "output_type": "stream",
     "text": [
      "{'name': 'Aditya', 'age': 23, 'course': 'Python'}\n"
     ]
    }
   ],
   "source": [
    "#8.Write a program to merge two lists into a dictionary (one as keys, one as values).\n",
    "keys = [\"name\", \"age\", \"course\"]\n",
    "values = [\"Aditya\", 23, \"Python\"]\n",
    "result = dict(zip(keys, values))\n",
    "print(result)"
   ]
  },
  {
   "cell_type": "code",
   "execution_count": 9,
   "id": "eb28a50f",
   "metadata": {},
   "outputs": [
    {
     "name": "stdout",
     "output_type": "stream",
     "text": [
      "7 x 1 = 7\n",
      "7 x 2 = 14\n",
      "7 x 3 = 21\n",
      "7 x 4 = 28\n",
      "7 x 5 = 35\n",
      "7 x 6 = 42\n",
      "7 x 7 = 49\n",
      "7 x 8 = 56\n",
      "7 x 9 = 63\n",
      "7 x 10 = 70\n"
     ]
    }
   ],
   "source": [
    "#9.Write a program to print the multiplication table of a number.\n",
    "num = 7\n",
    "for i in range(1, 11):\n",
    "    print(num, \"x\", i, \"=\", num*i)"
   ]
  },
  {
   "cell_type": "code",
   "execution_count": 10,
   "id": "6e7d2443",
   "metadata": {},
   "outputs": [
    {
     "name": "stdout",
     "output_type": "stream",
     "text": [
      "GCD: 6\n"
     ]
    }
   ],
   "source": [
    "#10. Write a program to find the GCD of two numbers.\n",
    "a, b = 54, 24\n",
    "while b:\n",
    "    a, b = b, a % b\n",
    "print(\"GCD:\", a)"
   ]
  },
  {
   "cell_type": "code",
   "execution_count": null,
   "id": "90bd4399-05dc-432c-b7ed-ae8024800f82",
   "metadata": {},
   "outputs": [],
   "source": []
  },
  {
   "cell_type": "code",
   "execution_count": null,
   "id": "cb43f1ad-0064-4b8e-a327-341503cba1cb",
   "metadata": {},
   "outputs": [],
   "source": []
  }
 ],
 "metadata": {
  "kernelspec": {
   "display_name": "Python [conda env:base] *",
   "language": "python",
   "name": "conda-base-py"
  },
  "language_info": {
   "codemirror_mode": {
    "name": "ipython",
    "version": 3
   },
   "file_extension": ".py",
   "mimetype": "text/x-python",
   "name": "python",
   "nbconvert_exporter": "python",
   "pygments_lexer": "ipython3",
   "version": "3.13.5"
  }
 },
 "nbformat": 4,
 "nbformat_minor": 5
}
