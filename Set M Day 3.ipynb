{
 "cells": [
  {
   "cell_type": "code",
   "execution_count": 1,
   "id": "bffd1d38-6b2e-4ff5-9764-3c61154c2136",
   "metadata": {},
   "outputs": [
    {
     "data": {
      "text/plain": [
       "set"
      ]
     },
     "execution_count": 1,
     "metadata": {},
     "output_type": "execute_result"
    }
   ],
   "source": [
    "'''Set Method'''\n",
    "# 1. Create a set of 5 numbers.\n",
    "s1 = {1,2,3,4,5}\n",
    "type(s1)"
   ]
  },
  {
   "cell_type": "code",
   "execution_count": 2,
   "id": "c5ef062d-88c9-49cc-884e-1302a5642885",
   "metadata": {},
   "outputs": [
    {
     "data": {
      "text/plain": [
       "{1, 2, 3, 4, 5, 99}"
      ]
     },
     "execution_count": 2,
     "metadata": {},
     "output_type": "execute_result"
    }
   ],
   "source": [
    "# 2. Add '99' to the set.\n",
    "s1.add(99)\n",
    "s1"
   ]
  },
  {
   "cell_type": "code",
   "execution_count": 3,
   "id": "28f29a9d-c91d-455e-a2a0-0e018bf51ddc",
   "metadata": {},
   "outputs": [
    {
     "data": {
      "text/plain": [
       "{1, 2, 3, 4, 5}"
      ]
     },
     "execution_count": 3,
     "metadata": {},
     "output_type": "execute_result"
    }
   ],
   "source": [
    "# 3. Remove an element using remove().\n",
    "s1.remove(99)\n",
    "s1"
   ]
  },
  {
   "cell_type": "code",
   "execution_count": 4,
   "id": "0ad320e2-de01-45bf-834e-98d2e98e70c2",
   "metadata": {},
   "outputs": [
    {
     "data": {
      "text/plain": [
       "{1, 2, 3, 4}"
      ]
     },
     "execution_count": 4,
     "metadata": {},
     "output_type": "execute_result"
    }
   ],
   "source": [
    "# 4. Discard any element in the set.\n",
    "s1.discard(5)\n",
    "s1"
   ]
  },
  {
   "cell_type": "code",
   "execution_count": 5,
   "id": "79775c0b-0b97-4450-bb3f-4a666d382f1f",
   "metadata": {},
   "outputs": [
    {
     "data": {
      "text/plain": [
       "{2, 3, 4}"
      ]
     },
     "execution_count": 5,
     "metadata": {},
     "output_type": "execute_result"
    }
   ],
   "source": [
    "# 5. Pop a random element.\n",
    "s1.pop()\n",
    "s1"
   ]
  },
  {
   "cell_type": "code",
   "execution_count": 6,
   "id": "2cd02a1f-095f-49bc-bd38-972df62de1ec",
   "metadata": {},
   "outputs": [
    {
     "data": {
      "text/plain": [
       "{1, 2, 3, 4, 5, 6, 7, 8}"
      ]
     },
     "execution_count": 6,
     "metadata": {},
     "output_type": "execute_result"
    }
   ],
   "source": [
    "# 6. Create another set and do union().\n",
    "s2 = {1,2,3,4,5}\n",
    "s3 = {4,5,6,7,8}\n",
    "s2.union(s3)"
   ]
  },
  {
   "cell_type": "code",
   "execution_count": 7,
   "id": "bd6a0c19-f30e-4096-aa4e-9bc852047502",
   "metadata": {},
   "outputs": [
    {
     "data": {
      "text/plain": [
       "{4, 5}"
      ]
     },
     "execution_count": 7,
     "metadata": {},
     "output_type": "execute_result"
    }
   ],
   "source": [
    "# 7. Find intersection of two sets.\n",
    "s2.intersection(s3)"
   ]
  },
  {
   "cell_type": "code",
   "execution_count": 8,
   "id": "c947cd38-e8a9-4a3d-967d-6e88a0780912",
   "metadata": {},
   "outputs": [
    {
     "name": "stdout",
     "output_type": "stream",
     "text": [
      "{1, 2, 3} {8, 6, 7}\n"
     ]
    }
   ],
   "source": [
    "# 8. Find difference between two sets.\n",
    "a = s2.difference(s3)\n",
    "b = s3.difference(s2)\n",
    "print (a,b)"
   ]
  },
  {
   "cell_type": "code",
   "execution_count": 9,
   "id": "20d70ee6-102f-4bc1-9d5f-5b24e6efb9cf",
   "metadata": {},
   "outputs": [
    {
     "name": "stdout",
     "output_type": "stream",
     "text": [
      "Origonal list: (1, 1, 2, 3, 4, 4, 5, 5, 6, 7, 8)\n",
      "After converting: {1, 2, 3, 4, 5, 6, 7, 8}\n"
     ]
    }
   ],
   "source": [
    "# 9. Convert list with duplicate values to set.\n",
    "l1= (1,1,2,3,4,4,5,5,6,7,8)\n",
    "print (\"Origonal list:\",l1)\n",
    "s4= set(l1)\n",
    "print (\"After converting:\",s4)"
   ]
  },
  {
   "cell_type": "code",
   "execution_count": 10,
   "id": "00326a2a-ca33-4361-beb2-eea228b38412",
   "metadata": {},
   "outputs": [
    {
     "name": "stdout",
     "output_type": "stream",
     "text": [
      "My data before: {1, 2, 3, 4, 5, 6, 7, 8}\n",
      "My data after applying method:\n"
     ]
    }
   ],
   "source": [
    "# 10. Delete all iteams in the set\n",
    "print (\"My data before:\",s4)\n",
    "s4.clear()\n",
    "print (\"My data after applying method:\")"
   ]
  },
  {
   "cell_type": "code",
   "execution_count": null,
   "id": "20ad77a6-25ff-429c-8e54-eb9b2f4eafb9",
   "metadata": {},
   "outputs": [],
   "source": []
  }
 ],
 "metadata": {
  "kernelspec": {
   "display_name": "Python [conda env:base] *",
   "language": "python",
   "name": "conda-base-py"
  },
  "language_info": {
   "codemirror_mode": {
    "name": "ipython",
    "version": 3
   },
   "file_extension": ".py",
   "mimetype": "text/x-python",
   "name": "python",
   "nbconvert_exporter": "python",
   "pygments_lexer": "ipython3",
   "version": "3.13.5"
  }
 },
 "nbformat": 4,
 "nbformat_minor": 5
}
