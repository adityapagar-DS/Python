{
 "cells": [
  {
   "cell_type": "code",
   "execution_count": 4,
   "id": "119b6479-2e83-4e60-85fc-72a51a9f4542",
   "metadata": {},
   "outputs": [
    {
     "name": "stdout",
     "output_type": "stream",
     "text": [
      "Aditya\n",
      "Aditya\n",
      "Aditya\n",
      "Aditya\n",
      "Aditya\n"
     ]
    }
   ],
   "source": [
    "for i in range (5):\n",
    "    print (\"Aditya\")"
   ]
  },
  {
   "cell_type": "code",
   "execution_count": 5,
   "id": "2942463c-e3ac-4d74-bf29-fa1bcff16d6e",
   "metadata": {},
   "outputs": [
    {
     "name": "stdout",
     "output_type": "stream",
     "text": [
      "0\n",
      "1\n",
      "2\n",
      "3\n",
      "4\n",
      "5\n",
      "6\n",
      "7\n",
      "8\n",
      "9\n"
     ]
    }
   ],
   "source": [
    "for i in range (0,10):\n",
    "    print (i)"
   ]
  },
  {
   "cell_type": "code",
   "execution_count": 7,
   "id": "cca61d1b-73f5-42b7-b55b-b439f0e32e68",
   "metadata": {},
   "outputs": [
    {
     "name": "stdout",
     "output_type": "stream",
     "text": [
      "10\n",
      "9\n",
      "8\n",
      "7\n",
      "6\n",
      "5\n",
      "4\n",
      "3\n",
      "2\n",
      "1\n"
     ]
    }
   ],
   "source": [
    "for i in range (10,0,-1):\n",
    "    print(i)"
   ]
  },
  {
   "cell_type": "code",
   "execution_count": 14,
   "id": "c7da98d4-5db4-40b6-b1ae-f4b6d9be3ddd",
   "metadata": {},
   "outputs": [
    {
     "name": "stdout",
     "output_type": "stream",
     "text": [
      "0\n",
      "2\n",
      "4\n",
      "6\n",
      "8\n",
      "10\n"
     ]
    }
   ],
   "source": [
    "for i in range (0,11):\n",
    "    if i%2==0:\n",
    "        print(i)"
   ]
  },
  {
   "cell_type": "code",
   "execution_count": 15,
   "id": "b89ad928-20ed-428d-9267-27190a7c590e",
   "metadata": {},
   "outputs": [
    {
     "name": "stdout",
     "output_type": "stream",
     "text": [
      "1\n",
      "2\n",
      "3\n",
      "4\n",
      "5\n"
     ]
    }
   ],
   "source": [
    "i = 1\n",
    "while i<=5:\n",
    "    print (i)\n",
    "    i+=1"
   ]
  },
  {
   "cell_type": "code",
   "execution_count": 17,
   "id": "6f8eada6-9a18-4b04-b836-bb581eb62fbc",
   "metadata": {},
   "outputs": [
    {
     "name": "stdout",
     "output_type": "stream",
     "text": [
      "Hello Aditya\n"
     ]
    }
   ],
   "source": [
    "def greet (name):\n",
    "    print (\"Hello\",name)\n",
    "greet(\"Aditya\")\n"
   ]
  },
  {
   "cell_type": "code",
   "execution_count": 18,
   "id": "4aceb090-e9a3-41e0-9411-018f764f302e",
   "metadata": {},
   "outputs": [],
   "source": [
    "def ap (a,b):\n",
    "    d= a-b\n",
    "    return d"
   ]
  },
  {
   "cell_type": "code",
   "execution_count": 21,
   "id": "67c65ed9-eb79-4972-96c7-9085f0c08076",
   "metadata": {},
   "outputs": [
    {
     "data": {
      "text/plain": [
       "-1"
      ]
     },
     "execution_count": 21,
     "metadata": {},
     "output_type": "execute_result"
    }
   ],
   "source": [
    "ans =ap (13,14)\n",
    "ans"
   ]
  },
  {
   "cell_type": "code",
   "execution_count": 22,
   "id": "1b80a421-9ebf-4d4b-811c-46cdea9f51ae",
   "metadata": {},
   "outputs": [],
   "source": [
    "def gd (a,b):\n",
    "    c = a%b\n",
    "    return c"
   ]
  },
  {
   "cell_type": "code",
   "execution_count": 23,
   "id": "9c0fcd23-64f3-49d7-bbad-099813f0d885",
   "metadata": {},
   "outputs": [
    {
     "data": {
      "text/plain": [
       "8"
      ]
     },
     "execution_count": 23,
     "metadata": {},
     "output_type": "execute_result"
    }
   ],
   "source": [
    "ans= gd (8,10)\n",
    "ans"
   ]
  },
  {
   "cell_type": "code",
   "execution_count": 28,
   "id": "74e34517-b03b-4ff6-9a62-1eb0246fc499",
   "metadata": {},
   "outputs": [],
   "source": [
    "def square (x):\n",
    "    sq = x*x\n",
    "    return sq"
   ]
  },
  {
   "cell_type": "code",
   "execution_count": 29,
   "id": "215624fc-e871-4779-b672-fb579cb3581d",
   "metadata": {},
   "outputs": [
    {
     "data": {
      "text/plain": [
       "25"
      ]
     },
     "execution_count": 29,
     "metadata": {},
     "output_type": "execute_result"
    }
   ],
   "source": [
    "ans = square (5)\n",
    "ans"
   ]
  },
  {
   "cell_type": "code",
   "execution_count": 35,
   "id": "d05ea8cb-21a7-4bfe-b860-6909e1d090e8",
   "metadata": {},
   "outputs": [
    {
     "name": "stdout",
     "output_type": "stream",
     "text": [
      "1\n",
      "3\n",
      "5\n",
      "7\n",
      "9\n",
      "11\n",
      "13\n",
      "15\n",
      "17\n",
      "19\n",
      "21\n",
      "23\n",
      "25\n",
      "27\n",
      "29\n",
      "31\n",
      "33\n",
      "35\n",
      "37\n",
      "39\n",
      "41\n",
      "43\n",
      "45\n",
      "47\n",
      "49\n"
     ]
    }
   ],
   "source": [
    "for i in range (0,51):\n",
    "    if i%2!=0:\n",
    "        print (i)"
   ]
  },
  {
   "cell_type": "code",
   "execution_count": 37,
   "id": "c379be1d-d25e-4bff-abe5-f67de6be0ad9",
   "metadata": {},
   "outputs": [
    {
     "name": "stdout",
     "output_type": "stream",
     "text": [
      "Total Even numbers: 46\n"
     ]
    }
   ],
   "source": [
    "count = 0\n",
    "for i in range (10,101):\n",
    "    if i%2 == 0:\n",
    "        count +=1\n",
    "print (\"Total Even numbers:\",count)"
   ]
  },
  {
   "cell_type": "code",
   "execution_count": 38,
   "id": "c20e18d9-1f88-4d0c-9774-6462d9e35de7",
   "metadata": {},
   "outputs": [
    {
     "name": "stdout",
     "output_type": "stream",
     "text": [
      "Total odd numbers: 50\n"
     ]
    }
   ],
   "source": [
    "count = 0\n",
    "for i in range (0,101):\n",
    "    if i%2 != 0:\n",
    "        count +=1\n",
    "print (\"Total odd numbers:\", count)"
   ]
  },
  {
   "cell_type": "code",
   "execution_count": 47,
   "id": "d708a696-74b5-4f51-a538-dd9ef7b11182",
   "metadata": {},
   "outputs": [
    {
     "name": "stdin",
     "output_type": "stream",
     "text": [
      "Entre any number 5\n"
     ]
    },
    {
     "name": "stdout",
     "output_type": "stream",
     "text": [
      "5*1=5\n",
      "5*2=10\n",
      "5*3=15\n",
      "5*4=20\n",
      "5*5=25\n",
      "5*6=30\n",
      "5*7=35\n",
      "5*8=40\n",
      "5*9=45\n",
      "5*10=50\n"
     ]
    }
   ],
   "source": [
    "num = int (input(\"Entre any number\"))\n",
    "for i in range (1,11):\n",
    "    result= (num*i)\n",
    "    print (f\"{num}*{i}={result}\")"
   ]
  },
  {
   "cell_type": "code",
   "execution_count": 52,
   "id": "de7719f9-d6ea-43a8-8270-805a773e039f",
   "metadata": {},
   "outputs": [
    {
     "name": "stdout",
     "output_type": "stream",
     "text": [
      "Sum of all numbers: 1\n",
      "Sum of all numbers: 3\n",
      "Sum of all numbers: 6\n",
      "Sum of all numbers: 10\n",
      "Sum of all numbers: 15\n",
      "Sum of all numbers: 21\n",
      "Sum of all numbers: 28\n",
      "Sum of all numbers: 36\n",
      "Sum of all numbers: 45\n",
      "Sum of all numbers: 55\n",
      "Sum of all numbers: 66\n",
      "Sum of all numbers: 78\n",
      "Sum of all numbers: 91\n",
      "Sum of all numbers: 105\n",
      "Sum of all numbers: 120\n",
      "Sum of all numbers: 136\n",
      "Sum of all numbers: 153\n",
      "Sum of all numbers: 171\n",
      "Sum of all numbers: 190\n",
      "Sum of all numbers: 210\n",
      "Sum of all numbers: 231\n",
      "Sum of all numbers: 253\n",
      "Sum of all numbers: 276\n",
      "Sum of all numbers: 300\n",
      "Sum of all numbers: 325\n",
      "Sum of all numbers: 351\n",
      "Sum of all numbers: 378\n",
      "Sum of all numbers: 406\n",
      "Sum of all numbers: 435\n",
      "Sum of all numbers: 465\n",
      "Sum of all numbers: 496\n",
      "Sum of all numbers: 528\n",
      "Sum of all numbers: 561\n",
      "Sum of all numbers: 595\n",
      "Sum of all numbers: 630\n",
      "Sum of all numbers: 666\n",
      "Sum of all numbers: 703\n",
      "Sum of all numbers: 741\n",
      "Sum of all numbers: 780\n",
      "Sum of all numbers: 820\n",
      "Sum of all numbers: 861\n",
      "Sum of all numbers: 903\n",
      "Sum of all numbers: 946\n",
      "Sum of all numbers: 990\n",
      "Sum of all numbers: 1035\n",
      "Sum of all numbers: 1081\n",
      "Sum of all numbers: 1128\n",
      "Sum of all numbers: 1176\n",
      "Sum of all numbers: 1225\n",
      "Sum of all numbers: 1275\n",
      "Sum of all numbers: 1326\n",
      "Sum of all numbers: 1378\n",
      "Sum of all numbers: 1431\n",
      "Sum of all numbers: 1485\n",
      "Sum of all numbers: 1540\n",
      "Sum of all numbers: 1596\n",
      "Sum of all numbers: 1653\n",
      "Sum of all numbers: 1711\n",
      "Sum of all numbers: 1770\n",
      "Sum of all numbers: 1830\n",
      "Sum of all numbers: 1891\n",
      "Sum of all numbers: 1953\n",
      "Sum of all numbers: 2016\n",
      "Sum of all numbers: 2080\n",
      "Sum of all numbers: 2145\n",
      "Sum of all numbers: 2211\n",
      "Sum of all numbers: 2278\n",
      "Sum of all numbers: 2346\n",
      "Sum of all numbers: 2415\n",
      "Sum of all numbers: 2485\n",
      "Sum of all numbers: 2556\n",
      "Sum of all numbers: 2628\n",
      "Sum of all numbers: 2701\n",
      "Sum of all numbers: 2775\n",
      "Sum of all numbers: 2850\n",
      "Sum of all numbers: 2926\n",
      "Sum of all numbers: 3003\n",
      "Sum of all numbers: 3081\n",
      "Sum of all numbers: 3160\n",
      "Sum of all numbers: 3240\n",
      "Sum of all numbers: 3321\n",
      "Sum of all numbers: 3403\n",
      "Sum of all numbers: 3486\n",
      "Sum of all numbers: 3570\n",
      "Sum of all numbers: 3655\n",
      "Sum of all numbers: 3741\n",
      "Sum of all numbers: 3828\n",
      "Sum of all numbers: 3916\n",
      "Sum of all numbers: 4005\n",
      "Sum of all numbers: 4095\n",
      "Sum of all numbers: 4186\n",
      "Sum of all numbers: 4278\n",
      "Sum of all numbers: 4371\n",
      "Sum of all numbers: 4465\n",
      "Sum of all numbers: 4560\n",
      "Sum of all numbers: 4656\n",
      "Sum of all numbers: 4753\n",
      "Sum of all numbers: 4851\n",
      "Sum of all numbers: 4950\n",
      "Sum of all numbers: 5050\n"
     ]
    }
   ],
   "source": [
    "sum = 0\n",
    "for i in range (1,101):\n",
    "    sum  += i\n",
    "    print (\"Sum of all numbers:\",sum)"
   ]
  },
  {
   "cell_type": "code",
   "execution_count": 61,
   "id": "f3967130-cc26-43ae-93c1-b34160f6ed65",
   "metadata": {},
   "outputs": [
    {
     "name": "stdout",
     "output_type": "stream",
     "text": [
      "Total numbers divisible by both 3 and 5: 10\n"
     ]
    }
   ],
   "source": [
    "# count the number divisible form 1-100 by 3 & 7\n",
    "count = 0\n",
    "for i in range (0,201):\n",
    "    if i % 3 == 0 and i % 7 == 0:\n",
    "          count +=1\n",
    "print(\"Total numbers divisible by both 3 and 5:\", count)"
   ]
  },
  {
   "cell_type": "code",
   "execution_count": 57,
   "id": "40fa95e8-9057-442d-96e5-6b1282577091",
   "metadata": {},
   "outputs": [
    {
     "name": "stdout",
     "output_type": "stream",
     "text": [
      "Total Sum: 8\n"
     ]
    }
   ],
   "source": [
    "#Count how many numbers from 50 to 100 are divisible by 6\n",
    "sum = 0\n",
    "for i in range (50,100):\n",
    "    if i % 6 == 0:\n",
    "        sum +=1\n",
    "print (\"Total Sum:\",sum)"
   ]
  },
  {
   "cell_type": "code",
   "execution_count": 62,
   "id": "c410b473-e755-4831-ab8d-f8888b0a204a",
   "metadata": {},
   "outputs": [
    {
     "name": "stdout",
     "output_type": "stream",
     "text": [
      "6\n",
      "12\n",
      "18\n",
      "24\n",
      "30\n",
      "36\n",
      "42\n",
      "48\n",
      "54\n",
      "60\n",
      "66\n",
      "72\n",
      "78\n",
      "84\n",
      "90\n",
      "96\n"
     ]
    }
   ],
   "source": [
    "#Write a program to print all numbers between 1 and 100 that are divisible by both 2 and 3.\n",
    "for i in range (1,100):\n",
    "    if i % 2 == 0 and i % 3 == 0:\n",
    "        print (i)\n",
    "        "
   ]
  },
  {
   "cell_type": "code",
   "execution_count": 83,
   "id": "6d06f41e-f5d6-4c12-8503-0025c5e6b351",
   "metadata": {},
   "outputs": [
    {
     "name": "stdout",
     "output_type": "stream",
     "text": [
      "Total Numbers: 15\n"
     ]
    }
   ],
   "source": [
    "#Count how many odd numbers exist between 30 and 60.\n",
    "count = 0\n",
    "for i in range (30,60):\n",
    "    if i % 2 != 0:\n",
    "        count+=1\n",
    "        \n",
    "print (\"Total Numbers:\",count)"
   ]
  },
  {
   "cell_type": "code",
   "execution_count": 72,
   "id": "e41d8f2c-c2f4-44c8-89d2-5c461d0322a8",
   "metadata": {},
   "outputs": [
    {
     "name": "stdout",
     "output_type": "stream",
     "text": [
      "Square of: 1 is a 1\n",
      "Square of: 2 is a 4\n",
      "Square of: 3 is a 9\n",
      "Square of: 4 is a 16\n",
      "Square of: 5 is a 25\n",
      "Square of: 6 is a 36\n",
      "Square of: 7 is a 49\n",
      "Square of: 8 is a 64\n",
      "Square of: 9 is a 81\n"
     ]
    }
   ],
   "source": [
    "#Write a program to print the square of each number from 1 to 10.\n",
    "for i in range (1,10):\n",
    "    square = i**2\n",
    "    print (\"Square of:\", i, \"is a\", square) "
   ]
  },
  {
   "cell_type": "code",
   "execution_count": 76,
   "id": "8b0697b8-a0eb-4ecf-b0c8-be5e7124eded",
   "metadata": {},
   "outputs": [
    {
     "name": "stdout",
     "output_type": "stream",
     "text": [
      "23\n"
     ]
    }
   ],
   "source": [
    "#Find how many numbers between 1 and 200 are divisible by 7 but not by 5.\n",
    "total = 0\n",
    "for i in range (1,201):\n",
    "    if i % 7 == 0 and i % 5 != 0:\n",
    "        total +=1\n",
    "print (total)"
   ]
  },
  {
   "cell_type": "code",
   "execution_count": 79,
   "id": "f89238d9-d939-474b-82c1-01ec7e560214",
   "metadata": {},
   "outputs": [
    {
     "name": "stdout",
     "output_type": "stream",
     "text": [
      "1\n",
      "2\n",
      "3\n",
      "4\n",
      "5\n",
      "6\n",
      "7\n",
      "8\n",
      "9\n",
      "10\n",
      "11\n",
      "12\n",
      "13\n",
      "14\n",
      "15\n",
      "16\n",
      "17\n",
      "18\n",
      "19\n",
      "20\n",
      "21\n",
      "22\n"
     ]
    }
   ],
   "source": [
    "#Print all numbers between 1 and 50 whose square is less than 500.\n",
    "for i in range (1,51):\n",
    "    if i**2 <=500:\n",
    "        print (i)"
   ]
  },
  {
   "cell_type": "code",
   "execution_count": 89,
   "id": "0e777c16-0b18-4a1f-9e41-0d902a55ab94",
   "metadata": {},
   "outputs": [
    {
     "name": "stdout",
     "output_type": "stream",
     "text": [
      "3\n",
      "5\n",
      "6\n",
      "9\n",
      "10\n",
      "12\n",
      "18\n",
      "20\n",
      "21\n",
      "24\n",
      "25\n",
      "27\n",
      "33\n",
      "35\n",
      "36\n",
      "39\n",
      "40\n",
      "42\n",
      "48\n",
      "50\n",
      "51\n",
      "54\n",
      "55\n",
      "57\n",
      "63\n",
      "65\n",
      "66\n",
      "69\n",
      "70\n",
      "72\n",
      "78\n",
      "80\n",
      "81\n",
      "84\n",
      "85\n",
      "87\n",
      "93\n",
      "95\n",
      "96\n",
      "99\n"
     ]
    }
   ],
   "source": [
    "#Write a program to print all numbers from 1 to 100 that are divisible by 3 or 5 but not both.\n",
    "for i in range (1,100):\n",
    "    if (i % 3 ==0 or i % 5 == 0)and i % 15 !=0:\n",
    "        print (i)"
   ]
  },
  {
   "cell_type": "code",
   "execution_count": 92,
   "id": "d0e3640e-c824-4edf-8bcc-040a15790400",
   "metadata": {},
   "outputs": [
    {
     "data": {
      "text/plain": [
       "[10, 9, 8, 7, 6, 5, 4, 3, 2, 1]"
      ]
     },
     "execution_count": 92,
     "metadata": {},
     "output_type": "execute_result"
    }
   ],
   "source": [
    "l1 = [1,2,3,4,5,6,7,8,9,10]\n",
    "b = l1[::-1]\n",
    "b"
   ]
  },
  {
   "cell_type": "code",
   "execution_count": 98,
   "id": "51b7229d-6c0e-49fd-8e8b-83f957c444bc",
   "metadata": {},
   "outputs": [
    {
     "data": {
      "text/plain": [
       "54321"
      ]
     },
     "execution_count": 98,
     "metadata": {},
     "output_type": "execute_result"
    }
   ],
   "source": [
    "l1= 12345\n",
    "b = str(l1)[::-1]\n",
    "c=int(b)\n",
    "c"
   ]
  },
  {
   "cell_type": "code",
   "execution_count": 99,
   "id": "228d4349-cbd7-4c19-b809-4d3b19ba3249",
   "metadata": {},
   "outputs": [
    {
     "data": {
      "text/plain": [
       "'ragaP yajnanahD aytidA'"
      ]
     },
     "execution_count": 99,
     "metadata": {},
     "output_type": "execute_result"
    }
   ],
   "source": [
    "l1 = \"Aditya Dhananjay Pagar\"\n",
    "b = l1[::-1]\n",
    "b"
   ]
  },
  {
   "cell_type": "code",
   "execution_count": 105,
   "id": "89b94ac1-83e9-4e1f-a0ad-c579a659ee60",
   "metadata": {},
   "outputs": [
    {
     "name": "stdout",
     "output_type": "stream",
     "text": [
      "987654321\n"
     ]
    }
   ],
   "source": [
    "num = 123456789\n",
    "def a (num):\n",
    "    b = \"\"\n",
    "    for i in str (num):\n",
    "        b=i+b\n",
    "    return b\n",
    "print (a(num))\n",
    "        "
   ]
  },
  {
   "cell_type": "code",
   "execution_count": null,
   "id": "fe0d7d10-8eca-41b4-a926-195e57ad41a3",
   "metadata": {},
   "outputs": [],
   "source": []
  }
 ],
 "metadata": {
  "kernelspec": {
   "display_name": "Python [conda env:base] *",
   "language": "python",
   "name": "conda-base-py"
  },
  "language_info": {
   "codemirror_mode": {
    "name": "ipython",
    "version": 3
   },
   "file_extension": ".py",
   "mimetype": "text/x-python",
   "name": "python",
   "nbconvert_exporter": "python",
   "pygments_lexer": "ipython3",
   "version": "3.13.5"
  }
 },
 "nbformat": 4,
 "nbformat_minor": 5
}
