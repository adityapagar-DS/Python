{
 "cells": [
  {
   "cell_type": "code",
   "execution_count": 1,
   "id": "4843df4d",
   "metadata": {},
   "outputs": [
    {
     "name": "stdout",
     "output_type": "stream",
     "text": [
      "List without even numbers: [1, 3, 5, 7, 9]\n"
     ]
    }
   ],
   "source": [
    "#1.Write a program to remove all even numbers from a list.\n",
    "numbers = [1, 2, 3, 4, 5, 6, 7, 8, 9]\n",
    "result = [n for n in numbers if n % 2 != 0]\n",
    "print(\"List without even numbers:\", result)"
   ]
  },
  {
   "cell_type": "code",
   "execution_count": 2,
   "id": "7eb8f5a1",
   "metadata": {},
   "outputs": [
    {
     "name": "stdout",
     "output_type": "stream",
     "text": [
      "Average: 30.0\n"
     ]
    }
   ],
   "source": [
    "#2.Write a program to calculate the average of numbers in a list.\n",
    "nums = [10, 20, 30, 40, 50]\n",
    "avg = sum(nums) / len(nums)\n",
    "print(\"Average:\", avg)"
   ]
  },
  {
   "cell_type": "code",
   "execution_count": 3,
   "id": "32049c0b",
   "metadata": {},
   "outputs": [
    {
     "name": "stdout",
     "output_type": "stream",
     "text": [
      "PYTHON\n"
     ]
    }
   ],
   "source": [
    "#3. Write a program to convert a string into uppercase without using .upper().\n",
    "text = \"python\"\n",
    "result = \"\"\n",
    "for ch in text:\n",
    "    if 'a' <= ch <= 'z':\n",
    "        result += chr(ord(ch) - 32)\n",
    "    else:\n",
    "        result += ch\n",
    "print(result)"
   ]
  },
  {
   "cell_type": "code",
   "execution_count": 4,
   "id": "c3f56667",
   "metadata": {},
   "outputs": [
    {
     "name": "stdout",
     "output_type": "stream",
     "text": [
      "2 3 5 7 11 13 17 19 23 29 31 37 41 43 47 "
     ]
    }
   ],
   "source": [
    "#4.Write a program to print all prime numbers between 1 and 50.\n",
    "for num in range(2, 51):\n",
    "    is_prime = True\n",
    "    for i in range(2, int(num**0.5) + 1):\n",
    "        if num % i == 0:\n",
    "            is_prime = False\n",
    "            break\n",
    "    if is_prime:\n",
    "        print(num, end=\" \")"
   ]
  },
  {
   "cell_type": "code",
   "execution_count": 5,
   "id": "0b81144b",
   "metadata": {},
   "outputs": [
    {
     "name": "stdout",
     "output_type": "stream",
     "text": [
      "{1: 'a', 2: 'b', 3: 'c'}\n"
     ]
    }
   ],
   "source": [
    "#5.Write a program to reverse a dictionary (keys become values and values become keys).\n",
    "d = {'a': 1, 'b': 2, 'c': 3}\n",
    "rev = {v: k for k, v in d.items()}\n",
    "print(rev)"
   ]
  },
  {
   "cell_type": "code",
   "execution_count": 6,
   "id": "d4480515",
   "metadata": {},
   "outputs": [
    {
     "name": "stdout",
     "output_type": "stream",
     "text": [
      "Anagram\n"
     ]
    }
   ],
   "source": [
    "#6.Write a program to check if two strings are anagrams.\n",
    "s1 = \"listen\"\n",
    "s2 = \"silent\"\n",
    "if sorted(s1) == sorted(s2):\n",
    "    print(\"Anagram\")\n",
    "else:\n",
    "    print(\"Not an Anagram\")"
   ]
  },
  {
   "cell_type": "code",
   "execution_count": 7,
   "id": "a1fce8b6",
   "metadata": {},
   "outputs": [
    {
     "name": "stdout",
     "output_type": "stream",
     "text": [
      "Intersection: [4, 5]\n"
     ]
    }
   ],
   "source": [
    "#7.Write a program to find intersection of two lists.\n",
    "list1 = [1, 2, 3, 4, 5]\n",
    "list2 = [4, 5, 6, 7, 8]\n",
    "intersection = [x for x in list1 if x in list2]\n",
    "print(\"Intersection:\", intersection)"
   ]
  },
  {
   "cell_type": "code",
   "execution_count": 8,
   "id": "eb80fdaa",
   "metadata": {},
   "outputs": [
    {
     "name": "stdout",
     "output_type": "stream",
     "text": [
      "Hello Python is great\n"
     ]
    }
   ],
   "source": [
    "#8. Write a program to remove punctuation from a string.\n",
    "import string\n",
    "text = \"Hello!!! Python, is great??\"\n",
    "result = ''.join(ch for ch in text if ch not in string.punctuation)\n",
    "print(result)"
   ]
  },
  {
   "cell_type": "code",
   "execution_count": 9,
   "id": "ee514875",
   "metadata": {},
   "outputs": [
    {
     "name": "stdout",
     "output_type": "stream",
     "text": [
      "Flattened list: [1, 2, 3, 4, 5, 6, 7, 8, 9]\n"
     ]
    }
   ],
   "source": [
    "#9.Write a program to flatten a 2D list into 1D.\n",
    "matrix = [[1,2,3],[4,5,6],[7,8,9]]\n",
    "flat = [num for row in matrix for num in row]\n",
    "print(\"Flattened list:\", flat)"
   ]
  },
  {
   "cell_type": "code",
   "execution_count": 10,
   "id": "dd67f107",
   "metadata": {},
   "outputs": [
    {
     "name": "stdout",
     "output_type": "stream",
     "text": [
      "1 2 3 4 5 6 7 8 9 10 "
     ]
    }
   ],
   "source": [
    "#10.Write a program to generate the first 10 natural numbers using while loop.\n",
    "i = 1\n",
    "while i <= 10:\n",
    "    print(i, end=\" \")\n",
    "    i += 1"
   ]
  },
  {
   "cell_type": "code",
   "execution_count": null,
   "id": "1f7132da-6895-4466-82f3-71c7e65dad96",
   "metadata": {},
   "outputs": [],
   "source": []
  }
 ],
 "metadata": {
  "kernelspec": {
   "display_name": "Python [conda env:base] *",
   "language": "python",
   "name": "conda-base-py"
  },
  "language_info": {
   "codemirror_mode": {
    "name": "ipython",
    "version": 3
   },
   "file_extension": ".py",
   "mimetype": "text/x-python",
   "name": "python",
   "nbconvert_exporter": "python",
   "pygments_lexer": "ipython3",
   "version": "3.13.5"
  }
 },
 "nbformat": 4,
 "nbformat_minor": 5
}
