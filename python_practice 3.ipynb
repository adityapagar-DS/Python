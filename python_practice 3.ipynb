{
 "cells": [
  {
   "cell_type": "code",
   "execution_count": 1,
   "id": "7fbb7c01",
   "metadata": {},
   "outputs": [
    {
     "name": "stdout",
     "output_type": "stream",
     "text": [
      "Sum of list elements: 150\n"
     ]
    }
   ],
   "source": [
    "#1.Write a program to find the sum of all elements in a list.\n",
    "numbers = [10, 20, 30, 40, 50]\n",
    "result = sum(numbers)\n",
    "print(\"Sum of list elements:\", result)"
   ]
  },
  {
   "cell_type": "code",
   "execution_count": 2,
   "id": "bf5c3c4c",
   "metadata": {},
   "outputs": [
    {
     "name": "stdout",
     "output_type": "stream",
     "text": [
      "Maximum: 42\n",
      "Minimum: 7\n"
     ]
    }
   ],
   "source": [
    "#2.Write a program to find the maximum and minimum value in a tuple.\n",
    "t = (15, 8, 25, 42, 7)\n",
    "print(\"Maximum:\", max(t))\n",
    "print(\"Minimum:\", min(t))"
   ]
  },
  {
   "cell_type": "code",
   "execution_count": 3,
   "id": "189c3d3c",
   "metadata": {},
   "outputs": [
    {
     "name": "stdout",
     "output_type": "stream",
     "text": [
      "Unique values: [1, 2, 3, 4, 5]\n"
     ]
    }
   ],
   "source": [
    "#3. Write a program to remove duplicates from a list using a set.\n",
    "nums = [1, 2, 2, 3, 4, 4, 5]\n",
    "unique = list(set(nums))\n",
    "print(\"Unique values:\", unique)"
   ]
  },
  {
   "cell_type": "code",
   "execution_count": 4,
   "id": "ac7350f9",
   "metadata": {},
   "outputs": [
    {
     "name": "stdout",
     "output_type": "stream",
     "text": [
      "course exists in dictionary\n"
     ]
    }
   ],
   "source": [
    "#4.Write a program to check if a key exists in a dictionary.\n",
    "student = {\"name\": \"Aditya\", \"age\": 23, \"course\": \"Data Science\"}\n",
    "key = \"course\"\n",
    "if key in student:\n",
    "    print(key, \"exists in dictionary\")\n",
    "else:\n",
    "    print(key, \"not found\")"
   ]
  },
  {
   "cell_type": "code",
   "execution_count": 5,
   "id": "cc628b50",
   "metadata": {},
   "outputs": [
    {
     "name": "stdout",
     "output_type": "stream",
     "text": [
      "{'p': 1, 'r': 2, 'o': 1, 'g': 2, 'a': 1, 'm': 2, 'i': 1, 'n': 1}\n"
     ]
    }
   ],
   "source": [
    "#5.Write a program to count occurrences of each character in a string using dictionary.\n",
    "text = \"programming\"\n",
    "count = {}\n",
    "for ch in text:\n",
    "    count[ch] = count.get(ch, 0) + 1\n",
    "print(count)"
   ]
  },
  {
   "cell_type": "code",
   "execution_count": 6,
   "id": "24cbf999",
   "metadata": {},
   "outputs": [
    {
     "name": "stdout",
     "output_type": "stream",
     "text": [
      "Factorial of 5 is 120\n"
     ]
    }
   ],
   "source": [
    "#6.Write a program to print factorial of a number using a loop.\n",
    "num = 5\n",
    "fact = 1\n",
    "for i in range(1, num+1):\n",
    "    fact *= i\n",
    "print(\"Factorial of\", num, \"is\", fact)"
   ]
  },
  {
   "cell_type": "code",
   "execution_count": 7,
   "id": "7194dc65",
   "metadata": {},
   "outputs": [
    {
     "name": "stdout",
     "output_type": "stream",
     "text": [
      "Reversed list: [5, 4, 3, 2, 1]\n"
     ]
    }
   ],
   "source": [
    "#7.Write a program to reverse a list without using built-in reverse().\n",
    "lst = [1, 2, 3, 4, 5]\n",
    "rev = []\n",
    "for i in range(len(lst)-1, -1, -1):\n",
    "    rev.append(lst[i])\n",
    "print(\"Reversed list:\", rev)"
   ]
  },
  {
   "cell_type": "code",
   "execution_count": 8,
   "id": "8fd8bab5",
   "metadata": {},
   "outputs": [
    {
     "name": "stdout",
     "output_type": "stream",
     "text": [
      "Merged dictionary: {'a': 10, 'b': 20, 'c': 30, 'd': 40}\n"
     ]
    }
   ],
   "source": [
    "#8.Write a program to merge two dictionaries.\n",
    "dict1 = {\"a\": 10, \"b\": 20}\n",
    "dict2 = {\"c\": 30, \"d\": 40}\n",
    "merged = {**dict1, **dict2}\n",
    "print(\"Merged dictionary:\", merged)"
   ]
  },
  {
   "cell_type": "code",
   "execution_count": 9,
   "id": "d12117ff",
   "metadata": {},
   "outputs": [
    {
     "name": "stdout",
     "output_type": "stream",
     "text": [
      "17 is prime? True\n"
     ]
    }
   ],
   "source": [
    "#9.Write a program to check if a number is prime.\n",
    "num = 17\n",
    "is_prime = True\n",
    "if num > 1:\n",
    "    for i in range(2, int(num**0.5)+1):\n",
    "        if num % i == 0:\n",
    "            is_prime = False\n",
    "            break\n",
    "else:\n",
    "    is_prime = False\n",
    "\n",
    "print(num, \"is prime?\" , is_prime)"
   ]
  },
  {
   "cell_type": "code",
   "execution_count": 10,
   "id": "1e69ffb5",
   "metadata": {},
   "outputs": [
    {
     "name": "stdout",
     "output_type": "stream",
     "text": [
      "0 1 1 2 3 5 8 13 21 34 "
     ]
    }
   ],
   "source": [
    "#10.Write a program to print Fibonacci series up to 10 terms.\n",
    "a, b = 0, 1\n",
    "for _ in range(10):\n",
    "    print(a, end=\" \")\n",
    "    a, b = b, a+b"
   ]
  },
  {
   "cell_type": "code",
   "execution_count": null,
   "id": "3337e9f6-e00b-4f95-b9fb-30fae5ffbd79",
   "metadata": {},
   "outputs": [],
   "source": []
  }
 ],
 "metadata": {
  "kernelspec": {
   "display_name": "Python [conda env:base] *",
   "language": "python",
   "name": "conda-base-py"
  },
  "language_info": {
   "codemirror_mode": {
    "name": "ipython",
    "version": 3
   },
   "file_extension": ".py",
   "mimetype": "text/x-python",
   "name": "python",
   "nbconvert_exporter": "python",
   "pygments_lexer": "ipython3",
   "version": "3.13.5"
  }
 },
 "nbformat": 4,
 "nbformat_minor": 5
}
