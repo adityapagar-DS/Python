{
 "cells": [
  {
   "cell_type": "code",
   "execution_count": null,
   "id": "7b04c05e-568a-427e-b7eb-818d19c3e88f",
   "metadata": {},
   "outputs": [],
   "source": [
    "'''PYTHON MINI PROJECT'''"
   ]
  },
  {
   "cell_type": "code",
   "execution_count": null,
   "id": "be7349ae-bf60-451a-aba2-79a973f2ec3a",
   "metadata": {},
   "outputs": [],
   "source": [
    "'''Student Marks Analyzer'''"
   ]
  },
  {
   "cell_type": "code",
   "execution_count": null,
   "id": "0a37181a-5c01-4d75-897d-b2aa6d8c83b8",
   "metadata": {},
   "outputs": [],
   "source": [
    "#Working with nested dictionaries, Console-Based Shopping Cart System\n",
    "\n",
    "cart = {\"Apple\": {\"price\": 30.0, \"qty\": 2}, \"Bread\": {\"price\": 40.0, \"qty\": 1}, \"Milk\": {\"price\": 25.0, \"qty\": 3}}\n",
    "print (\"Welcome to shopping cart system\")\n",
    "\n",
    "while True:\n",
    "    print(\"\\nChoose an option:\")\n",
    "    print(\"1. Add Item\")\n",
    "    print(\"2. Remove Item\")\n",
    "    print(\"3. View Cart\")\n",
    "    print(\"4. Checkout\")\n",
    "    print(\"5. Exit\")\n",
    "\n",
    "    choice = input(\"Enter your choice (1-5):\")\n",
    "\n",
    "    if choice == \"1\":\n",
    "        item = "
   ]
  }
 ],
 "metadata": {
  "kernelspec": {
   "display_name": "Python [conda env:base] *",
   "language": "python",
   "name": "conda-base-py"
  },
  "language_info": {
   "codemirror_mode": {
    "name": "ipython",
    "version": 3
   },
   "file_extension": ".py",
   "mimetype": "text/x-python",
   "name": "python",
   "nbconvert_exporter": "python",
   "pygments_lexer": "ipython3",
   "version": "3.13.5"
  }
 },
 "nbformat": 4,
 "nbformat_minor": 5
}
