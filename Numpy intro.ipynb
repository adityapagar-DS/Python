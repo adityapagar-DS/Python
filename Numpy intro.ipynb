{
 "cells": [
  {
   "cell_type": "code",
   "execution_count": 2,
   "id": "64a6cd50-d451-4fa3-87a0-cf4bc1137d6f",
   "metadata": {},
   "outputs": [],
   "source": [
    "import numpy as np"
   ]
  },
  {
   "cell_type": "code",
   "execution_count": 10,
   "id": "bfd91ff6-f0e9-4c0f-ab3a-f0b66e71f890",
   "metadata": {},
   "outputs": [
    {
     "data": {
      "text/plain": [
       "dtype('<U6')"
      ]
     },
     "execution_count": 10,
     "metadata": {},
     "output_type": "execute_result"
    }
   ],
   "source": [
    "arr1= np.array ([11,22,33,44,55]) #Create an empty array\n",
    "arr1.dtype\n",
    "arr2= np.array(['frmale','male','female'])\n",
    "arr2.dtype"
   ]
  },
  {
   "cell_type": "code",
   "execution_count": 21,
   "id": "595811e9-c9fb-426b-99e7-0458b4b121cd",
   "metadata": {},
   "outputs": [
    {
     "data": {
      "text/plain": [
       "numpy.ndarray"
      ]
     },
     "execution_count": 21,
     "metadata": {},
     "output_type": "execute_result"
    }
   ],
   "source": [
    "l1=[11,22,33,44,55,66]\n",
    "l2=[22,33,44,55,66,77]\n",
    "array1 = np.array((l1,l2))\n",
    "type(array1)\n",
    "#type of array"
   ]
  },
  {
   "cell_type": "code",
   "execution_count": 23,
   "id": "1da82d22-ae1f-4f83-88ab-436a4f069946",
   "metadata": {},
   "outputs": [
    {
     "data": {
      "text/plain": [
       "2"
      ]
     },
     "execution_count": 23,
     "metadata": {},
     "output_type": "execute_result"
    }
   ],
   "source": [
    "#Dimention of array\n",
    "array1.ndim"
   ]
  },
  {
   "cell_type": "code",
   "execution_count": 31,
   "id": "d707cef0-d29c-45c7-8660-84e607d922ed",
   "metadata": {},
   "outputs": [
    {
     "data": {
      "text/plain": [
       "12"
      ]
     },
     "execution_count": 31,
     "metadata": {},
     "output_type": "execute_result"
    }
   ],
   "source": [
    "#Size of array ---->number of item present in the array\n",
    "array1.size"
   ]
  },
  {
   "cell_type": "code",
   "execution_count": 30,
   "id": "e6a2a192-4b12-4b74-a549-633defa7f391",
   "metadata": {},
   "outputs": [
    {
     "data": {
      "text/plain": [
       "(2, 6)"
      ]
     },
     "execution_count": 30,
     "metadata": {},
     "output_type": "execute_result"
    }
   ],
   "source": [
    "#Shape of array ---->number of rows and colums\n",
    "array1.shape"
   ]
  },
  {
   "cell_type": "code",
   "execution_count": 28,
   "id": "c6fd020c-7e11-4f34-b52c-433270d08320",
   "metadata": {},
   "outputs": [
    {
     "data": {
      "text/plain": [
       "array([[11, 22, 33],\n",
       "       [44, 55, 66],\n",
       "       [77, 88, 99]])"
      ]
     },
     "execution_count": 28,
     "metadata": {},
     "output_type": "execute_result"
    }
   ],
   "source": [
    "#array can be of n diamenstions\n",
    "matrix=[[11,22,33],[44,55,66],[77,88,99]]\n",
    "matrix_array= np.array(matrix)\n",
    "matrix_array"
   ]
  },
  {
   "cell_type": "code",
   "execution_count": 57,
   "id": "1d722310-84cd-4a4a-8c34-fef8182c4c93",
   "metadata": {},
   "outputs": [
    {
     "data": {
      "text/plain": [
       "3"
      ]
     },
     "execution_count": 57,
     "metadata": {},
     "output_type": "execute_result"
    }
   ],
   "source": [
    "#array can be of n diamenstions\n",
    "matrix=[[[11,22,33],[44,55,66],[77,88,99]]]\n",
    "matrix_array= np.array(matrix)\n",
    "matrix_array.ndim"
   ]
  },
  {
   "cell_type": "code",
   "execution_count": 58,
   "id": "ba219ec5-ad36-4637-a342-9dddc26679eb",
   "metadata": {},
   "outputs": [
    {
     "name": "stdout",
     "output_type": "stream",
     "text": [
      "The Diamenstion of array 3\n"
     ]
    }
   ],
   "source": [
    "print('The Diamenstion of array',matrix_array.ndim)"
   ]
  },
  {
   "cell_type": "code",
   "execution_count": 59,
   "id": "f3d8dd2b-0a51-4d69-8cb6-7d349bae206c",
   "metadata": {},
   "outputs": [
    {
     "data": {
      "text/plain": [
       "(1, 3, 3)"
      ]
     },
     "execution_count": 59,
     "metadata": {},
     "output_type": "execute_result"
    }
   ],
   "source": [
    "#Rebuild functions\n",
    "#1.Reshape Function\n",
    "matrix_array.shape"
   ]
  },
  {
   "cell_type": "code",
   "execution_count": 60,
   "id": "22af67a1-31f5-4792-a5f4-9f5fe268ebcf",
   "metadata": {},
   "outputs": [
    {
     "data": {
      "text/plain": [
       "array([11, 22, 33, 44, 55, 66, 77, 88, 99])"
      ]
     },
     "execution_count": 60,
     "metadata": {},
     "output_type": "execute_result"
    }
   ],
   "source": [
    "matrix_array.reshape(-1)"
   ]
  },
  {
   "cell_type": "code",
   "execution_count": 77,
   "id": "287a92a5-8590-4976-b338-c4925b91d555",
   "metadata": {},
   "outputs": [
    {
     "data": {
      "text/plain": [
       "array([[[11, 22, 33],\n",
       "        [44, 55, 66],\n",
       "        [77, 88, 99]]])"
      ]
     },
     "execution_count": 77,
     "metadata": {},
     "output_type": "execute_result"
    }
   ],
   "source": [
    "matrix_array.reshape(1,3,3)"
   ]
  },
  {
   "cell_type": "code",
   "execution_count": 69,
   "id": "8bb349b0-edbb-4fae-98bd-daec3b8ac1ab",
   "metadata": {},
   "outputs": [
    {
     "data": {
      "text/plain": [
       "array([11, 22, 33, 44, 55, 66, 77, 88, 99])"
      ]
     },
     "execution_count": 69,
     "metadata": {},
     "output_type": "execute_result"
    }
   ],
   "source": [
    "matrix_array.reshape(-2)"
   ]
  },
  {
   "cell_type": "code",
   "execution_count": 78,
   "id": "d0b11eaf-7e3c-4f41-9789-1e58310a7de9",
   "metadata": {},
   "outputs": [
    {
     "data": {
      "text/plain": [
       "array([0, 1, 2, 3, 4, 5, 6, 7, 8, 9])"
      ]
     },
     "execution_count": 78,
     "metadata": {},
     "output_type": "execute_result"
    }
   ],
   "source": [
    "#Arange Function(Start,Step,Stop)\n",
    "np.arange(10)"
   ]
  },
  {
   "cell_type": "code",
   "execution_count": 79,
   "id": "e27f53a2-8ce7-49e0-a7e3-401714a51fb1",
   "metadata": {},
   "outputs": [
    {
     "data": {
      "text/plain": [
       "array([ 2,  3,  4,  5,  6,  7,  8,  9, 10, 11, 12, 13, 14])"
      ]
     },
     "execution_count": 79,
     "metadata": {},
     "output_type": "execute_result"
    }
   ],
   "source": [
    "np.arange(2,15)"
   ]
  },
  {
   "cell_type": "code",
   "execution_count": 80,
   "id": "2c1b0197-4854-49c7-a0cf-392dc5195562",
   "metadata": {},
   "outputs": [
    {
     "data": {
      "text/plain": [
       "array([0, 2, 4, 6, 8])"
      ]
     },
     "execution_count": 80,
     "metadata": {},
     "output_type": "execute_result"
    }
   ],
   "source": [
    "#step\n",
    "np.arange(0,10,2)"
   ]
  },
  {
   "cell_type": "code",
   "execution_count": 81,
   "id": "43b8f552-73c3-4686-91f1-7fe4e9ba78af",
   "metadata": {},
   "outputs": [],
   "source": [
    "#Zeros and once"
   ]
  },
  {
   "cell_type": "code",
   "execution_count": 88,
   "id": "0ed4604f-79d3-4785-a51e-2ba6bccaadc5",
   "metadata": {},
   "outputs": [
    {
     "data": {
      "text/plain": [
       "array([0., 0.])"
      ]
     },
     "execution_count": 88,
     "metadata": {},
     "output_type": "execute_result"
    }
   ],
   "source": [
    "#Generate array of zero & once\n",
    "np.zeros(2)"
   ]
  },
  {
   "cell_type": "code",
   "execution_count": 95,
   "id": "c2fd4848-6284-4ca3-981e-c52a4235f41d",
   "metadata": {},
   "outputs": [
    {
     "data": {
      "text/plain": [
       "array([[[0., 0., 0.],\n",
       "        [0., 0., 0.],\n",
       "        [0., 0., 0.]],\n",
       "\n",
       "       [[0., 0., 0.],\n",
       "        [0., 0., 0.],\n",
       "        [0., 0., 0.]],\n",
       "\n",
       "       [[0., 0., 0.],\n",
       "        [0., 0., 0.],\n",
       "        [0., 0., 0.]]])"
      ]
     },
     "execution_count": 95,
     "metadata": {},
     "output_type": "execute_result"
    }
   ],
   "source": [
    "np.zeros((3,3,3))"
   ]
  },
  {
   "cell_type": "code",
   "execution_count": 96,
   "id": "2f0aae85-e722-4cac-8bb4-371b74630280",
   "metadata": {},
   "outputs": [
    {
     "data": {
      "text/plain": [
       "array([1., 1.])"
      ]
     },
     "execution_count": 96,
     "metadata": {},
     "output_type": "execute_result"
    }
   ],
   "source": [
    "np.ones(2)"
   ]
  },
  {
   "cell_type": "code",
   "execution_count": 98,
   "id": "ec2743c8-982e-4efc-8e92-335cf7ae51d7",
   "metadata": {},
   "outputs": [
    {
     "data": {
      "text/plain": [
       "array([[[1., 1., 1.],\n",
       "        [1., 1., 1.],\n",
       "        [1., 1., 1.]],\n",
       "\n",
       "       [[1., 1., 1.],\n",
       "        [1., 1., 1.],\n",
       "        [1., 1., 1.]],\n",
       "\n",
       "       [[1., 1., 1.],\n",
       "        [1., 1., 1.],\n",
       "        [1., 1., 1.]]])"
      ]
     },
     "execution_count": 98,
     "metadata": {},
     "output_type": "execute_result"
    }
   ],
   "source": [
    "np.ones((3,3,3))"
   ]
  },
  {
   "cell_type": "code",
   "execution_count": 100,
   "id": "69955deb-251c-48d6-bc78-4cf90b5b4743",
   "metadata": {},
   "outputs": [
    {
     "data": {
      "text/plain": [
       "array([ 1.        ,  1.18367347,  1.36734694,  1.55102041,  1.73469388,\n",
       "        1.91836735,  2.10204082,  2.28571429,  2.46938776,  2.65306122,\n",
       "        2.83673469,  3.02040816,  3.20408163,  3.3877551 ,  3.57142857,\n",
       "        3.75510204,  3.93877551,  4.12244898,  4.30612245,  4.48979592,\n",
       "        4.67346939,  4.85714286,  5.04081633,  5.2244898 ,  5.40816327,\n",
       "        5.59183673,  5.7755102 ,  5.95918367,  6.14285714,  6.32653061,\n",
       "        6.51020408,  6.69387755,  6.87755102,  7.06122449,  7.24489796,\n",
       "        7.42857143,  7.6122449 ,  7.79591837,  7.97959184,  8.16326531,\n",
       "        8.34693878,  8.53061224,  8.71428571,  8.89795918,  9.08163265,\n",
       "        9.26530612,  9.44897959,  9.63265306,  9.81632653, 10.        ])"
      ]
     },
     "execution_count": 100,
     "metadata": {},
     "output_type": "execute_result"
    }
   ],
   "source": [
    "#Linspace\n",
    "#Return every spaced number over a specif interval\n",
    "np.linspace(1,10) #it check defualt 50 observation"
   ]
  },
  {
   "cell_type": "code",
   "execution_count": 105,
   "id": "6778546f-5888-4c6d-881d-c61ffa2f1d6a",
   "metadata": {},
   "outputs": [
    {
     "data": {
      "text/plain": [
       "array([ 1. ,  5.5, 10. ])"
      ]
     },
     "execution_count": 105,
     "metadata": {},
     "output_type": "execute_result"
    }
   ],
   "source": [
    "np.linspace(1,10,3)"
   ]
  },
  {
   "cell_type": "code",
   "execution_count": 106,
   "id": "c3a6c2b7-59c2-4f33-85d7-89af28877d2d",
   "metadata": {},
   "outputs": [],
   "source": [
    "#Eye\n",
    "#Create an identity matrix"
   ]
  },
  {
   "cell_type": "code",
   "execution_count": 111,
   "id": "a2245024-3293-4493-b14f-5122aa0b36ea",
   "metadata": {},
   "outputs": [
    {
     "data": {
      "text/plain": [
       "array([[1., 0., 0., 0.],\n",
       "       [0., 1., 0., 0.],\n",
       "       [0., 0., 1., 0.],\n",
       "       [0., 0., 0., 1.]])"
      ]
     },
     "execution_count": 111,
     "metadata": {},
     "output_type": "execute_result"
    }
   ],
   "source": [
    "np.eye(4) #Generate 2d array of (5,5)"
   ]
  },
  {
   "cell_type": "code",
   "execution_count": 110,
   "id": "7311b30c-b9dd-43b3-8143-8010239625e6",
   "metadata": {},
   "outputs": [
    {
     "data": {
      "text/plain": [
       "array([2, 2, 2, 2, 2])"
      ]
     },
     "execution_count": 110,
     "metadata": {},
     "output_type": "execute_result"
    }
   ],
   "source": [
    "np.full(5,2)"
   ]
  },
  {
   "cell_type": "code",
   "execution_count": 113,
   "id": "c5172a17-dc95-4356-9495-167099c7a872",
   "metadata": {},
   "outputs": [],
   "source": [
    "#Broadcasting in an array"
   ]
  },
  {
   "cell_type": "code",
   "execution_count": 112,
   "id": "71436966-eb88-4fa7-a197-a80b64f2176e",
   "metadata": {},
   "outputs": [
    {
     "data": {
      "text/plain": [
       "array([ 3,  6,  9, 12, 15, 18])"
      ]
     },
     "execution_count": 112,
     "metadata": {},
     "output_type": "execute_result"
    }
   ],
   "source": [
    "array1=np.array([1,2,3,4,5,6])\n",
    "array1*3"
   ]
  },
  {
   "cell_type": "code",
   "execution_count": null,
   "id": "47e3a018-67e9-4c4a-b25a-e8cf6193b7d5",
   "metadata": {},
   "outputs": [],
   "source": [
    "#Randmon number generation with rand"
   ]
  },
  {
   "cell_type": "code",
   "execution_count": 115,
   "id": "e2c97b96-9050-4e8d-a0d5-215eb8d33a7b",
   "metadata": {},
   "outputs": [
    {
     "data": {
      "text/plain": [
       "0.32322164500778383"
      ]
     },
     "execution_count": 115,
     "metadata": {},
     "output_type": "execute_result"
    }
   ],
   "source": [
    "np.random.rand()  #-----> it always generate the new numbers in between 0 to 1"
   ]
  },
  {
   "cell_type": "code",
   "execution_count": 117,
   "id": "a46b6ec4-f11d-4215-a2fa-63bedcddb37b",
   "metadata": {},
   "outputs": [
    {
     "data": {
      "text/plain": [
       "array([0.81019655, 0.70543593, 0.09569001, 0.14512654, 0.62285597])"
      ]
     },
     "execution_count": 117,
     "metadata": {},
     "output_type": "execute_result"
    }
   ],
   "source": [
    "np.random.rand(5) #----> rand gives random 5 value in between 0 to 1"
   ]
  },
  {
   "cell_type": "code",
   "execution_count": 121,
   "id": "06f70343-6afc-4fee-891f-7ddaba30def4",
   "metadata": {},
   "outputs": [
    {
     "data": {
      "text/plain": [
       "array([[[0.38492051, 0.65259363, 0.04194602, 0.18907941],\n",
       "        [0.75851478, 0.76250522, 0.07904322, 0.44213794]],\n",
       "\n",
       "       [[0.10156838, 0.35219932, 0.26093691, 0.76911895],\n",
       "        [0.26528691, 0.04393819, 0.96295418, 0.55420493]],\n",
       "\n",
       "       [[0.59313877, 0.01669608, 0.27974867, 0.67526196],\n",
       "        [0.4003777 , 0.37637146, 0.92529617, 0.80212755]]])"
      ]
     },
     "execution_count": 121,
     "metadata": {},
     "output_type": "execute_result"
    }
   ],
   "source": [
    "np.random.rand(3,2,4)"
   ]
  },
  {
   "cell_type": "code",
   "execution_count": 122,
   "id": "96c64850-3c10-4d0c-81c0-2497a5a49aac",
   "metadata": {},
   "outputs": [],
   "source": [
    "#Random number generation with randn"
   ]
  },
  {
   "cell_type": "code",
   "execution_count": 124,
   "id": "aaf3746d-79fe-44cc-9782-b1310b41d16f",
   "metadata": {},
   "outputs": [
    {
     "data": {
      "text/plain": [
       "-0.7149988893152232"
      ]
     },
     "execution_count": 124,
     "metadata": {},
     "output_type": "execute_result"
    }
   ],
   "source": [
    "np.random.randn() #----->> it generate values between -3 to 3"
   ]
  },
  {
   "cell_type": "code",
   "execution_count": 125,
   "id": "0048e5b8-6f68-4d05-98f9-8048e14eb718",
   "metadata": {},
   "outputs": [
    {
     "data": {
      "text/plain": [
       "array([[[-0.42412277, -0.11386499,  1.07800284,  0.81232088],\n",
       "        [-0.22641386,  1.0578303 , -1.77453332, -1.67513404]],\n",
       "\n",
       "       [[ 1.76358443,  0.95204643, -0.29707152,  0.9764834 ],\n",
       "        [-1.2887199 ,  1.09658911,  1.08868954,  1.00653391]],\n",
       "\n",
       "       [[ 0.87528994,  0.76174775, -0.05486592,  0.33864771],\n",
       "        [-1.74538952, -0.06537292,  0.55490386, -0.40819332]]])"
      ]
     },
     "execution_count": 125,
     "metadata": {},
     "output_type": "execute_result"
    }
   ],
   "source": [
    "np.random.randn(3,2,4)"
   ]
  },
  {
   "cell_type": "code",
   "execution_count": 126,
   "id": "8da89758-2c12-450e-a44b-d27a51057f5d",
   "metadata": {},
   "outputs": [],
   "source": [
    "#Random number generation with randint"
   ]
  },
  {
   "cell_type": "code",
   "execution_count": 127,
   "id": "148fc1bc-58a6-4089-9fde-06f77cef1d34",
   "metadata": {},
   "outputs": [
    {
     "data": {
      "text/plain": [
       "55"
      ]
     },
     "execution_count": 127,
     "metadata": {},
     "output_type": "execute_result"
    }
   ],
   "source": [
    "np.random.randint(1,100)"
   ]
  },
  {
   "cell_type": "code",
   "execution_count": 128,
   "id": "6dec9fdd-9a9e-4f54-8e48-753f0bd0357f",
   "metadata": {},
   "outputs": [
    {
     "data": {
      "text/plain": [
       "array([46, 35, 51, 67, 82], dtype=int32)"
      ]
     },
     "execution_count": 128,
     "metadata": {},
     "output_type": "execute_result"
    }
   ],
   "source": [
    "np.random.randint(1,100,5)"
   ]
  },
  {
   "cell_type": "code",
   "execution_count": 132,
   "id": "8d5c146d-1261-44bf-a503-8732edf4aebc",
   "metadata": {},
   "outputs": [
    {
     "data": {
      "text/plain": [
       "array([70, 99], dtype=int32)"
      ]
     },
     "execution_count": 132,
     "metadata": {},
     "output_type": "execute_result"
    }
   ],
   "source": [
    "np.random.randint(1,100,2)"
   ]
  },
  {
   "cell_type": "code",
   "execution_count": 138,
   "id": "72a71ab0-a046-4c11-93ee-37c7f1113687",
   "metadata": {},
   "outputs": [
    {
     "data": {
      "text/plain": [
       "array([], shape=(2, 0, 0, 2, 1, 6, 5), dtype=float64)"
      ]
     },
     "execution_count": 138,
     "metadata": {},
     "output_type": "execute_result"
    }
   ],
   "source": [
    "#Using all three functions with your dob\n",
    "np.random.rand(2,0,0,2,1,6,5) #----->> they show empty array bcoz 0 involved in your number"
   ]
  },
  {
   "cell_type": "code",
   "execution_count": 139,
   "id": "159c579e-5f7e-48d7-b584-04b85d668e80",
   "metadata": {},
   "outputs": [
    {
     "data": {
      "text/plain": [
       "array([ 742,  671, 1095,  889, 1299], dtype=int32)"
      ]
     },
     "execution_count": 139,
     "metadata": {},
     "output_type": "execute_result"
    }
   ],
   "source": [
    "np.random.randint(16,2002,5)"
   ]
  },
  {
   "cell_type": "code",
   "execution_count": 140,
   "id": "a497a8c3-9dfb-4e0d-9d9e-4d4270ac2145",
   "metadata": {},
   "outputs": [
    {
     "data": {
      "text/plain": [
       "array([1699, 1871,  570, 1973,  295], dtype=int32)"
      ]
     },
     "execution_count": 140,
     "metadata": {},
     "output_type": "execute_result"
    }
   ],
   "source": [
    "arr1=np.random.randint(16,2002,5)\n",
    "arr1"
   ]
  },
  {
   "cell_type": "code",
   "execution_count": 141,
   "id": "fd29bc69-9656-4d7c-9e3d-80c7a660e5e1",
   "metadata": {},
   "outputs": [
    {
     "data": {
      "text/plain": [
       "np.int32(1973)"
      ]
     },
     "execution_count": 141,
     "metadata": {},
     "output_type": "execute_result"
    }
   ],
   "source": [
    "arr1.max()"
   ]
  },
  {
   "cell_type": "code",
   "execution_count": 142,
   "id": "22300196-535c-4c1c-b1d7-02a998036cf2",
   "metadata": {},
   "outputs": [
    {
     "data": {
      "text/plain": [
       "np.int32(295)"
      ]
     },
     "execution_count": 142,
     "metadata": {},
     "output_type": "execute_result"
    }
   ],
   "source": [
    "arr1.min()"
   ]
  },
  {
   "cell_type": "code",
   "execution_count": 143,
   "id": "5d5185d8-855f-4bb8-8a56-949cc541d810",
   "metadata": {},
   "outputs": [
    {
     "data": {
      "text/plain": [
       "np.int64(3)"
      ]
     },
     "execution_count": 143,
     "metadata": {},
     "output_type": "execute_result"
    }
   ],
   "source": [
    "arr1.argmax()"
   ]
  },
  {
   "cell_type": "code",
   "execution_count": 144,
   "id": "bb750482-1d99-4dca-b077-6d87e35b2fb6",
   "metadata": {},
   "outputs": [
    {
     "data": {
      "text/plain": [
       "np.int64(4)"
      ]
     },
     "execution_count": 144,
     "metadata": {},
     "output_type": "execute_result"
    }
   ],
   "source": [
    "arr1.argmin()"
   ]
  },
  {
   "cell_type": "code",
   "execution_count": null,
   "id": "c2604447-815b-41e4-8017-38af6b8cbffe",
   "metadata": {},
   "outputs": [],
   "source": []
  }
 ],
 "metadata": {
  "kernelspec": {
   "display_name": "Python [conda env:base] *",
   "language": "python",
   "name": "conda-base-py"
  },
  "language_info": {
   "codemirror_mode": {
    "name": "ipython",
    "version": 3
   },
   "file_extension": ".py",
   "mimetype": "text/x-python",
   "name": "python",
   "nbconvert_exporter": "python",
   "pygments_lexer": "ipython3",
   "version": "3.13.5"
  }
 },
 "nbformat": 4,
 "nbformat_minor": 5
}
