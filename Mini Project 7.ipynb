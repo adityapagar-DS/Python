{
 "cells": [
  {
   "cell_type": "code",
   "execution_count": null,
   "id": "41e5c299-ae0d-4b71-83c2-ee23800adcc8",
   "metadata": {},
   "outputs": [],
   "source": [
    "'''PYTHON MINI PROJECT'''"
   ]
  },
  {
   "cell_type": "code",
   "execution_count": null,
   "id": "3ee99517-0e2c-49c6-89cc-a1028439e71f",
   "metadata": {},
   "outputs": [],
   "source": [
    "'''Inventory Tracker System'''"
   ]
  },
  {
   "cell_type": "code",
   "execution_count": 5,
   "id": "32316101-4ca2-440c-9844-3df68865e8ba",
   "metadata": {},
   "outputs": [
    {
     "name": "stdout",
     "output_type": "stream",
     "text": [
      "Welcome to inventory tracker system\n",
      "\n",
      "Choose an option:\n",
      "1. Display Inventory\n",
      "2. Add New Item\n",
      "3. Update Item Quantity\n",
      "4. Delete Item\n",
      "5. Exit\n"
     ]
    },
    {
     "name": "stdin",
     "output_type": "stream",
     "text": [
      "Entre Your Choice (1-5): 1\n"
     ]
    },
    {
     "name": "stdout",
     "output_type": "stream",
     "text": [
      "\n",
      "Current Inventory:\n",
      "Mouse - 10 /unit\n",
      "Keyboard - 5 /unit\n",
      "Monitor - 3 /unit\n",
      "CPU - 2 /unit\n",
      "\n",
      "Choose an option:\n",
      "1. Display Inventory\n",
      "2. Add New Item\n",
      "3. Update Item Quantity\n",
      "4. Delete Item\n",
      "5. Exit\n"
     ]
    },
    {
     "name": "stdin",
     "output_type": "stream",
     "text": [
      "Entre Your Choice (1-5): 2\n",
      "Enter item name to add: monitor\n",
      "Enter the quantity of {item} : 7\n"
     ]
    },
    {
     "name": "stdout",
     "output_type": "stream",
     "text": [
      "Monitor are added in your inventory with the 7 unit\n",
      "Your Current Inventory after modification Monitor - {'Mouse': 10, 'Keyboard': 5, 'Monitor': 10, 'CPU': 2}\n",
      "\n",
      " Thank you for using Inventory Tracker System.\n",
      "\n",
      "Choose an option:\n",
      "1. Display Inventory\n",
      "2. Add New Item\n",
      "3. Update Item Quantity\n",
      "4. Delete Item\n",
      "5. Exit\n"
     ]
    },
    {
     "name": "stdin",
     "output_type": "stream",
     "text": [
      "Entre Your Choice (1-5): 3\n",
      "Entre the item name to update: monitor\n"
     ]
    },
    {
     "name": "stdout",
     "output_type": "stream",
     "text": [
      "Monitor quantity updated to 7.\n",
      "Your Current Inventory after modification Monitor - {'Mouse': 10, 'Keyboard': 5, 'Monitor': 7, 'CPU': 2}\n",
      "\n",
      " Thank you for using Inventory Tracker System.\n",
      "\n",
      "Choose an option:\n",
      "1. Display Inventory\n",
      "2. Add New Item\n",
      "3. Update Item Quantity\n",
      "4. Delete Item\n",
      "5. Exit\n"
     ]
    },
    {
     "name": "stdin",
     "output_type": "stream",
     "text": [
      "Entre Your Choice (1-5): 4\n",
      "Entre the Item name for delete monitor\n",
      "Enter new quantity for Monitor:  4\n"
     ]
    },
    {
     "name": "stdout",
     "output_type": "stream",
     "text": [
      "Monitor has been deleted from inventory.\n",
      "Your Current Inventory after modification Monitor - {'Mouse': 10, 'Keyboard': 5, 'Monitor': 3, 'CPU': 2}\n",
      "\n",
      " Thank you for using Inventory Tracker System.\n",
      "\n",
      "Choose an option:\n",
      "1. Display Inventory\n",
      "2. Add New Item\n",
      "3. Update Item Quantity\n",
      "4. Delete Item\n",
      "5. Exit\n"
     ]
    },
    {
     "name": "stdin",
     "output_type": "stream",
     "text": [
      "Entre Your Choice (1-5): 5\n"
     ]
    },
    {
     "name": "stdout",
     "output_type": "stream",
     "text": [
      "Exiting Inventory Tracker. Thank you!\n"
     ]
    }
   ],
   "source": [
    "#Concepts Used: Dictionaries, Loops, Input, Update/Delete/Add logic\n",
    "\n",
    "inventory = {\"Mouse\": 10, \"Keyboard\": 5, \"Monitor\": 3, \"CPU\": 2}\n",
    "print (\"Welcome to inventory tracker system\")\n",
    "\n",
    "while True:\n",
    "    print(\"\\nChoose an option:\")\n",
    "    print(\"1. Display Inventory\")\n",
    "    print(\"2. Add New Item\")\n",
    "    print(\"3. Update Item Quantity\")\n",
    "    print(\"4. Delete Item\")\n",
    "    print(\"5. Exit\")\n",
    "\n",
    "    choice = input(\"Entre Your Choice (1-5):\")\n",
    "\n",
    "    if choice == \"1\":\n",
    "        if inventory:\n",
    "            print(\"\\nCurrent Inventory:\")\n",
    "            for item,qty in inventory.items():\n",
    "                print (f\"{item} - {qty} /unit\")\n",
    "        else:\n",
    "            print (\"Inventory is empty\")\n",
    "\n",
    "\n",
    "    elif choice == \"2\":\n",
    "        item = input (\"Enter item name to add:\").title()\n",
    "        qty = int (input(\"Enter the quantity of {item} :\"))\n",
    "        if item in inventory:\n",
    "            inventory [item]+= qty\n",
    "            print (f\"{item} are added in your inventory with the {qty} unit\")\n",
    "        else:\n",
    "            inventory[item] = qty\n",
    "            print(f\"{item} added with {qty} units.\")\n",
    "        print(f\"Your Current Inventory after modification {item} - {inventory}\")\n",
    "        print(\"\\n Thank you for using Inventory Tracker System.\")\n",
    "\n",
    "\n",
    "    elif choice == \"3\":\n",
    "        update = input(\"Entre the item name to update:\").title()\n",
    "        if update in inventory:\n",
    "            inventory[update]=qty\n",
    "            print(f\"{item} quantity updated to {qty}.\")\n",
    "        else:\n",
    "            print(f\"{item} not found in inventory.\")\n",
    "        print(f\"Your Current Inventory after modification {update} - {inventory}\")\n",
    "        print(\"\\n Thank you for using Inventory Tracker System.\")\n",
    "\n",
    "\n",
    "    elif choice == \"4\":\n",
    "        delete = input (\"Entre the Item name for delete\").title()\n",
    "        if delete in inventory:\n",
    "            qty = int(input(f\"Enter new quantity for {item}: \"))\n",
    "            inventory[delete]-=qty\n",
    "            print(f\"{delete} has been deleted from inventory.\")\n",
    "        else:\n",
    "            print(f\"{delete} not found in inventory.\")\n",
    "        print(f\"Your Current Inventory after modification {delete} - {inventory}\")\n",
    "        print(\"\\n Thank you for using Inventory Tracker System.\")\n",
    "\n",
    "\n",
    "    elif choice == \"5\":\n",
    "        print(\"Exiting Inventory Tracker. Thank you!\")\n",
    "        break\n",
    "\n",
    "    else:\n",
    "        print(\"Invalid option! Please choose between 1-5.\")"
   ]
  },
  {
   "cell_type": "code",
   "execution_count": null,
   "id": "62e2765e-7caf-4b7b-8ba9-8b6cf8486515",
   "metadata": {},
   "outputs": [],
   "source": []
  }
 ],
 "metadata": {
  "kernelspec": {
   "display_name": "Python [conda env:base] *",
   "language": "python",
   "name": "conda-base-py"
  },
  "language_info": {
   "codemirror_mode": {
    "name": "ipython",
    "version": 3
   },
   "file_extension": ".py",
   "mimetype": "text/x-python",
   "name": "python",
   "nbconvert_exporter": "python",
   "pygments_lexer": "ipython3",
   "version": "3.13.5"
  }
 },
 "nbformat": 4,
 "nbformat_minor": 5
}
