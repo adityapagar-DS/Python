{
 "cells": [
  {
   "cell_type": "code",
   "execution_count": null,
   "id": "b324a1f7-f95e-4fd1-9d67-b18f478a13a4",
   "metadata": {},
   "outputs": [],
   "source": [
    "'''MINI PROJECT ON FUNCTIONS'''"
   ]
  },
  {
   "cell_type": "code",
   "execution_count": null,
   "id": "2803d2b9-b5c2-49ee-bb66-4fa07f68c1b5",
   "metadata": {},
   "outputs": [],
   "source": [
    "'''Student Grade Analyzer'''"
   ]
  },
  {
   "cell_type": "code",
   "execution_count": 9,
   "id": "d00870b7-28bc-4497-828b-d2d818c11fd2",
   "metadata": {},
   "outputs": [
    {
     "name": "stdout",
     "output_type": "stream",
     "text": [
      "\n",
      " Student name and their marks:\n",
      "[('Aditya', 91),\n",
      " ('Yash', 75),\n",
      " ('Shiva', 86),\n",
      " ('Tushar', 41),\n",
      " ('Gitu', 27),\n",
      " ('Mayank', 48),\n",
      " ('Himanshu', 55)]\n",
      "\n",
      " list of the student who failed in exam:\n",
      "[('Tushar', 41), ('Gitu', 27), ('Mayank', 48)]\n",
      "\n",
      " Student Ranking:\n",
      "[('Aditya', 91),\n",
      " ('Shiva', 86),\n",
      " ('Yash', 75),\n",
      " ('Himanshu', 55),\n",
      " ('Mayank', 48),\n",
      " ('Tushar', 41),\n",
      " ('Gitu', 27)]\n"
     ]
    }
   ],
   "source": [
    "import pprint\n",
    "\n",
    "name  = [\"Aditya\",\"Yash\",\"Shiva\",\"Tushar\",\"Gitu\",\"Mayank\",\"Himanshu\"]\n",
    "marks = [91,75,86,41,27,48,55]\n",
    "\n",
    "student_marks = list(zip(name,marks))\n",
    "print(\"\\n Student name and their marks:\")\n",
    "pprint.pprint(student_marks)\n",
    "\n",
    "failed_students = list(filter(lambda x: x[1]<50,student_marks))\n",
    "print(\"\\n list of the student who failed in exam:\")\n",
    "pprint.pprint(failed_students)\n",
    "\n",
    "student_ranking = sorted (student_marks, key=lambda x:x[1],reverse=True)\n",
    "print(\"\\n Student Ranking:\")\n",
    "pprint.pprint(student_ranking)"
   ]
  },
  {
   "cell_type": "code",
   "execution_count": null,
   "id": "ec699494-c74e-448b-a0df-2bbf0b8c5e0e",
   "metadata": {},
   "outputs": [],
   "source": []
  },
  {
   "cell_type": "code",
   "execution_count": null,
   "id": "7a36cf16-5077-4db7-8b33-9af926798730",
   "metadata": {},
   "outputs": [],
   "source": []
  },
  {
   "cell_type": "code",
   "execution_count": null,
   "id": "e8ab2cd9-bd86-4888-a979-0f8ad0c4fccc",
   "metadata": {},
   "outputs": [],
   "source": [
    "'''Student Filter & Report Card Generator'''"
   ]
  },
  {
   "cell_type": "code",
   "execution_count": 8,
   "id": "e021df66-be07-4f6b-a24f-f1b9d54a1c45",
   "metadata": {},
   "outputs": [
    {
     "name": "stdout",
     "output_type": "stream",
     "text": [
      "\n",
      " Student result with GRACE marks\n",
      "[{'age': 22, 'marks': 93, 'name': 'aditya'},\n",
      " {'age': 21, 'marks': 41, 'name': 'yash'},\n",
      " {'age': 23, 'marks': 96, 'name': 'mayank'},\n",
      " {'age': 22, 'marks': 29, 'name': 'tushar'},\n",
      " {'age': 21, 'marks': 83, 'name': 'shiv'}]\n",
      "\n",
      " list of student who passed the exam\n",
      "[{'age': 22, 'marks': 93, 'name': 'aditya'},\n",
      " {'age': 21, 'marks': 41, 'name': 'yash'},\n",
      " {'age': 23, 'marks': 96, 'name': 'mayank'},\n",
      " {'age': 21, 'marks': 83, 'name': 'shiv'}]\n",
      "\n",
      " Student Ranking\n",
      "[{'age': 23, 'marks': 96, 'name': 'mayank'},\n",
      " {'age': 22, 'marks': 93, 'name': 'aditya'},\n",
      " {'age': 21, 'marks': 83, 'name': 'shiv'},\n",
      " {'age': 21, 'marks': 41, 'name': 'yash'},\n",
      " {'age': 22, 'marks': 29, 'name': 'tushar'}]\n",
      "\n",
      " Report Card of Passed Students:\n",
      "\n",
      "Name: Aditya, Age: 22, Final Marks: 93\n",
      "Name: Yash, Age: 21, Final Marks: 41\n",
      "Name: Mayank, Age: 23, Final Marks: 96\n",
      "Name: Shiv, Age: 21, Final Marks: 83\n"
     ]
    }
   ],
   "source": [
    "import pprint\n",
    "\n",
    "students = [\n",
    "    {\"name\": \"aditya\", \"age\": 22, \"marks\": 88},\n",
    "    {\"name\": \"yash\", \"age\": 21, \"marks\": 36},\n",
    "    {\"name\": \"mayank\", \"age\": 23, \"marks\": 91},\n",
    "    {\"name\": \"tushar\", \"age\": 22, \"marks\": 24},\n",
    "    {\"name\": \"shiv\", \"age\": 21, \"marks\": 78}\n",
    "]\n",
    "\n",
    "grace_marks = list(map(lambda x: {**x, \"marks\": x[\"marks\"]+5},students))\n",
    "print (\"\\n Student result with GRACE marks\")\n",
    "pprint.pprint(grace_marks)\n",
    "\n",
    "pass_student = list(filter(lambda x: x[\"marks\"]>=40,grace_marks))\n",
    "print(\"\\n list of student who passed the exam\")\n",
    "pprint.pprint(pass_student)\n",
    "\n",
    "ranking = sorted(grace_marks, key=lambda x: x[\"marks\"],reverse=True)\n",
    "print(\"\\n Student Ranking\")\n",
    "pprint.pprint(ranking)\n",
    "\n",
    "print(\"\\n Report Card of Passed Students:\\n\")\n",
    "for i in pass_student:\n",
    "    print (f\"Name: {i['name'].title()}, Age: {i['age']}, Final Marks: {i['marks']}\")"
   ]
  },
  {
   "cell_type": "code",
   "execution_count": null,
   "id": "49bcc341-1140-4c03-927a-eec41d930b8c",
   "metadata": {},
   "outputs": [],
   "source": []
  }
 ],
 "metadata": {
  "kernelspec": {
   "display_name": "Python [conda env:base] *",
   "language": "python",
   "name": "conda-base-py"
  },
  "language_info": {
   "codemirror_mode": {
    "name": "ipython",
    "version": 3
   },
   "file_extension": ".py",
   "mimetype": "text/x-python",
   "name": "python",
   "nbconvert_exporter": "python",
   "pygments_lexer": "ipython3",
   "version": "3.13.5"
  }
 },
 "nbformat": 4,
 "nbformat_minor": 5
}
