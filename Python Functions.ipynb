{
 "cells": [
  {
   "cell_type": "code",
   "execution_count": 1,
   "id": "d0f61a9b-fb1d-4f56-9817-f388765498d3",
   "metadata": {},
   "outputs": [],
   "source": [
    "#Python Functions Practice"
   ]
  },
  {
   "cell_type": "code",
   "execution_count": 3,
   "id": "08367650-ef6e-40ca-aa2f-08af0c977f65",
   "metadata": {},
   "outputs": [
    {
     "name": "stdout",
     "output_type": "stream",
     "text": [
      "20\n"
     ]
    }
   ],
   "source": [
    "#Q1. Write a lambda function to multiply a number by 5.\n",
    "num = lambda x: x*5\n",
    "print (num(4))"
   ]
  },
  {
   "cell_type": "code",
   "execution_count": 4,
   "id": "ae013c38-959b-4a3f-80a2-917b6c75ba57",
   "metadata": {},
   "outputs": [
    {
     "name": "stdout",
     "output_type": "stream",
     "text": [
      "64\n"
     ]
    }
   ],
   "source": [
    "num = lambda x: x*8\n",
    "print (num(8))"
   ]
  },
  {
   "cell_type": "code",
   "execution_count": 6,
   "id": "dbb26d0e-5b34-4f06-9db3-46a974932f1e",
   "metadata": {},
   "outputs": [
    {
     "name": "stdout",
     "output_type": "stream",
     "text": [
      "a\n"
     ]
    }
   ],
   "source": [
    "#Q2.Use lambda to return the last character of a string.\n",
    "last_Ch = lambda x:x[-1]\n",
    "print(last_Ch(\"Aditya\"))"
   ]
  },
  {
   "cell_type": "code",
   "execution_count": 7,
   "id": "80912a48-5cb7-4e52-9d9e-7764d8692e62",
   "metadata": {},
   "outputs": [
    {
     "name": "stdout",
     "output_type": "stream",
     "text": [
      "n\n"
     ]
    }
   ],
   "source": [
    "last_Ch = lambda x:x[-2]\n",
    "print(last_Ch(\"Mayank\"))"
   ]
  },
  {
   "cell_type": "code",
   "execution_count": 9,
   "id": "a61f0359-dc15-4ac9-b2cf-e42fd90971c2",
   "metadata": {},
   "outputs": [
    {
     "name": "stdout",
     "output_type": "stream",
     "text": [
      "[2, 4, 6, 8]\n"
     ]
    }
   ],
   "source": [
    "#Q3.Given a list of numbers, use map() and lambda to double each element.\n",
    "elem = [1,2,3,4]\n",
    "double = list(map(lambda x: x*2,elem))\n",
    "print (double)\n"
   ]
  },
  {
   "cell_type": "code",
   "execution_count": 10,
   "id": "0aa09d62-ab78-48f5-9a59-cf81db55537f",
   "metadata": {},
   "outputs": [
    {
     "name": "stdout",
     "output_type": "stream",
     "text": [
      "[16, 16, 16, 16]\n"
     ]
    }
   ],
   "source": [
    "elem = [4,4,4,4]\n",
    "double = list(map(lambda x:x*x,elem))\n",
    "print (double)"
   ]
  },
  {
   "cell_type": "code",
   "execution_count": 14,
   "id": "4ba4444b-7937-49e5-ac10-c941a114154a",
   "metadata": {},
   "outputs": [
    {
     "name": "stdout",
     "output_type": "stream",
     "text": [
      "[6, 4]\n"
     ]
    }
   ],
   "source": [
    "#Q4.Convert a list of words to their lengths using map()\n",
    "words = [\"Aditya\",\"Yash\"]\n",
    "length = list(map(lambda x: len(x), words))\n",
    "print (length)"
   ]
  },
  {
   "cell_type": "code",
   "execution_count": 13,
   "id": "2504d3f8-c738-4a9a-abb2-419ac6f9aa63",
   "metadata": {},
   "outputs": [
    {
     "name": "stdout",
     "output_type": "stream",
     "text": [
      "[6, 6]\n"
     ]
    }
   ],
   "source": [
    "words = [\"laptop\",\"Mobile\"]\n",
    "count = list(map(lambda x: len(x),words))\n",
    "print(count)"
   ]
  },
  {
   "cell_type": "code",
   "execution_count": 15,
   "id": "cff1ac06-842c-429b-a9bb-d11fba29933e",
   "metadata": {},
   "outputs": [
    {
     "name": "stdout",
     "output_type": "stream",
     "text": [
      "[60, 70, 80, 90, 100]\n"
     ]
    }
   ],
   "source": [
    "#Q5.Filter out all numbers greater than 50 from a list.\n",
    "nums = [10,20,30,40,50,60,70,80,90,100]\n",
    "more_than = list(filter(lambda x: x > 50,nums))\n",
    "print(more_than)"
   ]
  },
  {
   "cell_type": "code",
   "execution_count": 18,
   "id": "7088a7d1-acba-4f0c-8646-39d5ac1ff0f8",
   "metadata": {},
   "outputs": [
    {
     "name": "stdout",
     "output_type": "stream",
     "text": [
      "[1, 2, 3, 4]\n"
     ]
    }
   ],
   "source": [
    "nums = [1,2,3,4,5,6,7,8,9]\n",
    "great= list(filter(lambda x: x<5, nums))\n",
    "print(great)"
   ]
  },
  {
   "cell_type": "code",
   "execution_count": 19,
   "id": "3f14a9c0-a1ed-4919-8cb5-0aea47dfcfb3",
   "metadata": {},
   "outputs": [
    {
     "name": "stdout",
     "output_type": "stream",
     "text": [
      "['Aditya', 'Amit']\n"
     ]
    }
   ],
   "source": [
    "#Q6.Filter out names starting with the letter \"A\"\n",
    "names = [\"Aditya\", \"Ravi\", \"Amit\", \"Neha\"]\n",
    "letter_a= list(filter(lambda x: x.startswith(\"A\"),names))\n",
    "print(letter_a)"
   ]
  },
  {
   "cell_type": "code",
   "execution_count": 23,
   "id": "4d7e0ff6-1f14-4139-a1d0-ce9f29ff4de9",
   "metadata": {},
   "outputs": [
    {
     "name": "stdout",
     "output_type": "stream",
     "text": [
      "['shankar', 'sunil', 'sanjay']\n"
     ]
    }
   ],
   "source": [
    "names = [\"shankar\",\"sunil\",\"sanjay\",\"aditya\",\"yash\",\"Janvi\"]\n",
    "start = list(filter(lambda x: x.startswith(\"s\"),names))\n",
    "print(start)"
   ]
  },
  {
   "cell_type": "code",
   "execution_count": 27,
   "id": "5aa73742-8c8c-412b-94c2-6a8f803856e0",
   "metadata": {},
   "outputs": [
    {
     "name": "stdout",
     "output_type": "stream",
     "text": [
      "15\n"
     ]
    }
   ],
   "source": [
    "#Q7.Use reduce() to find the sum of all elements.\n",
    "from functools import reduce\n",
    "num = [1,2,3,4,5]\n",
    "add = (reduce(lambda x,y:x+y,num))\n",
    "print(add)"
   ]
  },
  {
   "cell_type": "code",
   "execution_count": 28,
   "id": "0669a5b4-a813-418c-97da-3cb3f5835470",
   "metadata": {},
   "outputs": [
    {
     "name": "stdout",
     "output_type": "stream",
     "text": [
      "-18\n"
     ]
    }
   ],
   "source": [
    "from functools import reduce\n",
    "num = [2,2,4,4,5,5]\n",
    "add = reduce(lambda x,y:x-y,num)\n",
    "print (add)"
   ]
  },
  {
   "cell_type": "code",
   "execution_count": 30,
   "id": "d2cc063c-19e9-463c-a691-be13a0b920b1",
   "metadata": {},
   "outputs": [
    {
     "name": "stdout",
     "output_type": "stream",
     "text": [
      "namaste\n"
     ]
    }
   ],
   "source": [
    "#Q8.Use reduce() to find the longest string in a list.\n",
    "from functools import reduce\n",
    "words = [\"hi\", \"hello\", \"namaste\"]\n",
    "long = reduce (lambda x,y: x if len(x)>len(y) else (y),words)\n",
    "print(long)"
   ]
  },
  {
   "cell_type": "code",
   "execution_count": 32,
   "id": "e8e01e24-a85d-4657-b3f2-02b25cc33e76",
   "metadata": {},
   "outputs": [
    {
     "name": "stdout",
     "output_type": "stream",
     "text": [
      "adityapagar\n"
     ]
    }
   ],
   "source": [
    "from functools import reduce\n",
    "names = [\"arguments\",\"hello\",\"whyeeee\",\"goodbyee\",\"adityapagar\"]\n",
    "long = reduce(lambda x,y: x if len(x) > len(y) else y,names)\n",
    "print(long)"
   ]
  },
  {
   "cell_type": "code",
   "execution_count": 35,
   "id": "3187c5f1-25b2-4c0a-b2d9-8155f4709739",
   "metadata": {},
   "outputs": [
    {
     "name": "stdout",
     "output_type": "stream",
     "text": [
      "[('Aditya', 84), ('Yash', 73), ('Manthan', 51), ('Shiva', 78), ('Om', 62)]\n"
     ]
    }
   ],
   "source": [
    "#Q9.Use zip() to pair names with marks.\n",
    "name = [\"Aditya\",\"Yash\",\"Manthan\",\"Shiva\",\"Om\"]\n",
    "marks = [84,73,51,78,62]\n",
    "pair = list(zip(name,marks))\n",
    "print(pair)"
   ]
  },
  {
   "cell_type": "code",
   "execution_count": 37,
   "id": "be82db72-2cd4-4c25-89de-614c08770911",
   "metadata": {},
   "outputs": [
    {
     "name": "stdout",
     "output_type": "stream",
     "text": [
      "[('Gitanshu', 95), ('Tushar', 76), ('Aditya', 78)]\n"
     ]
    }
   ],
   "source": [
    "name = [\"Gitanshu\",\"Tushar\",\"Aditya\"]\n",
    "marks = [95,76,78]\n",
    "pair = list (zip(name,marks))\n",
    "print(pair)"
   ]
  },
  {
   "cell_type": "code",
   "execution_count": 38,
   "id": "74497811-1162-4d6a-ae6b-05c32d68b314",
   "metadata": {},
   "outputs": [
    {
     "name": "stdout",
     "output_type": "stream",
     "text": [
      "0 apple\n",
      "1 banana\n"
     ]
    }
   ],
   "source": [
    "#Q10.Use enumerate() to show item index from a list.\n",
    "fruits = [\"apple\", \"banana\"]\n",
    "for index,fruit in enumerate(fruits):\n",
    "    print (index,fruit)"
   ]
  },
  {
   "cell_type": "code",
   "execution_count": 40,
   "id": "91594027-3dfe-4b31-9197-a91daa3edb1e",
   "metadata": {},
   "outputs": [
    {
     "name": "stdout",
     "output_type": "stream",
     "text": [
      "0 apple\n",
      "1 banana\n",
      "2 pineapple\n",
      "3 mango\n",
      "4 watermelon\n",
      "5 orange\n"
     ]
    }
   ],
   "source": [
    "fruits = [\"apple\",\"banana\",\"pineapple\",\"mango\",\"watermelon\",\"orange\"]\n",
    "for index,fruit in enumerate(fruits):\n",
    "    print(index,fruit)"
   ]
  },
  {
   "cell_type": "code",
   "execution_count": null,
   "id": "abbf2a18-80da-44db-9d2d-dd8836d77784",
   "metadata": {},
   "outputs": [],
   "source": []
  }
 ],
 "metadata": {
  "kernelspec": {
   "display_name": "Python [conda env:base] *",
   "language": "python",
   "name": "conda-base-py"
  },
  "language_info": {
   "codemirror_mode": {
    "name": "ipython",
    "version": 3
   },
   "file_extension": ".py",
   "mimetype": "text/x-python",
   "name": "python",
   "nbconvert_exporter": "python",
   "pygments_lexer": "ipython3",
   "version": "3.13.5"
  }
 },
 "nbformat": 4,
 "nbformat_minor": 5
}
