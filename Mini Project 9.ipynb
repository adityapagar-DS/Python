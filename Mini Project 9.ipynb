{
 "cells": [
  {
   "cell_type": "code",
   "execution_count": null,
   "id": "c1ae7462-552e-45ba-b96e-65a1d9a9579a",
   "metadata": {},
   "outputs": [],
   "source": [
    "'''PYTHON MINI PROJECT'''"
   ]
  },
  {
   "cell_type": "code",
   "execution_count": null,
   "id": "12799fda-fe6e-4ff5-ac91-1a04c82497cf",
   "metadata": {},
   "outputs": [],
   "source": [
    "'''Restaurant Order System'''"
   ]
  },
  {
   "cell_type": "code",
   "execution_count": 4,
   "id": "3f081634-ef04-47bf-a095-80c30c29ad65",
   "metadata": {},
   "outputs": [
    {
     "name": "stdout",
     "output_type": "stream",
     "text": [
      "Welcome to Hotel Aditya's Bhojanalay!\n",
      "\n",
      " Menu Card\n",
      "Paneer Tikka:180/plate\n",
      "Butter Naan:40/plate\n",
      "Dal Fry:100/plate\n",
      "Chicken Biryani:250/plate\n",
      "Veg Thali:200/plate\n",
      "Gulab Jamun:50/plate\n",
      "\n",
      "Type the food item you want to order (type 'done' to finish):\n"
     ]
    },
    {
     "name": "stdin",
     "output_type": "stream",
     "text": [
      "Entre item name from menucard dal fry\n",
      "How many plates of Dal Fry?  2\n",
      "Entre item name from menucard veg thali\n",
      "How many plates of Veg Thali?  2\n",
      "Entre item name from menucard paneer tikka\n",
      "How many plates of Paneer Tikka?  2\n",
      "Entre item name from menucard veg thali\n",
      "How many plates of Veg Thali?  2\n",
      "Entre item name from menucard done\n"
     ]
    },
    {
     "name": "stdout",
     "output_type": "stream",
     "text": [
      "\n",
      " Your Selected Items\n",
      "Dal Fry:2=  ₹100 = ₹200\n",
      "Veg Thali:4=  ₹200 = ₹800\n",
      "Paneer Tikka:2=  ₹180 = ₹360\n",
      "\n",
      " Discount Applied ₹136 (10% off)\n",
      "\n",
      "Total Bill After Discount: ₹1224\n",
      "Thank you for dining at Hotel Aditya's Bhojanalay!\n"
     ]
    }
   ],
   "source": [
    "#Restaurant Ordering System with discount method\n",
    "\n",
    "print (\"Welcome to Hotel Aditya's Bhojanalay!\")\n",
    "\n",
    "menu = {\"Paneer Tikka\": 180,\"Butter Naan\": 40,\"Dal Fry\": 100,\"Chicken Biryani\": 250,\"Veg Thali\": 200,\"Gulab Jamun\": 50}\n",
    "\n",
    "print (\"\\n Menu Card\")\n",
    "for item,price in menu.items():\n",
    "    print (f\"{item}:{price}/plate\")\n",
    "\n",
    "order = {}\n",
    "print(\"\\nType the food item you want to order (type 'done' to finish):\")\n",
    "\n",
    "while True:\n",
    "    choice=input(\"Entre item name from menucard\").title()\n",
    "    if choice==\"Done\":\n",
    "        break\n",
    "    if choice in menu:\n",
    "        qty = int(input(f\"How many plates of {choice}? \"))\n",
    "        if choice in order:\n",
    "            order[choice]+=qty\n",
    "        else:\n",
    "            order[choice] = qty\n",
    "    else:\n",
    "        print(\"Item not available. Please select from the menu.\")\n",
    "\n",
    "print(\"\\n Your Selected Items\")\n",
    "total = 0\n",
    "for item,qty in order.items():\n",
    "    price= menu[item]\n",
    "    cost= price*qty\n",
    "    print (f\"{item}:{qty}=  ₹{price} = ₹{cost}\")\n",
    "    total += cost\n",
    "    \n",
    "discount=0\n",
    "if total>500:\n",
    "    discount = total*0.10\n",
    "    print (f\"\\n Discount Applied ₹{int(discount)} (10% off)\")\n",
    "\n",
    "final_amount = total - discount\n",
    "print(f\"\\nTotal Bill After Discount: ₹{int(final_amount)}\")\n",
    "print(\"Thank you for dining at Hotel Aditya's Bhojanalay!\")\n"
   ]
  },
  {
   "cell_type": "code",
   "execution_count": null,
   "id": "88995473-d845-4552-9d75-595c76756d3d",
   "metadata": {},
   "outputs": [],
   "source": []
  }
 ],
 "metadata": {
  "kernelspec": {
   "display_name": "Python [conda env:base] *",
   "language": "python",
   "name": "conda-base-py"
  },
  "language_info": {
   "codemirror_mode": {
    "name": "ipython",
    "version": 3
   },
   "file_extension": ".py",
   "mimetype": "text/x-python",
   "name": "python",
   "nbconvert_exporter": "python",
   "pygments_lexer": "ipython3",
   "version": "3.13.5"
  }
 },
 "nbformat": 4,
 "nbformat_minor": 5
}
