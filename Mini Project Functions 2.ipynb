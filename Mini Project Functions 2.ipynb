{
 "cells": [
  {
   "cell_type": "code",
   "execution_count": null,
   "id": "ea91aea4-6630-4712-bcd0-498cf9056c0e",
   "metadata": {},
   "outputs": [],
   "source": [
    "'''MINI PROJECT ON FUCTIONS'''"
   ]
  },
  {
   "cell_type": "code",
   "execution_count": null,
   "id": "c9cfeb16-0a8e-45cd-b58f-7a6f5d1e96d9",
   "metadata": {},
   "outputs": [],
   "source": [
    "'''Gym Fitness Tracker – BMI Calculator & Filter'''"
   ]
  },
  {
   "cell_type": "code",
   "execution_count": 4,
   "id": "29e0559f-b52c-4127-abed-61280a043720",
   "metadata": {},
   "outputs": [
    {
     "name": "stdout",
     "output_type": "stream",
     "text": [
      "Candidate Details\n",
      "[('aditya', 70, 1.75),\n",
      " ('yash', 85, 1.68),\n",
      " ('mayank', 62, 1.8),\n",
      " ('tushar', 90, 1.65),\n",
      " ('shiv', 74, 1.73)]\n",
      "Calculation\n",
      "[('aditya', 22.9),\n",
      " ('yash', 30.1),\n",
      " ('mayank', 19.1),\n",
      " ('tushar', 33.1),\n",
      " ('shiv', 24.7)]\n",
      "\n",
      "Overweight Candidates\n",
      "[('yash', 30.1), ('tushar', 33.1)]\n",
      "\n",
      "Overweight Clients (BMI > 25):\n",
      "\n",
      "Name: Yash, BMI: 30.1\n",
      "Name: Tushar, BMI: 33.1\n"
     ]
    }
   ],
   "source": [
    "import pprint\n",
    "#BMI = weight / (height ** 2)\n",
    "\n",
    "\n",
    "names = [\"aditya\", \"yash\", \"mayank\", \"tushar\", \"shiv\"]\n",
    "weights = [70, 85, 62, 90, 74]      \n",
    "heights = [1.75, 1.68, 1.80, 1.65, 1.73] \n",
    "\n",
    "pair = list(zip(names,weights,heights))\n",
    "print (\"Candidate Details\")\n",
    "pprint.pprint(pair)\n",
    "\n",
    "cal_BIM = list(map(lambda x : (x[0], round (x[1] / (x[2]**2), 1)),pair))\n",
    "print(\"Calculation\")\n",
    "pprint.pprint(cal_BIM)\n",
    "\n",
    "overweight = list (filter(lambda x: x[1]>=25,cal_BIM))\n",
    "print (\"\\nOverweight Candidates\")\n",
    "pprint.pprint(overweight)\n",
    "\n",
    "print(\"\\nOverweight Clients (BMI > 25):\\n\")\n",
    "for candidate in overweight:\n",
    "    print (f\"Name: {candidate[0].title()}, BMI: {candidate[1]}\")"
   ]
  },
  {
   "cell_type": "code",
   "execution_count": null,
   "id": "20579031-f61e-464c-ae83-66d123ca6e85",
   "metadata": {},
   "outputs": [],
   "source": []
  },
  {
   "cell_type": "code",
   "execution_count": null,
   "id": "9294a95e-247a-43e1-9eb1-907d4ca83155",
   "metadata": {},
   "outputs": [],
   "source": []
  },
  {
   "cell_type": "code",
   "execution_count": null,
   "id": "4a40d915-37b2-490a-a263-930c1793ca07",
   "metadata": {},
   "outputs": [],
   "source": []
  }
 ],
 "metadata": {
  "kernelspec": {
   "display_name": "Python [conda env:base] *",
   "language": "python",
   "name": "conda-base-py"
  },
  "language_info": {
   "codemirror_mode": {
    "name": "ipython",
    "version": 3
   },
   "file_extension": ".py",
   "mimetype": "text/x-python",
   "name": "python",
   "nbconvert_exporter": "python",
   "pygments_lexer": "ipython3",
   "version": "3.13.5"
  }
 },
 "nbformat": 4,
 "nbformat_minor": 5
}
