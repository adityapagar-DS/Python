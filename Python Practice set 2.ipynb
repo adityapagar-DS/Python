{
 "cells": [
  {
   "cell_type": "code",
   "execution_count": 11,
   "id": "129ded18",
   "metadata": {},
   "outputs": [
    {
     "name": "stdout",
     "output_type": "stream",
     "text": [
      "aytidA\n"
     ]
    }
   ],
   "source": [
    "#1. Reverse a String (Write a Python function to reverse a string)\n",
    "def reverse_string(s):\n",
    "    return s[::-1]\n",
    "\n",
    "# Test\n",
    "print(reverse_string(\"Aditya\"))"
   ]
  },
  {
   "cell_type": "code",
   "execution_count": 12,
   "id": "807d7581",
   "metadata": {},
   "outputs": [
    {
     "name": "stdout",
     "output_type": "stream",
     "text": [
      "True\n"
     ]
    }
   ],
   "source": [
    "#2. Check Palindrome (Check if a given number is a palindrome.)\n",
    "def is_palindrome(n):\n",
    "    return str(n) == str(n)[::-1]\n",
    "\n",
    "# Test\n",
    "print(is_palindrome(121))"
   ]
  },
  {
   "cell_type": "code",
   "execution_count": 13,
   "id": "fdc74ded",
   "metadata": {},
   "outputs": [
    {
     "name": "stdout",
     "output_type": "stream",
     "text": [
      "120\n"
     ]
    }
   ],
   "source": [
    "#3. Factorial using Loop (Calculate the factorial of a number using a loop.)\n",
    "def factorial(n):\n",
    "    result = 1\n",
    "    for i in range(1, n+1):\n",
    "        result *= i\n",
    "    return result\n",
    "\n",
    "# Test\n",
    "print(factorial(5))"
   ]
  },
  {
   "cell_type": "code",
   "execution_count": 14,
   "id": "6b7cee0f",
   "metadata": {},
   "outputs": [
    {
     "name": "stdout",
     "output_type": "stream",
     "text": [
      "2 3 5 7 11 13 17 19 23 29 31 37 41 43 47 "
     ]
    }
   ],
   "source": [
    "#4. Find Prime Numbers in Range  (Print all prime numbers between 1 and 50.)\n",
    "for num in range(2, 51):\n",
    "    for i in range(2, num):\n",
    "        if num % i == 0:\n",
    "            break\n",
    "    else:\n",
    "        print(num, end=\" \")"
   ]
  },
  {
   "cell_type": "code",
   "execution_count": 15,
   "id": "dbb9672e",
   "metadata": {},
   "outputs": [
    {
     "name": "stdout",
     "output_type": "stream",
     "text": [
      "10\n"
     ]
    }
   ],
   "source": [
    "#5. Sum of Digits (Find the sum of digits of a number.)\n",
    "def sum_of_digits(n):\n",
    "    return sum(int(digit) for digit in str(n))\n",
    "\n",
    "# Test\n",
    "print(sum_of_digits(1234))"
   ]
  },
  {
   "cell_type": "code",
   "execution_count": 16,
   "id": "428d7fda",
   "metadata": {},
   "outputs": [
    {
     "name": "stdout",
     "output_type": "stream",
     "text": [
      "True\n"
     ]
    }
   ],
   "source": [
    "#6. Armstrong Number (Check whether a number is an Armstrong number.)\n",
    "def is_armstrong(n):\n",
    "    power = len(str(n))\n",
    "    return n == sum(int(d)**power for d in str(n))\n",
    "\n",
    "# Test\n",
    "print(is_armstrong(153))"
   ]
  },
  {
   "cell_type": "code",
   "execution_count": 17,
   "id": "757fa58a",
   "metadata": {},
   "outputs": [
    {
     "name": "stdout",
     "output_type": "stream",
     "text": [
      "0 1 1 2 3 5 8 13 21 34 "
     ]
    }
   ],
   "source": [
    "#7. Fibonacci Series (Generate Fibonacci series up to n terms.)\n",
    "def fibonacci(n):\n",
    "    a, b = 0, 1\n",
    "    for _ in range(n):\n",
    "        print(a, end=\" \")\n",
    "        a, b = b, a + b\n",
    "\n",
    "# Test\n",
    "fibonacci(10)"
   ]
  },
  {
   "cell_type": "code",
   "execution_count": 18,
   "id": "5cad3759",
   "metadata": {},
   "outputs": [
    {
     "name": "stdout",
     "output_type": "stream",
     "text": [
      "4\n"
     ]
    }
   ],
   "source": [
    "#8. Count Vowels (Count the number of vowels in a string.)\n",
    "def count_vowels(s):\n",
    "    return sum(1 for c in s.lower() if c in 'aeiou')\n",
    "\n",
    "# Test\n",
    "print(count_vowels(\"Python Programming\"))"
   ]
  },
  {
   "cell_type": "code",
   "execution_count": 19,
   "id": "d2fa5230",
   "metadata": {},
   "outputs": [
    {
     "name": "stdout",
     "output_type": "stream",
     "text": [
      "Odd\n"
     ]
    }
   ],
   "source": [
    "#9. Check Even or Odd (Check if a number is even or odd.)\n",
    "def even_or_odd(n):\n",
    "    return \"Even\" if n % 2 == 0 else \"Odd\"\n",
    "\n",
    "# Test\n",
    "print(even_or_odd(7))"
   ]
  },
  {
   "cell_type": "code",
   "execution_count": 20,
   "id": "b5a7cd01",
   "metadata": {},
   "outputs": [
    {
     "name": "stdout",
     "output_type": "stream",
     "text": [
      "6\n"
     ]
    }
   ],
   "source": [
    "#10. Find GCD (Find the GCD of two numbers.)\n",
    "def gcd(a, b):\n",
    "    while b:\n",
    "        a, b = b, a % b\n",
    "    return a\n",
    "\n",
    "# Test\n",
    "print(gcd(48, 18))"
   ]
  },
  {
   "cell_type": "code",
   "execution_count": null,
   "id": "133e3128-ae8d-4d83-adde-8c5b9b494150",
   "metadata": {},
   "outputs": [],
   "source": []
  },
  {
   "cell_type": "code",
   "execution_count": null,
   "id": "e7aed676-dd81-42b9-839a-7fa4f766af43",
   "metadata": {},
   "outputs": [],
   "source": []
  },
  {
   "cell_type": "code",
   "execution_count": null,
   "id": "410bb46f-24e5-4761-aeb8-09eb91296fe2",
   "metadata": {},
   "outputs": [],
   "source": []
  },
  {
   "cell_type": "code",
   "execution_count": null,
   "id": "20bf7b54-2df0-4e7a-a08d-3fd5710b58a9",
   "metadata": {},
   "outputs": [],
   "source": []
  }
 ],
 "metadata": {
  "kernelspec": {
   "display_name": "Python [conda env:base] *",
   "language": "python",
   "name": "conda-base-py"
  },
  "language_info": {
   "codemirror_mode": {
    "name": "ipython",
    "version": 3
   },
   "file_extension": ".py",
   "mimetype": "text/x-python",
   "name": "python",
   "nbconvert_exporter": "python",
   "pygments_lexer": "ipython3",
   "version": "3.13.5"
  }
 },
 "nbformat": 4,
 "nbformat_minor": 5
}
