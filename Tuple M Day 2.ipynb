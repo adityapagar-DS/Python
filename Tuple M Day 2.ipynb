{
 "cells": [
  {
   "cell_type": "code",
   "execution_count": 1,
   "id": "a4c4bea9-433d-48af-a3d9-193891befa0e",
   "metadata": {},
   "outputs": [
    {
     "data": {
      "text/plain": [
       "'Tuple Method'"
      ]
     },
     "execution_count": 1,
     "metadata": {},
     "output_type": "execute_result"
    }
   ],
   "source": [
    "'''Tuple Method'''"
   ]
  },
  {
   "cell_type": "code",
   "execution_count": 2,
   "id": "ae49ce01-9f6b-45be-9633-b32000cdde99",
   "metadata": {},
   "outputs": [
    {
     "data": {
      "text/plain": [
       "tuple"
      ]
     },
     "execution_count": 2,
     "metadata": {},
     "output_type": "execute_result"
    }
   ],
   "source": [
    "# 1. Create a tuple of fruits.\n",
    "t1 = ('Mango','Orange','Banana','Watermelon','Pineapple')\n",
    "type(t1)"
   ]
  },
  {
   "cell_type": "code",
   "execution_count": 3,
   "id": "c8837d35-73f5-48d5-8369-613a9b200a9b",
   "metadata": {},
   "outputs": [
    {
     "data": {
      "text/plain": [
       "3"
      ]
     },
     "execution_count": 3,
     "metadata": {},
     "output_type": "execute_result"
    }
   ],
   "source": [
    "# 2. Access the 3rd element using index.\n",
    "t1.index('Watermelon')"
   ]
  },
  {
   "cell_type": "code",
   "execution_count": 4,
   "id": "a2d99a23-8a20-48ab-8661-6e24ab32c91d",
   "metadata": {},
   "outputs": [
    {
     "data": {
      "text/plain": [
       "('Mango', 'Orange', 'Banana')"
      ]
     },
     "execution_count": 4,
     "metadata": {},
     "output_type": "execute_result"
    }
   ],
   "source": [
    "# 3. Slice the tuple to get first 3 elements.\n",
    "first_three = t1[:3]\n",
    "first_three"
   ]
  },
  {
   "cell_type": "code",
   "execution_count": 5,
   "id": "e4088064-4d6c-4b85-8748-7b749a385817",
   "metadata": {},
   "outputs": [
    {
     "data": {
      "text/plain": [
       "3"
      ]
     },
     "execution_count": 5,
     "metadata": {},
     "output_type": "execute_result"
    }
   ],
   "source": [
    "# 4. Count how many times 'apple' appears.\n",
    "t2 = ('apple', 'banana', 'apple', 'mango', 'apple')\n",
    "t2.count('apple')"
   ]
  },
  {
   "cell_type": "code",
   "execution_count": 6,
   "id": "0dc05142-6681-476a-9ebe-ac2bfd22334a",
   "metadata": {},
   "outputs": [
    {
     "data": {
      "text/plain": [
       "1"
      ]
     },
     "execution_count": 6,
     "metadata": {},
     "output_type": "execute_result"
    }
   ],
   "source": [
    "# 5. Find index of 'banana'.\n",
    "t2.index('banana')"
   ]
  },
  {
   "cell_type": "code",
   "execution_count": 7,
   "id": "0cb4c158-d471-4bec-9591-510e9b796ee2",
   "metadata": {},
   "outputs": [
    {
     "data": {
      "text/plain": [
       "['apple', 'banana', 'apple', 'mango', 'apple', 'Orange']"
      ]
     },
     "execution_count": 7,
     "metadata": {},
     "output_type": "execute_result"
    }
   ],
   "source": [
    "# 6. Convert tuple to list and modify it.\n",
    "l1 = list(t2)\n",
    "l1.append ('Orange')\n",
    "l1"
   ]
  },
  {
   "cell_type": "code",
   "execution_count": 8,
   "id": "94ac590a-e5be-48f0-b4c9-ac3906ae0d5a",
   "metadata": {},
   "outputs": [
    {
     "name": "stdout",
     "output_type": "stream",
     "text": [
      "Orange is not available in tuple\n"
     ]
    }
   ],
   "source": [
    "# 7. Check if 'orange' is in the tuple.\n",
    "t3= ('apple', 'banana', 'cherry','mango','pineapple')\n",
    "if 'orange' in t3:\n",
    "    print (\"Orange available in tuple\")\n",
    "else:\n",
    "    print (\"Orange is not available in tuple\")"
   ]
  },
  {
   "cell_type": "code",
   "execution_count": 9,
   "id": "6fce292a-0a1b-4639-9a07-8348e0374a0b",
   "metadata": {},
   "outputs": [
    {
     "data": {
      "text/plain": [
       "tuple"
      ]
     },
     "execution_count": 9,
     "metadata": {},
     "output_type": "execute_result"
    }
   ],
   "source": [
    "# 8. Create a single-element tuple.\n",
    "single_element = ('Mango',)\n",
    "type(single_element)"
   ]
  },
  {
   "cell_type": "code",
   "execution_count": 10,
   "id": "c5a0934a-abac-4fb2-848f-0139abb76646",
   "metadata": {},
   "outputs": [
    {
     "name": "stdout",
     "output_type": "stream",
     "text": [
      "Value at nested index: 3\n"
     ]
    }
   ],
   "source": [
    "# 9. Nested tuple: ((1, 2), (3, 4)), access 3.\n",
    "t4 = ((1, 2), (3, 4))\n",
    "value = t4 [1][0]  \n",
    "print(\"Value at nested index:\", value)"
   ]
  },
  {
   "cell_type": "code",
   "execution_count": 11,
   "id": "3595763b-3a05-4a33-8532-f9d818b933a3",
   "metadata": {},
   "outputs": [
    {
     "data": {
      "text/plain": [
       "('data', 25, [50, 100], [150, 90], ['Nashik', 'aditya'], (22, 23, 24))"
      ]
     },
     "execution_count": 11,
     "metadata": {},
     "output_type": "execute_result"
    }
   ],
   "source": [
    "# 10. Replacing the data from a existing data\n",
    "tup8 = ('data', 25, [50,100], [150,90], ['yash', 'aditya'],(22,23,24))\n",
    "tup8[4][0]='Nashik'\n",
    "tup8"
   ]
  },
  {
   "cell_type": "code",
   "execution_count": null,
   "id": "a7509a24-8726-4935-8d89-8ec1de1d56cb",
   "metadata": {},
   "outputs": [],
   "source": []
  }
 ],
 "metadata": {
  "kernelspec": {
   "display_name": "Python [conda env:base] *",
   "language": "python",
   "name": "conda-base-py"
  },
  "language_info": {
   "codemirror_mode": {
    "name": "ipython",
    "version": 3
   },
   "file_extension": ".py",
   "mimetype": "text/x-python",
   "name": "python",
   "nbconvert_exporter": "python",
   "pygments_lexer": "ipython3",
   "version": "3.13.5"
  }
 },
 "nbformat": 4,
 "nbformat_minor": 5
}
