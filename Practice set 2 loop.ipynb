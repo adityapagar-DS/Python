{
 "cells": [
  {
   "cell_type": "code",
   "execution_count": 1,
   "id": "59124ebd-1747-4ca8-be91-e002413e8a20",
   "metadata": {},
   "outputs": [
    {
     "name": "stdout",
     "output_type": "stream",
     "text": [
      "0\n",
      "1\n",
      "2\n",
      "3\n",
      "4\n",
      "5\n",
      "6\n",
      "7\n",
      "8\n",
      "9\n",
      "10\n"
     ]
    }
   ],
   "source": [
    "#1)Print numbers from 1 to 10.\n",
    "n = 11\n",
    "for i in range (0,11):\n",
    "    if n>=11:\n",
    "        print(i)"
   ]
  },
  {
   "cell_type": "code",
   "execution_count": 2,
   "id": "39038e77-d2d9-417e-aca7-94f1746018da",
   "metadata": {},
   "outputs": [
    {
     "name": "stdout",
     "output_type": "stream",
     "text": [
      "2\n",
      "4\n",
      "6\n",
      "8\n",
      "10\n",
      "12\n",
      "14\n",
      "16\n",
      "18\n",
      "20\n"
     ]
    }
   ],
   "source": [
    "#2)Print all even numbers between 1 and 20.\n",
    "for i in range (1,21):\n",
    "    if i%2==0:\n",
    "        print (i)"
   ]
  },
  {
   "cell_type": "code",
   "execution_count": 3,
   "id": "4f1da70c-ca65-4954-acc4-09ce57831194",
   "metadata": {},
   "outputs": [
    {
     "name": "stdout",
     "output_type": "stream",
     "text": [
      "5\n",
      "10\n",
      "15\n",
      "20\n",
      "25\n",
      "30\n",
      "35\n",
      "40\n",
      "45\n",
      "50\n"
     ]
    }
   ],
   "source": [
    "#3)Print the table of 5?\n",
    "n = 5\n",
    "for i in range (1,11):\n",
    "    print (n*i)\n",
    "    i+=1"
   ]
  },
  {
   "cell_type": "code",
   "execution_count": 4,
   "id": "f01790d7-73e6-48d3-b6ec-e2f81f8f02b2",
   "metadata": {},
   "outputs": [
    {
     "name": "stdout",
     "output_type": "stream",
     "text": [
      "7\n",
      "14\n",
      "21\n",
      "28\n",
      "35\n",
      "42\n",
      "49\n"
     ]
    }
   ],
   "source": [
    "#4)Print all numbers between 1 and 50 that are divisible by 7?\n",
    "for i in range (1,51):\n",
    "    if i%7==0:\n",
    "        print (i)"
   ]
  },
  {
   "cell_type": "code",
   "execution_count": 5,
   "id": "d4914817-f60f-4222-a19d-821356844623",
   "metadata": {},
   "outputs": [
    {
     "name": "stdout",
     "output_type": "stream",
     "text": [
      "Total Numbers divisible by 7: 9\n"
     ]
    }
   ],
   "source": [
    "#5)Count how many numbers between 1 and 100 are divisible by 10?\n",
    "count = 0\n",
    "for i in range (1,100):\n",
    "    if i%10==0:\n",
    "        count += 1\n",
    "print (\"Total Numbers divisible by 7:\",count)"
   ]
  },
  {
   "cell_type": "code",
   "execution_count": 6,
   "id": "fdc4af86-657a-4ca5-bb07-c20678f4b6ed",
   "metadata": {},
   "outputs": [
    {
     "name": "stdout",
     "output_type": "stream",
     "text": [
      "Factorial of 5 is: 120\n"
     ]
    }
   ],
   "source": [
    "#6)Factorial of a Number (5)\n",
    "n = 5\n",
    "fact = 1\n",
    "for i in range (1,6):\n",
    "    fact*=i\n",
    "print (\"Factorial of 5 is:\",fact)"
   ]
  },
  {
   "cell_type": "code",
   "execution_count": 7,
   "id": "320c4f0f-33ea-4bfa-a61f-0032c2c66655",
   "metadata": {},
   "outputs": [
    {
     "name": "stdout",
     "output_type": "stream",
     "text": [
      "Factorial of No.9 is: 362880\n"
     ]
    }
   ],
   "source": [
    "#7)Factorial of a Number (9)\n",
    "fact = 1\n",
    "for i in range (1,10):\n",
    "    fact*=i\n",
    "print (\"Factorial of No.9 is:\",fact)"
   ]
  },
  {
   "cell_type": "code",
   "execution_count": 8,
   "id": "055539ba-1176-41e7-8284-ca7197bc2410",
   "metadata": {},
   "outputs": [
    {
     "name": "stdin",
     "output_type": "stream",
     "text": [
      "Entre Any Number: 12\n"
     ]
    },
    {
     "name": "stdout",
     "output_type": "stream",
     "text": [
      "Not prime\n"
     ]
    }
   ],
   "source": [
    "#8)Find number is prime or not by any number\n",
    "num = int(input(\"Entre Any Number:\"))\n",
    "prime=True\n",
    "if num<=1:\n",
    "    prime= False\n",
    "for i in range (2, int (num**0.5)+1):\n",
    "    if num % i == 0:\n",
    "        prime= False\n",
    "        break\n",
    "print(\"Prime\" if prime else \"Not prime\")\n",
    "    "
   ]
  },
  {
   "cell_type": "code",
   "execution_count": 9,
   "id": "a081659d-13a9-45bb-a80d-47a04acd6df7",
   "metadata": {},
   "outputs": [
    {
     "name": "stdout",
     "output_type": "stream",
     "text": [
      "19 Prime Number\n"
     ]
    }
   ],
   "source": [
    "#9)Find the number is prime or not (19)\n",
    "num = 19\n",
    "prime = True\n",
    "if num<=1:\n",
    "    prime = False\n",
    "for i in range (2, int(num**0.5)+1):\n",
    "    if num % i ==0:\n",
    "        prime=False \n",
    "        break\n",
    "if prime:\n",
    "    print(num,\"Prime Number\")\n",
    "else:\n",
    "    print (num,\"Not a Prime Number\")\n"
   ]
  },
  {
   "cell_type": "code",
   "execution_count": 10,
   "id": "54d067b2-2c1a-485b-9a74-eedfabfd73c3",
   "metadata": {},
   "outputs": [
    {
     "name": "stdout",
     "output_type": "stream",
     "text": [
      "2,3,5,7,11,13,17,19,23,29,31,37,41,43,47,53,59,61,67,71,73,79,83,89,97,"
     ]
    }
   ],
   "source": [
    "#10)Print the all prime numbers in the range (0,100)\n",
    "if num<=1:\n",
    "    prime=False\n",
    "for num in range (2,101):\n",
    "    prime= True\n",
    "    for i in range(2, int(num**0.5)+1):\n",
    "        if num % i == 0:\n",
    "            prime= False\n",
    "            break\n",
    "    if prime:\n",
    "        print (num,end=',')"
   ]
  },
  {
   "cell_type": "code",
   "execution_count": 11,
   "id": "560f6013-f4d6-4e6c-bbc8-c05cf7a37439",
   "metadata": {},
   "outputs": [
    {
     "name": "stdin",
     "output_type": "stream",
     "text": [
      "Enter any number:  123\n"
     ]
    },
    {
     "name": "stdout",
     "output_type": "stream",
     "text": [
      "123 is NOT a Palindrome\n"
     ]
    }
   ],
   "source": [
    "#11)Entre any number to check the number is Palindrome or not\n",
    "num = int(input(\"Enter any number: \"))\n",
    "\n",
    "def palindrome(num):\n",
    "    return str(num) == str(num)[::-1]\n",
    "if palindrome(num):\n",
    "    print(num, \"is a Palindrome\")\n",
    "else:\n",
    "    print(num, \"is NOT a Palindrome\")"
   ]
  },
  {
   "cell_type": "code",
   "execution_count": 12,
   "id": "51ac2d34-bcda-4702-89f8-848652d4dd7b",
   "metadata": {},
   "outputs": [
    {
     "name": "stdout",
     "output_type": "stream",
     "text": [
      "1001 Number is Palindrome\n"
     ]
    }
   ],
   "source": [
    "#12)Entre (1001) number to check the number is Palindrome or not\n",
    "num = 1001\n",
    "def palindrome(num):\n",
    "    return str(num) == str (num)[::-1]\n",
    "if palindrome(num):\n",
    "    print (num, \"Number is Palindrome\")\n",
    "else:\n",
    "    print (num, \"Number is Not Palindrome\")"
   ]
  },
  {
   "cell_type": "code",
   "execution_count": 17,
   "id": "3ee41d13-3c90-4934-ab4a-826a49024723",
   "metadata": {},
   "outputs": [
    {
     "name": "stdout",
     "output_type": "stream",
     "text": [
      "armstrong\n"
     ]
    }
   ],
   "source": [
    "#13)Find the (153) number is armstrong or not\n",
    "num = 153\n",
    "mul_by= len(str(num))\n",
    "total=0\n",
    "for i in str(num):\n",
    "    total=total+int(i)**mul_by\n",
    "if total==num:\n",
    "    print(\"armstrong\")\n",
    "else:\n",
    "    print(\"not armstrong\")"
   ]
  },
  {
   "cell_type": "code",
   "execution_count": 14,
   "id": "7b7d10a7-bebe-49bc-9c51-9c213e659285",
   "metadata": {},
   "outputs": [
    {
     "name": "stdin",
     "output_type": "stream",
     "text": [
      "Entre any numer: 254\n"
     ]
    },
    {
     "name": "stdout",
     "output_type": "stream",
     "text": [
      "254 is not a Armstrong Number\n"
     ]
    }
   ],
   "source": [
    "#14)Entre any number to find number is armstrong or not\n",
    "num = int(input(\"Entre any numer:\"))\n",
    "mul_by=len(str(num))\n",
    "total= 0\n",
    "for i in str(num):\n",
    "    total= total+int(i)**mul_by\n",
    "if total==num:\n",
    "    print (num, \"is a Armstrong Number\")\n",
    "else:\n",
    "    print(num, \"is not a Armstrong Number\")"
   ]
  },
  {
   "cell_type": "code",
   "execution_count": 16,
   "id": "5314afa8-7797-407d-8872-3e0152a5efb3",
   "metadata": {},
   "outputs": [
    {
     "name": "stdin",
     "output_type": "stream",
     "text": [
      "How many terms?  12\n"
     ]
    },
    {
     "name": "stdout",
     "output_type": "stream",
     "text": [
      "Fibonacci Series: 0 1 1 2 3 5 8 13 21 34 55 89 "
     ]
    }
   ],
   "source": [
    "#15)Fibonacci serise by entering any number\n",
    "n = int(input(\"How many terms? \")) \n",
    "a, b = 0, 1                        \n",
    "print(\"Fibonacci Series:\", end=\" \")\n",
    "\n",
    "for i in range(n):              \n",
    "    print(a, end=\" \")           \n",
    "    a, b = b, a + b            "
   ]
  },
  {
   "cell_type": "code",
   "execution_count": null,
   "id": "aa2f9a37-34b2-45bb-9ef4-cf28daeb1981",
   "metadata": {},
   "outputs": [],
   "source": []
  }
 ],
 "metadata": {
  "kernelspec": {
   "display_name": "Python [conda env:base] *",
   "language": "python",
   "name": "conda-base-py"
  },
  "language_info": {
   "codemirror_mode": {
    "name": "ipython",
    "version": 3
   },
   "file_extension": ".py",
   "mimetype": "text/x-python",
   "name": "python",
   "nbconvert_exporter": "python",
   "pygments_lexer": "ipython3",
   "version": "3.13.5"
  }
 },
 "nbformat": 4,
 "nbformat_minor": 5
}
