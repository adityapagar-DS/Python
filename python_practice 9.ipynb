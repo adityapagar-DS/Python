{
 "cells": [
  {
   "cell_type": "code",
   "execution_count": 1,
   "id": "18ce8dd0",
   "metadata": {},
   "outputs": [
    {
     "name": "stdout",
     "output_type": "stream",
     "text": [
      "Reversed number: 54321\n"
     ]
    }
   ],
   "source": [
    "#1.Write a program to reverse a number.\n",
    "num = 12345\n",
    "rev = 0\n",
    "while num > 0:\n",
    "    rev = rev*10 + num%10\n",
    "    num //= 10\n",
    "print(\"Reversed number:\", rev)"
   ]
  },
  {
   "cell_type": "code",
   "execution_count": 2,
   "id": "295c73ad",
   "metadata": {},
   "outputs": [
    {
     "name": "stdout",
     "output_type": "stream",
     "text": [
      "99\n"
     ]
    }
   ],
   "source": [
    "#2.Write a function to find the maximum element in a list.\n",
    "def find_max(lst):\n",
    "    return max(lst)\n",
    "\n",
    "print(find_max([10, 45, 2, 99, 32]))"
   ]
  },
  {
   "cell_type": "code",
   "execution_count": 3,
   "id": "727968cf",
   "metadata": {},
   "outputs": [
    {
     "name": "stdout",
     "output_type": "stream",
     "text": [
      "{'p': 1, 'r': 2, 'o': 1, 'g': 2, 'a': 1, 'm': 2, 'i': 1, 'n': 1}\n"
     ]
    }
   ],
   "source": [
    "#3.Write a program to count frequency of each character in a string.\n",
    "text = \"programming\"\n",
    "frequency = {}\n",
    "for ch in text:\n",
    "    frequency[ch] = frequency.get(ch, 0) + 1\n",
    "print(frequency)"
   ]
  },
  {
   "cell_type": "code",
   "execution_count": 4,
   "id": "e45aedae",
   "metadata": {},
   "outputs": [
    {
     "name": "stdout",
     "output_type": "stream",
     "text": [
      "29 is prime\n"
     ]
    }
   ],
   "source": [
    "#4.Write a program to check whether a number is prime.\n",
    "num = 29\n",
    "if num > 1:\n",
    "    for i in range(2, int(num**0.5)+1):\n",
    "        if num % i == 0:\n",
    "            print(num, \"is not prime\")\n",
    "            break\n",
    "    else:\n",
    "        print(num, \"is prime\")\n",
    "else:\n",
    "    print(num, \"is not prime\")"
   ]
  },
  {
   "cell_type": "code",
   "execution_count": 5,
   "id": "9d306c51",
   "metadata": {},
   "outputs": [
    {
     "name": "stdout",
     "output_type": "stream",
     "text": [
      "{'a': 1, 'b': 2, 'c': 3, 'd': 4}\n"
     ]
    }
   ],
   "source": [
    "#5.Write a program to merge two dictionaries.\n",
    "dict1 = {'a': 1, 'b': 2}\n",
    "dict2 = {'c': 3, 'd': 4}\n",
    "merged = {**dict1, **dict2}\n",
    "print(merged)"
   ]
  },
  {
   "cell_type": "code",
   "execution_count": 6,
   "id": "badc26fb",
   "metadata": {},
   "outputs": [
    {
     "name": "stdout",
     "output_type": "stream",
     "text": [
      "10\n"
     ]
    }
   ],
   "source": [
    "#6.Write a function to compute sum of digits of a number.\n",
    "def sum_digits(n):\n",
    "    return sum(int(d) for d in str(n))\n",
    "\n",
    "print(sum_digits(1234))"
   ]
  },
  {
   "cell_type": "code",
   "execution_count": 7,
   "id": "e5174f21",
   "metadata": {},
   "outputs": [
    {
     "name": "stdout",
     "output_type": "stream",
     "text": [
      "Hello World Python2025\n"
     ]
    }
   ],
   "source": [
    "#7. Write a program to remove all punctuation from a string.\n",
    "import string\n",
    "text = \"Hello, World!!! Python@2025.\"\n",
    "cleaned = ''.join(ch for ch in text if ch not in string.punctuation)\n",
    "print(cleaned)"
   ]
  },
  {
   "cell_type": "code",
   "execution_count": 8,
   "id": "856a63f0",
   "metadata": {},
   "outputs": [
    {
     "name": "stdout",
     "output_type": "stream",
     "text": [
      "Union: {1, 2, 3, 4, 5, 6}\n",
      "Difference: {1, 2}\n"
     ]
    }
   ],
   "source": [
    "#8. Write a program to find union and difference of two sets.\n",
    "set1 = {1, 2, 3, 4}\n",
    "set2 = {3, 4, 5, 6}\n",
    "print(\"Union:\", set1 | set2)\n",
    "print(\"Difference:\", set1 - set2)"
   ]
  },
  {
   "cell_type": "code",
   "execution_count": 9,
   "id": "6ded925b",
   "metadata": {},
   "outputs": [
    {
     "name": "stdout",
     "output_type": "stream",
     "text": [
      "[1, 4, 9, 16, 25, 36, 49, 64, 81, 100]\n"
     ]
    }
   ],
   "source": [
    "#9.Write a program to generate squares of numbers from 1 to 10 using list comprehension.\n",
    "squares = [x**2 for x in range(1, 11)]\n",
    "print(squares)"
   ]
  },
  {
   "cell_type": "code",
   "execution_count": 10,
   "id": "166bbc99",
   "metadata": {},
   "outputs": [
    {
     "name": "stdout",
     "output_type": "stream",
     "text": [
      "True\n",
      "False\n"
     ]
    }
   ],
   "source": [
    "#10.Write a function to check if a string is an anagram of another.\n",
    "def is_anagram(str1, str2):\n",
    "    return sorted(str1) == sorted(str2)\n",
    "\n",
    "print(is_anagram(\"listen\", \"silent\"))\n",
    "print(is_anagram(\"hello\", \"world\"))"
   ]
  },
  {
   "cell_type": "code",
   "execution_count": null,
   "id": "aca2464f-7dcc-491a-9545-856b28a58ba6",
   "metadata": {},
   "outputs": [],
   "source": []
  }
 ],
 "metadata": {
  "kernelspec": {
   "display_name": "Python [conda env:base] *",
   "language": "python",
   "name": "conda-base-py"
  },
  "language_info": {
   "codemirror_mode": {
    "name": "ipython",
    "version": 3
   },
   "file_extension": ".py",
   "mimetype": "text/x-python",
   "name": "python",
   "nbconvert_exporter": "python",
   "pygments_lexer": "ipython3",
   "version": "3.13.5"
  }
 },
 "nbformat": 4,
 "nbformat_minor": 5
}
