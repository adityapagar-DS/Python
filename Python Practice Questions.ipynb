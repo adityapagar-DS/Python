{
 "cells": [
  {
   "cell_type": "markdown",
   "id": "b15bb3ba",
   "metadata": {},
   "source": [
    "# Python Practice Combo Questions\n",
    "This file includes 10 questions using list, tuple, set, dictionary, loops, and functions."
   ]
  },
  {
   "cell_type": "code",
   "execution_count": null,
   "id": "e238220b",
   "metadata": {},
   "outputs": [],
   "source": [
    "# 1. Create a list of 10 numbers. Write a function to return the sum of all even numbers using a for loop."
   ]
  },
  {
   "cell_type": "code",
   "execution_count": null,
   "id": "2eb6509a",
   "metadata": {},
   "outputs": [],
   "source": [
    "# 2. Create a tuple of 5 names. Write a program to print names that start with a vowel."
   ]
  },
  {
   "cell_type": "code",
   "execution_count": null,
   "id": "e94f76e9",
   "metadata": {},
   "outputs": [],
   "source": [
    "# 3. Create a set of numbers from 1 to 20. Write a program to remove all even numbers using a loop."
   ]
  },
  {
   "cell_type": "code",
   "execution_count": null,
   "id": "58d275cc",
   "metadata": {},
   "outputs": [],
   "source": [
    "# 4. Create a dictionary with 5 students and their marks. Write a function to return names of students scoring more than 75."
   ]
  },
  {
   "cell_type": "code",
   "execution_count": null,
   "id": "ef3b19f6",
   "metadata": {},
   "outputs": [],
   "source": [
    "# 5. Write a function that accepts a number and returns whether it's a prime or not using a while loop."
   ]
  },
  {
   "cell_type": "code",
   "execution_count": null,
   "id": "52c4e673",
   "metadata": {},
   "outputs": [],
   "source": [
    "# 6. Create a list of integers. Write a program using a loop to find the second largest number."
   ]
  },
  {
   "cell_type": "code",
   "execution_count": null,
   "id": "159cdddd",
   "metadata": {},
   "outputs": [],
   "source": [
    "# 7. Create a dictionary of fruits with their prices. Write a function to return the most expensive fruit."
   ]
  },
  {
   "cell_type": "code",
   "execution_count": null,
   "id": "218e4835",
   "metadata": {},
   "outputs": [],
   "source": [
    "# 8. Create a list and write a program using a for loop to count how many items are strings."
   ]
  },
  {
   "cell_type": "code",
   "execution_count": null,
   "id": "8f94bc18",
   "metadata": {},
   "outputs": [],
   "source": [
    "# 9. Create a tuple of numbers. Write a program to print the square of each number using a function."
   ]
  },
  {
   "cell_type": "code",
   "execution_count": null,
   "id": "601d738d",
   "metadata": {},
   "outputs": [],
   "source": [
    "# 10. Create a set of cities. Write a function to add a new city only if it doesn't already exist (check using if-statement)."
   ]
  },
  {
   "cell_type": "code",
   "execution_count": 7,
   "id": "830a9624-0917-4c52-aaeb-1e4f309180fb",
   "metadata": {},
   "outputs": [
    {
     "name": "stdout",
     "output_type": "stream",
     "text": [
      "Frequency: {'apple': 3, 'banana': 2, 'orange': 1}\n"
     ]
    }
   ],
   "source": [
    "#Q1. Count frequency of each item in a list\n",
    "items = ['apple', 'banana', 'apple', 'orange', 'banana', 'apple']\n",
    "frequency = {}\n",
    "\n",
    "for item in items:\n",
    "    frequency[item] = frequency.get(item, 0) + 1\n",
    "\n",
    "print(\"Frequency:\", frequency)"
   ]
  },
  {
   "cell_type": "code",
   "execution_count": 8,
   "id": "40d2aaf3-b3eb-4fc0-9579-64986d642269",
   "metadata": {},
   "outputs": [
    {
     "name": "stdout",
     "output_type": "stream",
     "text": [
      "Maximum: 89\n",
      "Minimum: 2\n"
     ]
    }
   ],
   "source": [
    "#Q2. Find max and min from a tuple of numbers\n",
    "numbers = (12, 45, 23, 67, 89, 2)\n",
    "print(\"Maximum:\", max(numbers))\n",
    "print(\"Minimum:\", min(numbers))"
   ]
  },
  {
   "cell_type": "code",
   "execution_count": 10,
   "id": "ce3304af-bc90-48d0-a0ef-ec30c930dfcc",
   "metadata": {},
   "outputs": [
    {
     "name": "stdout",
     "output_type": "stream",
     "text": [
      "Unique Numbers: [1, 2, 3, 4, 5]\n"
     ]
    }
   ],
   "source": [
    "#Q3. Remove duplicates from a list using a set\n",
    "nums = [1, 2, 2, 3, 4, 4, 5]\n",
    "unique_nums = list(set(nums))\n",
    "print(\"Unique Numbers:\", unique_nums)"
   ]
  },
  {
   "cell_type": "code",
   "execution_count": 12,
   "id": "5ed713ee-7abb-4b7d-a4c0-9852b58dfb56",
   "metadata": {},
   "outputs": [
    {
     "name": "stdout",
     "output_type": "stream",
     "text": [
      "name => Aditya\n",
      "age => 23\n",
      "course => Data Science\n"
     ]
    }
   ],
   "source": [
    "#Q4. Loop through dictionary and print keys and values\n",
    "student = {'name': 'Aditya', 'age': 23, 'course': 'Data Science'}\n",
    "for key, value in student.items():\n",
    "    print(f\"{key} => {value}\")"
   ]
  },
  {
   "cell_type": "code",
   "execution_count": 13,
   "id": "ba30cdb8-798b-451e-9f03-88a4313b7815",
   "metadata": {},
   "outputs": [
    {
     "name": "stdout",
     "output_type": "stream",
     "text": [
      "True\n",
      "False\n"
     ]
    }
   ],
   "source": [
    "#Q5. Check whether a number is prime using function\n",
    "def is_prime(n):\n",
    "    if n <= 1:\n",
    "        return False\n",
    "    for i in range(2, int(n**0.5)+1):\n",
    "        if n % i == 0:\n",
    "            return False\n",
    "    return True\n",
    "\n",
    "print(is_prime(7))\n",
    "print(is_prime(15))"
   ]
  },
  {
   "cell_type": "code",
   "execution_count": 14,
   "id": "65ac6974-5854-4ad3-b942-e0536b516fff",
   "metadata": {},
   "outputs": [
    {
     "name": "stdout",
     "output_type": "stream",
     "text": [
      "0 1 1 2 3 5 8 13 21 34 "
     ]
    }
   ],
   "source": [
    "#Q6. Print Fibonacci series using loop and function\n",
    "def fibonacci(n):\n",
    "    a, b = 0, 1\n",
    "    for _ in range(n):\n",
    "        print(a, end=' ')\n",
    "        a, b = b, a + b\n",
    "\n",
    "fibonacci(10)"
   ]
  },
  {
   "cell_type": "code",
   "execution_count": 15,
   "id": "19d1e257-f22e-4f76-8c55-05a21bb45d2b",
   "metadata": {},
   "outputs": [
    {
     "name": "stdout",
     "output_type": "stream",
     "text": [
      "Squares Dictionary: {1: 1, 2: 4, 3: 9, 4: 16, 5: 25, 6: 36, 7: 49, 8: 64, 9: 81, 10: 100}\n"
     ]
    }
   ],
   "source": [
    "#Q7. Create dictionary of square of all numbers from 1 to 10\n",
    "squares = {}\n",
    "for i in range(1, 11):\n",
    "    squares[i] = i*i\n",
    "print(\"Squares Dictionary:\", squares)"
   ]
  },
  {
   "cell_type": "code",
   "execution_count": 16,
   "id": "8859f171-9e5c-4d14-8dcc-2de2ee7b7187",
   "metadata": {},
   "outputs": [
    {
     "name": "stdout",
     "output_type": "stream",
     "text": [
      "Reversed Number: 54321\n"
     ]
    }
   ],
   "source": [
    "# Q8. Use while loop to reverse digits of a number\n",
    "num = 12345\n",
    "rev = 0\n",
    "while num > 0:\n",
    "    rev = rev * 10 + num % 10\n",
    "    num //= 10\n",
    "print(\"Reversed Number:\", rev)"
   ]
  },
  {
   "cell_type": "code",
   "execution_count": 18,
   "id": "833ec0dd-e8b4-40f6-bd33-8eabbcc2c853",
   "metadata": {},
   "outputs": [
    {
     "name": "stdin",
     "output_type": "stream",
     "text": [
      "Enter name:  Tushar\n",
      "Enter name:  Aditya\n",
      "Enter name:  Mayank\n",
      "Enter name:  Yash\n",
      "Enter name:  Gitanshu\n"
     ]
    },
    {
     "name": "stdout",
     "output_type": "stream",
     "text": [
      "All names: ['Tushar', 'Aditya', 'Mayank', 'Yash', 'Gitanshu']\n"
     ]
    }
   ],
   "source": [
    "# Q9. Take input of 5 names and store in a list using loop\n",
    "names = []\n",
    "for _ in range(5):\n",
    "    name = input(\"Enter name: \")\n",
    "    names.append(name)\n",
    "\n",
    "print(\"All names:\", names)"
   ]
  },
  {
   "cell_type": "code",
   "execution_count": 19,
   "id": "8e5ca79d-0081-4c40-b814-f1418fe5bcb1",
   "metadata": {},
   "outputs": [
    {
     "name": "stdout",
     "output_type": "stream",
     "text": [
      "Vowel Count: 5\n"
     ]
    }
   ],
   "source": [
    "#Q10. Function to count vowels in a given string\n",
    "def count_vowels(string):\n",
    "    vowels = 'aeiouAEIOU'\n",
    "    count = 0\n",
    "    for ch in string:\n",
    "        if ch in vowels:\n",
    "            count += 1\n",
    "    return count\n",
    "\n",
    "print(\"Vowel Count:\", count_vowels(\"Hello Aditya\"))"
   ]
  },
  {
   "cell_type": "code",
   "execution_count": null,
   "id": "b36eff89-f308-42ce-bce5-b3b2f8e82236",
   "metadata": {},
   "outputs": [],
   "source": []
  }
 ],
 "metadata": {
  "kernelspec": {
   "display_name": "Python [conda env:base] *",
   "language": "python",
   "name": "conda-base-py"
  },
  "language_info": {
   "codemirror_mode": {
    "name": "ipython",
    "version": 3
   },
   "file_extension": ".py",
   "mimetype": "text/x-python",
   "name": "python",
   "nbconvert_exporter": "python",
   "pygments_lexer": "ipython3",
   "version": "3.13.5"
  }
 },
 "nbformat": 4,
 "nbformat_minor": 5
}
