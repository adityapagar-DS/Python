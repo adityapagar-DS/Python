{
 "cells": [
  {
   "cell_type": "code",
   "execution_count": 1,
   "id": "d634f1d0",
   "metadata": {},
   "outputs": [
    {
     "name": "stdout",
     "output_type": "stream",
     "text": [
      "Second largest number: 67\n"
     ]
    }
   ],
   "source": [
    "#1. Write a program to find the second largest number in a list.\n",
    "numbers = [12, 45, 23, 67, 34, 89]\n",
    "unique_numbers = list(set(numbers))\n",
    "unique_numbers.sort()\n",
    "print(\"Second largest number:\", unique_numbers[-2])"
   ]
  },
  {
   "cell_type": "code",
   "execution_count": 2,
   "id": "ef968be6",
   "metadata": {},
   "outputs": [
    {
     "name": "stdout",
     "output_type": "stream",
     "text": [
      "Number of vowels: 7\n"
     ]
    }
   ],
   "source": [
    "#2.Write a program to count vowels in a string.\n",
    "text = \"Data Science with Python\"\n",
    "vowels = \"aeiouAEIOU\"\n",
    "count = 0\n",
    "for ch in text:\n",
    "    if ch in vowels:\n",
    "        count += 1\n",
    "print(\"Number of vowels:\", count)"
   ]
  },
  {
   "cell_type": "code",
   "execution_count": 3,
   "id": "50192b79",
   "metadata": {},
   "outputs": [
    {
     "name": "stdout",
     "output_type": "stream",
     "text": [
      "Common elements: {4, 5}\n"
     ]
    }
   ],
   "source": [
    "#3.Write a program to find common elements between two sets.\n",
    "set1 = {1, 2, 3, 4, 5}\n",
    "set2 = {4, 5, 6, 7, 8}\n",
    "print(\"Common elements:\", set1 & set2)"
   ]
  },
  {
   "cell_type": "code",
   "execution_count": 4,
   "id": "69d5796f",
   "metadata": {},
   "outputs": [
    {
     "name": "stdout",
     "output_type": "stream",
     "text": [
      "Sum of digits: 15\n"
     ]
    }
   ],
   "source": [
    "#4.Write a program to find the sum of digits of a number.\n",
    "num = 12345\n",
    "s = 0\n",
    "for digit in str(num):\n",
    "    s += int(digit)\n",
    "print(\"Sum of digits:\", s)"
   ]
  },
  {
   "cell_type": "code",
   "execution_count": 5,
   "id": "1357fdd7",
   "metadata": {},
   "outputs": [
    {
     "name": "stdout",
     "output_type": "stream",
     "text": [
      "madam is a palindrome\n"
     ]
    }
   ],
   "source": [
    "#5.Write a program to check if a string is palindrome.\n",
    "text = \"madam\"\n",
    "if text == text[::-1]:\n",
    "    print(text, \"is a palindrome\")\n",
    "else:\n",
    "    print(text, \"is not a palindrome\")"
   ]
  },
  {
   "cell_type": "code",
   "execution_count": 6,
   "id": "193b1425",
   "metadata": {},
   "outputs": [
    {
     "name": "stdout",
     "output_type": "stream",
     "text": [
      "a: 20 b: 10\n"
     ]
    }
   ],
   "source": [
    "#6.Write a program to swap values of two variables without using a third variable.\n",
    "a, b = 10, 20\n",
    "a, b = b, a\n",
    "print(\"a:\", a, \"b:\", b)"
   ]
  },
  {
   "cell_type": "code",
   "execution_count": 7,
   "id": "f11b34f5",
   "metadata": {},
   "outputs": [
    {
     "name": "stdout",
     "output_type": "stream",
     "text": [
      "Updated set: {50, 20, 40, 10}\n"
     ]
    }
   ],
   "source": [
    "#7. Write a program to remove a specific element from a set.\n",
    "s = {10, 20, 30, 40, 50}\n",
    "s.remove(30)\n",
    "print(\"Updated set:\", s)"
   ]
  },
  {
   "cell_type": "code",
   "execution_count": 8,
   "id": "680bb2c6",
   "metadata": {},
   "outputs": [
    {
     "name": "stdout",
     "output_type": "stream",
     "text": [
      "{'name': 'Aditya', 'age': 23, 'course': 'Data Science'}\n"
     ]
    }
   ],
   "source": [
    "#8.Write a program to create a dictionary from two lists.\n",
    "keys = [\"name\", \"age\", \"course\"]\n",
    "values = [\"Aditya\", 23, \"Data Science\"]\n",
    "student = dict(zip(keys, values))\n",
    "print(student)"
   ]
  },
  {
   "cell_type": "code",
   "execution_count": 9,
   "id": "773cb772",
   "metadata": {},
   "outputs": [
    {
     "name": "stdout",
     "output_type": "stream",
     "text": [
      "LCM: 36\n"
     ]
    }
   ],
   "source": [
    "#9.Write a program to calculate LCM of two numbers.\n",
    "a, b = 12, 18\n",
    "greater = max(a, b)\n",
    "while True:\n",
    "    if greater % a == 0 and greater % b == 0:\n",
    "        lcm = greater\n",
    "        break\n",
    "    greater += 1\n",
    "print(\"LCM:\", lcm)"
   ]
  },
  {
   "cell_type": "code",
   "execution_count": 10,
   "id": "ce6f29d4",
   "metadata": {},
   "outputs": [
    {
     "name": "stdout",
     "output_type": "stream",
     "text": [
      "1 \n",
      "1 2 \n",
      "1 2 3 \n",
      "1 2 3 4 \n",
      "1 2 3 4 5 \n"
     ]
    }
   ],
   "source": [
    "#10.Write a program to print a number pattern triangle.\n",
    "rows = 5\n",
    "for i in range(1, rows+1):\n",
    "    for j in range(1, i+1):\n",
    "        print(j, end=\" \")\n",
    "    print()"
   ]
  },
  {
   "cell_type": "code",
   "execution_count": null,
   "id": "a541e9d5-2c8e-4f43-8f9e-98a0b35efa2a",
   "metadata": {},
   "outputs": [],
   "source": []
  }
 ],
 "metadata": {
  "kernelspec": {
   "display_name": "Python [conda env:base] *",
   "language": "python",
   "name": "conda-base-py"
  },
  "language_info": {
   "codemirror_mode": {
    "name": "ipython",
    "version": 3
   },
   "file_extension": ".py",
   "mimetype": "text/x-python",
   "name": "python",
   "nbconvert_exporter": "python",
   "pygments_lexer": "ipython3",
   "version": "3.13.5"
  }
 },
 "nbformat": 4,
 "nbformat_minor": 5
}
