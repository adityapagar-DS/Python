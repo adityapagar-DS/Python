{
 "cells": [
  {
   "cell_type": "code",
   "execution_count": null,
   "id": "a4a60574-2eb3-44c5-b646-09f6a496226d",
   "metadata": {},
   "outputs": [],
   "source": [
    "'''MINI PROJECT ON LOOP'''\n",
    "'''Number Guessing Game'''"
   ]
  },
  {
   "cell_type": "code",
   "execution_count": 1,
   "id": "d6cae676-a827-4852-9c46-23ef75150176",
   "metadata": {},
   "outputs": [],
   "source": [
    "#Concepts:while loop, random module, if-else logic"
   ]
  },
  {
   "cell_type": "code",
   "execution_count": 2,
   "id": "ae7bf9e1-b032-4f1d-81e2-86827a977a5c",
   "metadata": {},
   "outputs": [],
   "source": [
    "# Problem: Let the program generate a random number between 1 and 100."
   ]
  },
  {
   "cell_type": "code",
   "execution_count": 7,
   "id": "249da0af-8de5-4da6-acab-f7dc5a170edd",
   "metadata": {},
   "outputs": [
    {
     "name": "stdout",
     "output_type": "stream",
     "text": [
      "Guess the number in between 1 and 100!\n"
     ]
    },
    {
     "name": "stdin",
     "output_type": "stream",
     "text": [
      "Entre your guess number: 10\n"
     ]
    },
    {
     "name": "stdout",
     "output_type": "stream",
     "text": [
      "Your number is too low!, Try Again\n"
     ]
    },
    {
     "name": "stdin",
     "output_type": "stream",
     "text": [
      "Entre your guess number: 25\n"
     ]
    },
    {
     "name": "stdout",
     "output_type": "stream",
     "text": [
      "Your number is too high!, Try Again\n"
     ]
    },
    {
     "name": "stdin",
     "output_type": "stream",
     "text": [
      "Entre your guess number: 12\n"
     ]
    },
    {
     "name": "stdout",
     "output_type": "stream",
     "text": [
      "Your number is too low!, Try Again\n"
     ]
    },
    {
     "name": "stdin",
     "output_type": "stream",
     "text": [
      "Entre your guess number: 15\n"
     ]
    },
    {
     "name": "stdout",
     "output_type": "stream",
     "text": [
      "Your number is too low!, Try Again\n"
     ]
    },
    {
     "name": "stdin",
     "output_type": "stream",
     "text": [
      "Entre your guess number: 18\n"
     ]
    },
    {
     "name": "stdout",
     "output_type": "stream",
     "text": [
      "Your number is too low!, Try Again\n"
     ]
    },
    {
     "name": "stdin",
     "output_type": "stream",
     "text": [
      "Entre your guess number: 20\n"
     ]
    },
    {
     "name": "stdout",
     "output_type": "stream",
     "text": [
      "Your number is too low!, Try Again\n"
     ]
    },
    {
     "name": "stdin",
     "output_type": "stream",
     "text": [
      "Entre your guess number: 22\n"
     ]
    },
    {
     "name": "stdout",
     "output_type": "stream",
     "text": [
      "Correct! You guessed the number in 7 tries.\n"
     ]
    }
   ],
   "source": [
    "#By using random function to select the number in range (1,100)\n",
    "import random\n",
    "target = random.randint(1,100)\n",
    "attempts = 0\n",
    "print (\"Guess the number in between 1 and 100!\")\n",
    "\n",
    "while True:\n",
    "    guess = int(input (\"Entre your guess number:\"))\n",
    "    attempts +=1\n",
    "\n",
    "    if guess < target:\n",
    "        print (\"Your number is too low!, Try Again\")\n",
    "    elif guess > target: \n",
    "        print (\"Your number is too high!, Try Again\")\n",
    "    else:\n",
    "        print(f\"Correct! You guessed the number in {attempts} tries.\") \n",
    "        break"
   ]
  },
  {
   "cell_type": "code",
   "execution_count": 8,
   "id": "8d099ec0-a5ae-4934-8fd0-f45dcea3af08",
   "metadata": {},
   "outputs": [
    {
     "name": "stdin",
     "output_type": "stream",
     "text": [
      "Entre your guess number: 42\n"
     ]
    },
    {
     "name": "stdout",
     "output_type": "stream",
     "text": [
      "Your number is too high!, Try Again\n"
     ]
    },
    {
     "name": "stdin",
     "output_type": "stream",
     "text": [
      "Entre your guess number: 38\n"
     ]
    },
    {
     "name": "stdout",
     "output_type": "stream",
     "text": [
      "Your number is too low!, Try Again\n"
     ]
    },
    {
     "name": "stdin",
     "output_type": "stream",
     "text": [
      "Entre your guess number: 40\n"
     ]
    },
    {
     "name": "stdout",
     "output_type": "stream",
     "text": [
      "Correct! You guessed the number in 10 tries.\n"
     ]
    }
   ],
   "source": [
    "#By using manually to select the number in range (1,100)\n",
    "selected_number= 40\n",
    "attempt = 0\n",
    "\n",
    "while True:\n",
    "    guess = int(input (\"Entre your guess number:\"))\n",
    "    attempts +=1\n",
    "    \n",
    "    if guess < selected_number:\n",
    "        print (\"Your number is too low!, Try Again\")\n",
    "    elif guess > selected_number:\n",
    "        print (\"Your number is too high!, Try Again\")\n",
    "    else :\n",
    "        print (f\"Correct! You guessed the number in {attempts} tries.\")\n",
    "        break"
   ]
  },
  {
   "cell_type": "code",
   "execution_count": null,
   "id": "03596e34-daa5-4a14-9bd3-be201f698d35",
   "metadata": {},
   "outputs": [],
   "source": []
  },
  {
   "cell_type": "code",
   "execution_count": null,
   "id": "a24d9a02-d80a-4c6b-9204-7b1f295e0479",
   "metadata": {},
   "outputs": [],
   "source": [
    "'''MINI PROJECT ON LOOP'''\n",
    "'''Number Analyzer Toolkit'''"
   ]
  },
  {
   "cell_type": "code",
   "execution_count": 12,
   "id": "1447e6a9-e247-4665-be1c-e89aa47863bd",
   "metadata": {},
   "outputs": [],
   "source": [
    "#Problem Statement:\n",
    "\n",
    "#1)Take any number as input from the user, and:\n",
    "\n",
    "#2)Check if it is Prime\n",
    "\n",
    "#3)Check if it is Palindrome\n",
    "\n",
    "#4)Check if it is an Armstrong number\n",
    "\n",
    "#5)Check if it is a Strong number\n",
    "\n",
    "#6)Show the Sum of its digits\n",
    "\n",
    "#7)Show the Reverse of the number"
   ]
  },
  {
   "cell_type": "code",
   "execution_count": 18,
   "id": "eb268a1b-b9c9-47e1-8052-42ce2c793474",
   "metadata": {},
   "outputs": [
    {
     "name": "stdin",
     "output_type": "stream",
     "text": [
      "Enter any number: 171\n"
     ]
    },
    {
     "name": "stdout",
     "output_type": "stream",
     "text": [
      "---------------------------------\n",
      "Analysis Report for Number: 171\n",
      "---------------------------------\n",
      "Answer is in form of (Yes or No)\n",
      "---------------------------------\n",
      "Palindrome: Yes\n",
      "Prime: No\n",
      "Armstrong: No\n",
      "Strong Number: No\n",
      "Sum of Digits: 9\n",
      "Reverse: 171\n"
     ]
    }
   ],
   "source": [
    "def is_prime(n):\n",
    "    if n < 2:\n",
    "        return False\n",
    "    for i in range(2, int(n**0.5)+1):\n",
    "        if n % i == 0:\n",
    "            return False\n",
    "    return True\n",
    "\n",
    "def is_palindrome(n):\n",
    "    return str(n) == str(n)[::-1]\n",
    "\n",
    "def is_armstrong(n):\n",
    "    digits = str(n)\n",
    "    power = len(digits)\n",
    "    total = sum(int(d)**power for d in digits)\n",
    "    return total == n\n",
    "\n",
    "def is_strong(n):\n",
    "    import math\n",
    "    total = 0\n",
    "    for d in str(n):\n",
    "        total += math.factorial(int(d))\n",
    "    return total == n\n",
    "\n",
    "def sum_of_digits(n):\n",
    "    return sum(int(d) for d in str(n))\n",
    "\n",
    "def reverse_number(n):\n",
    "    return int(str(n)[::-1])\n",
    "\n",
    "\n",
    "num = int(input(\"Enter any number:\"))\n",
    "print(\"---------------------------------\")\n",
    "print(\"Analysis Report for Number:\", num)\n",
    "print(\"---------------------------------\")\n",
    "print(\"Answer is in form of (Yes or No)\")\n",
    "print(\"---------------------------------\")\n",
    "print(\"Palindrome:\",\"Yes\" if is_palindrome(num) else \"No\")\n",
    "print(\"Prime:\", \"Yes\" if is_prime(num) else \"No\")\n",
    "print(\"Armstrong:\", \"Yes\" if is_armstrong(num) else \"No\")\n",
    "print(\"Strong Number:\", \"Yes\" if is_strong(num) else \"No\")\n",
    "print(\"Sum of Digits:\", sum_of_digits(num))\n",
    "print(\"Reverse:\", reverse_number(num))"
   ]
  },
  {
   "cell_type": "code",
   "execution_count": null,
   "id": "e72f43ba-0c3c-44b8-8561-4fe4542e68b2",
   "metadata": {},
   "outputs": [],
   "source": []
  }
 ],
 "metadata": {
  "kernelspec": {
   "display_name": "Python [conda env:base] *",
   "language": "python",
   "name": "conda-base-py"
  },
  "language_info": {
   "codemirror_mode": {
    "name": "ipython",
    "version": 3
   },
   "file_extension": ".py",
   "mimetype": "text/x-python",
   "name": "python",
   "nbconvert_exporter": "python",
   "pygments_lexer": "ipython3",
   "version": "3.13.5"
  }
 },
 "nbformat": 4,
 "nbformat_minor": 5
}
